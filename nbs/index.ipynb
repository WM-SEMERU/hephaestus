{
 "cells": [
  {
   "cell_type": "code",
   "execution_count": null,
   "metadata": {},
   "outputs": [],
   "source": [
    "#hide\n",
    "\n",
    "# this allows us to import modules from one directory back\n",
    "import sys\n",
    "sys.path.append(\"..\")\n",
    "\n",
    "# import necessary stuff from modules\n",
    "# from hephaestus.EditOperations import *"
   ]
  },
  {
   "cell_type": "markdown",
   "metadata": {},
   "source": [
    "# Hephaestus\n",
    "\n",
    "> Using neural machine translation for buggy code repair"
   ]
  },
  {
   "cell_type": "markdown",
   "metadata": {},
   "source": [
    "## Overview\n",
    "\n",
    "Recent approaches to automatic code repair have seen the use of neural machine translation (NMT) models to translate buggy code into fixed code. These models are trained with the buggy and fixed abstracted code token sequences directly, as in [this paper](https://arxiv.org/pdf/1812.08693.pdf) by Tufano et al. Hephaestus aims to use similar models, but train them with [Edit Operations](/hephaestus/EditOperations.html) instead of the traditional approach mentioned above. Thus, we train the models with the \"difference\" between the buggy and fixed code.\n",
    "\n",
    "Hephaestus provides a modular framework from which researchers can reproduce or extend this work."
   ]
  },
  {
   "cell_type": "markdown",
   "metadata": {},
   "source": [
    "## Installation\n",
    "\n",
    "Hephaestus requires the following Python dependencies:\n",
    "\n",
    "- OpenNMT-py (version == 2.0.1)\n",
    "\n",
    "    ```\n",
    "    pip install OpenNMT-py==2.0.1\n",
    "    ```\n",
    "\n",
    "    If the above command fails because dependencies were not able to be installed, then use:\n",
    "\n",
    "    ```\n",
    "    pip install OpenNMT-py==2.0.1 --no-deps\n",
    "    ```\n",
    "\n",
    "- PyTorch (version >= 1.6.0)\n",
    "\n",
    "    ```\n",
    "    pip install torch>=1.6.0+cu111\n",
    "    ```\n",
    "\n",
    "    If the above command fails, then install PyTorch from source as given by the PyTorch\n",
    "    [website](https://pytorch.org/get-started/locally/):\n",
    "\n",
    "    ```\n",
    "    pip3 install torch==1.8.1+cu111 torchvision==0.9.1+cu111 torchaudio===0.8.1 -f https://download.pytorch.org/whl/torch_stable.html\n",
    "    ```\n",
    "\n",
    "- Pandas\n",
    "\n",
    "    ```\n",
    "    pip install pandas\n",
    "    ```\n",
    "\n",
    "- Matplotlib\n",
    "\n",
    "    ```\n",
    "    pip install matplotlib\n",
    "    ```\n",
    "\n",
    "Once the dependencies have been installed, clone the repository with:\n",
    "\n",
    "```\n",
    "git clone https://github.com/WM-SEMERU/hephaestus.git\n",
    "```\n",
    "\n",
    "From there, feel free to run the Jupyter notebooks in the `nbs` directory to your heart's content!\n",
    "\n",
    "This project was built using [nbdev](https://nbdev.fast.ai/). If you would like to modify the Hephaestus library for research purposes, then you must install nbdev according to the instructions in the link above."
   ]
  },
  {
   "cell_type": "markdown",
   "metadata": {},
   "source": [
    "## Documentation\n",
    "\n",
    "Find our documentation [here](https://wm-semeru.github.io/hephaestus/)."
   ]
  }
 ],
 "metadata": {
  "kernelspec": {
   "display_name": "Python 3.9.4 64-bit",
   "name": "python38564bit1ada39ffdf0c4119935a34ccde4922f3"
  }
 },
 "nbformat": 4,
 "nbformat_minor": 2
}
