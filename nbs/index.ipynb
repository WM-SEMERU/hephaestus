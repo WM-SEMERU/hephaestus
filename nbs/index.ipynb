{
 "cells": [
  {
   "cell_type": "code",
   "execution_count": 3,
   "metadata": {},
   "outputs": [],
   "source": [
    "#hide\n",
    "\n",
    "# this allows us to import modules from one directory back\n",
    "import sys\n",
    "sys.path.append(\"..\")\n",
    "\n",
    "# import necessary stuff from modules\n",
    "# from hephaestus.EditOperations import *"
   ]
  },
  {
   "cell_type": "markdown",
   "metadata": {},
   "source": [
    "# Hephaestus\n",
    "\n",
    "> Summary description here"
   ]
  }
 ],
 "metadata": {
  "kernelspec": {
   "name": "python394jvsc74a57bd0643e2b53eabc93377e95b07774b60b49bf379f8a09a9dbf1d193d7cd19dee0e4",
   "display_name": "Python 3.9.4 64-bit (windows store)"
  },
  "metadata": {
   "interpreter": {
    "hash": "643e2b53eabc93377e95b07774b60b49bf379f8a09a9dbf1d193d7cd19dee0e4"
   }
  }
 },
 "nbformat": 4,
 "nbformat_minor": 2
}