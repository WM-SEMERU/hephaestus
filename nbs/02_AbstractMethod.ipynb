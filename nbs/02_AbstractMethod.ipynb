{
 "cells": [
  {
   "cell_type": "code",
   "execution_count": null,
   "metadata": {},
   "outputs": [],
   "source": [
    "#default_exp AbstractMethod"
   ]
  },
  {
   "cell_type": "code",
   "execution_count": null,
   "metadata": {},
   "outputs": [],
   "source": [
    "#export\n",
    "#hide\n",
    "from typing import Union, List\n",
    "\n",
    "import sys\n",
    "sys.path.append(\"..\")\n",
    "\n",
    "from hephaestus.EditOperations import *"
   ]
  },
  {
   "cell_type": "code",
   "execution_count": null,
   "metadata": {},
   "outputs": [],
   "source": [
    "#hide\n",
    "from nbdev.showdoc import *"
   ]
  },
  {
   "cell_type": "markdown",
   "metadata": {},
   "source": [
    "# AbstractMethod\n",
    "\n",
    "> Defines the AbstractMethod class which represents a token-abstracted Java method."
   ]
  },
  {
   "cell_type": "code",
   "execution_count": null,
   "metadata": {},
   "outputs": [],
   "source": [
    "#export\n",
    "class AbstractMethod:\n",
    "    \"\"\"\n",
    "    Creates an AbstractMethod from the given `tokens`, which can be either:\n",
    "\n",
    "    - a string with tokens delimited by `delimiter` (defaults to a single space)\n",
    "    - a list of tokens\n",
    "\n",
    "    Note that empty tokens are ignored.\n",
    "    \"\"\"\n",
    "\n",
    "    def __init__(self, tokens: Union[str, List[str]], delimiter: str = \" \") -> None:\n",
    "\n",
    "        if type(tokens) is str:\n",
    "            self.__tokens = [] if len(tokens) == 0 else tokens.split(delimiter)\n",
    "        else:\n",
    "            self.__tokens = tokens.copy()\n",
    "        \n",
    "        # remove empty tokens\n",
    "        self.__tokens = [token for token in self.__tokens if token != \"\"]\n",
    "    \n",
    "    def __eq__(self, other: \"AbstractMethod\") -> bool:\n",
    "        return type(other) is AbstractMethod and self.__tokens == other.__tokens\n",
    "    \n",
    "    def __getitem__(self, key: int) -> str:\n",
    "        return self.__tokens[key]\n",
    "    \n",
    "    def __len__(self) -> int:\n",
    "        return len(self.__tokens)\n",
    "\n",
    "    def __str__(self) -> str:\n",
    "        return repr(\" \".join(self.__tokens))[1:-1]\n",
    "\n",
    "    def __repr__(self) -> str:\n",
    "        return str(self)\n",
    "    \n",
    "    def applyEditOperation(self, operation: EditOperation):\n",
    "        \"\"\"\n",
    "        Applies the given `operation`.\n",
    "        \"\"\"\n",
    "        operation.applyToTokens(self.__tokens)\n",
    "\n",
    "    def applyEditOperations(self, operations: List[EditOperation]):\n",
    "        \"\"\"\n",
    "        Applies the given list of `operations` in order.\n",
    "        \"\"\"\n",
    "        for op in operations:\n",
    "            self.applyEditOperation(op)\n",
    "    \n",
    "    def getEditOperationsTo(self, other: \"AbstractMethod\") -> List[Union[InsertOperation, DeleteOperation, ReplaceOperation]]:\n",
    "        \"\"\"\n",
    "        Returns the minimal list of basic edit operations (no CompoundOperations), which if applied, would\n",
    "        result in the `AbstractMethod` given by `other`. The length of the returned list is the Levenshtein\n",
    "        distance to `other`.\n",
    "        \"\"\"\n",
    "        \n",
    "        matrix = self.__getEditOpsMatrix(other)\n",
    "        editOps = []\n",
    "\n",
    "        r = len(matrix) - 1\n",
    "        c = len(matrix[0]) - 1\n",
    "\n",
    "        while True:\n",
    "            if matrix[r][c] == 0:\n",
    "                break\n",
    "            elif r == 0:\n",
    "                c -= 1\n",
    "                editOps.insert(0, InsertOperation(c, other[c]))\n",
    "            elif c == 0:\n",
    "                r -= 1\n",
    "                editOps.insert(0, DeleteOperation(c))\n",
    "            elif self[r - 1] == other[c - 1]:\n",
    "                r -= 1\n",
    "                c -= 1\n",
    "            elif matrix[r][c] == matrix[r - 1][c - 1] + 1:\n",
    "                r -= 1\n",
    "                c -= 1\n",
    "                editOps.insert(0, ReplaceOperation(c, other[c]))\n",
    "            elif matrix[r][c] == matrix[r][c - 1] + 1:\n",
    "                c -= 1\n",
    "                editOps.insert(0, InsertOperation(c, other[c]))\n",
    "            elif matrix[r][c] == matrix[r - 1][c] + 1:\n",
    "                r -= 1\n",
    "                editOps.insert(0, DeleteOperation(c))\n",
    "            else:\n",
    "                raise RuntimeError(\"AbstractMethod: invalid matrix!\")\n",
    "        \n",
    "        return editOps\n",
    "\n",
    "    def __getEditOpsMatrix(self, other: \"AbstractMethod\") -> List[List[int]]:\n",
    "\n",
    "        numRows = len(self) + 1\n",
    "        numCols = len(other) + 1\n",
    "\n",
    "        # initialize matrix\n",
    "        matrix = []\n",
    "        for r in range(numRows):\n",
    "            matrix.append([c if r == 0 else 0 for c in range(numCols)])\n",
    "            matrix[r][0] = r\n",
    "        \n",
    "        # iterate through matrix and assign values\n",
    "        for r in range(1, numRows):\n",
    "            for c in range(1, numCols):\n",
    "\n",
    "                left =    matrix[r    ][c - 1]\n",
    "                topLeft = matrix[r - 1][c - 1]\n",
    "                top =     matrix[r - 1][c    ]\n",
    "\n",
    "                if self[r - 1] == other[c - 1]:\n",
    "                    matrix[r][c] = topLeft\n",
    "                else:\n",
    "                    matrix[r][c] = min(left, topLeft, top) + 1\n",
    "\n",
    "        return matrix"
   ]
  },
  {
   "cell_type": "code",
   "execution_count": null,
   "metadata": {},
   "outputs": [
    {
     "data": {
      "text/plain": [
       "private static int METHOD_1 ( ) { return 0 ; }"
      ]
     },
     "execution_count": null,
     "metadata": {},
     "output_type": "execute_result"
    }
   ],
   "source": [
    "method1 = AbstractMethod(\"private static int METHOD_1 ( ) { return 0 ; }\")\n",
    "method1"
   ]
  },
  {
   "cell_type": "code",
   "execution_count": null,
   "metadata": {},
   "outputs": [
    {
     "data": {
      "text/plain": [
       "public double METHOD_1 ( double VAR_1 ) { return VAR_1 ; }"
      ]
     },
     "execution_count": null,
     "metadata": {},
     "output_type": "execute_result"
    }
   ],
   "source": [
    "method2 = AbstractMethod(\"public double METHOD_1 ( double VAR_1 ) { return VAR_1 ; }\")\n",
    "method2"
   ]
  },
  {
   "cell_type": "markdown",
   "metadata": {},
   "source": [
    "## Interact with Edit Operations"
   ]
  },
  {
   "cell_type": "code",
   "execution_count": null,
   "metadata": {},
   "outputs": [
    {
     "data": {
      "text/markdown": [
       "<h4 id=\"AbstractMethod.getEditOperationsTo\" class=\"doc_header\"><code>AbstractMethod.getEditOperationsTo</code><a href=\"__main__.py#L50\" class=\"source_link\" style=\"float:right\">[source]</a></h4>\n",
       "\n",
       "> <code>AbstractMethod.getEditOperationsTo</code>(**`other`**:[`AbstractMethod`](/hephaestus/AbstractMethod.html))\n",
       "\n",
       "Returns the minimal list of basic edit operations (no CompoundOperations), which if applied, would\n",
       "result in the [`AbstractMethod`](/hephaestus/AbstractMethod.html) given by `other`. The length of the returned list is the Levenshtein\n",
       "distance to `other`."
      ],
      "text/plain": [
       "<IPython.core.display.Markdown object>"
      ]
     },
     "metadata": {},
     "output_type": "display_data"
    }
   ],
   "source": [
    "#hide_input\n",
    "show_doc(AbstractMethod.getEditOperationsTo)"
   ]
  },
  {
   "cell_type": "code",
   "execution_count": null,
   "metadata": {},
   "outputs": [
    {
     "data": {
      "text/plain": [
       "[DELETE 0,\n",
       " REPLACE 0 -> 'public',\n",
       " REPLACE 1 -> 'double',\n",
       " INSERT 4 -> 'double',\n",
       " INSERT 5 -> 'VAR_1',\n",
       " REPLACE 9 -> 'VAR_1']"
      ]
     },
     "execution_count": null,
     "metadata": {},
     "output_type": "execute_result"
    }
   ],
   "source": [
    "method1 = AbstractMethod(\"private static int METHOD_1 ( ) { return 0 ; }\")\n",
    "method2 = AbstractMethod(\"public double METHOD_1 ( double VAR_1 ) { return VAR_1 ; }\")\n",
    "\n",
    "operations = method1.getEditOperationsTo(method2)\n",
    "\n",
    "operations"
   ]
  },
  {
   "cell_type": "code",
   "execution_count": null,
   "metadata": {},
   "outputs": [
    {
     "data": {
      "text/markdown": [
       "<h4 id=\"AbstractMethod.applyEditOperation\" class=\"doc_header\"><code>AbstractMethod.applyEditOperation</code><a href=\"__main__.py#L37\" class=\"source_link\" style=\"float:right\">[source]</a></h4>\n",
       "\n",
       "> <code>AbstractMethod.applyEditOperation</code>(**`operation`**:`Union`\\[[`InsertOperation`](/hephaestus/EditOperations.html#InsertOperation), [`DeleteOperation`](/hephaestus/EditOperations.html#DeleteOperation), [`ReplaceOperation`](/hephaestus/EditOperations.html#ReplaceOperation), [`CompoundOperation`](/hephaestus/EditOperations.html#CompoundOperation)\\])\n",
       "\n",
       "Applies the given `operation`."
      ],
      "text/plain": [
       "<IPython.core.display.Markdown object>"
      ]
     },
     "metadata": {},
     "output_type": "display_data"
    }
   ],
   "source": [
    "#hide_input\n",
    "show_doc(AbstractMethod.applyEditOperation)"
   ]
  },
  {
   "cell_type": "markdown",
   "metadata": {},
   "source": [
    "> Note: This changes the original `AbstractMethod`, so you should make a copy if you want to keep the original."
   ]
  },
  {
   "cell_type": "code",
   "execution_count": null,
   "metadata": {},
   "outputs": [
    {
     "data": {
      "text/markdown": [
       "<h4 id=\"AbstractMethod.applyEditOperations\" class=\"doc_header\"><code>AbstractMethod.applyEditOperations</code><a href=\"__main__.py#L43\" class=\"source_link\" style=\"float:right\">[source]</a></h4>\n",
       "\n",
       "> <code>AbstractMethod.applyEditOperations</code>(**`operations`**:`List`\\[`Union`\\[[`InsertOperation`](/hephaestus/EditOperations.html#InsertOperation), [`DeleteOperation`](/hephaestus/EditOperations.html#DeleteOperation), [`ReplaceOperation`](/hephaestus/EditOperations.html#ReplaceOperation), [`CompoundOperation`](/hephaestus/EditOperations.html#CompoundOperation)\\]\\])\n",
       "\n",
       "Applies the given list of `operations` in order."
      ],
      "text/plain": [
       "<IPython.core.display.Markdown object>"
      ]
     },
     "metadata": {},
     "output_type": "display_data"
    }
   ],
   "source": [
    "#hide_input\n",
    "show_doc(AbstractMethod.applyEditOperations)"
   ]
  },
  {
   "cell_type": "markdown",
   "metadata": {},
   "source": [
    "> Note: This changes the original `AbstractMethod`, so you should make a copy if you want to keep the original."
   ]
  },
  {
   "cell_type": "code",
   "execution_count": null,
   "metadata": {},
   "outputs": [],
   "source": [
    "method1 = AbstractMethod(\"private static int METHOD_1 ( ) { return 0 ; }\")\n",
    "method2 = AbstractMethod(\"public double METHOD_1 ( double VAR_1 ) { return VAR_1 ; }\")\n",
    "\n",
    "operations = method1.getEditOperationsTo(method2)\n",
    "method1.applyEditOperations(operations)"
   ]
  },
  {
   "cell_type": "code",
   "execution_count": null,
   "metadata": {},
   "outputs": [
    {
     "data": {
      "text/plain": [
       "public double METHOD_1 ( double VAR_1 ) { return VAR_1 ; }"
      ]
     },
     "execution_count": null,
     "metadata": {},
     "output_type": "execute_result"
    }
   ],
   "source": [
    "method1"
   ]
  },
  {
   "cell_type": "code",
   "execution_count": null,
   "metadata": {},
   "outputs": [
    {
     "data": {
      "text/plain": [
       "public double METHOD_1 ( double VAR_1 ) { return VAR_1 ; }"
      ]
     },
     "execution_count": null,
     "metadata": {},
     "output_type": "execute_result"
    }
   ],
   "source": [
    "method2"
   ]
  },
  {
   "cell_type": "code",
   "execution_count": null,
   "metadata": {},
   "outputs": [
    {
     "data": {
      "text/plain": [
       "True"
      ]
     },
     "execution_count": null,
     "metadata": {},
     "output_type": "execute_result"
    }
   ],
   "source": [
    "method1 == method2"
   ]
  }
 ],
 "metadata": {
  "kernelspec": {
   "display_name": "Python 3",
   "language": "python",
   "name": "python3"
  }
 },
 "nbformat": 4,
 "nbformat_minor": 2
}
