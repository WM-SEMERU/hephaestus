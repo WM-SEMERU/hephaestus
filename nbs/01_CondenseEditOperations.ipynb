{
 "cells": [
  {
   "cell_type": "code",
   "execution_count": 1,
   "metadata": {},
   "outputs": [],
   "source": [
    "#default_exp CondenseEditOperations"
   ]
  },
  {
   "cell_type": "code",
   "execution_count": 2,
   "metadata": {},
   "outputs": [],
   "source": [
    "#export\n",
    "#hide\n",
    "from typing import List\n",
    "\n",
    "import sys\n",
    "sys.path.append(\"..\")\n",
    "\n",
    "from hephaestus.EditOperations import *"
   ]
  },
  {
   "cell_type": "code",
   "execution_count": 3,
   "metadata": {},
   "outputs": [],
   "source": [
    "#hide\n",
    "from hephaestus.AbstractMethod import *"
   ]
  },
  {
   "source": [
    "# CondenseEditOperations\n",
    "\n",
    "> Provides utility functions to condense EditOperations into CompoundEditOperations."
   ],
   "cell_type": "markdown",
   "metadata": {}
  },
  {
   "cell_type": "code",
   "execution_count": 4,
   "metadata": {},
   "outputs": [],
   "source": [
    "#export\n",
    "def getCondensedBasic(operations: List[EditOperation]) -> List[CompoundOperation]:\n",
    "    \"\"\"\n",
    "    Returns a list of CompoundOperations from the given list of `operations` such that the lengths of the\n",
    "    input and output lists are equal. I.e. each `CompoundOperation` in the returned list represents just\n",
    "    one EditOperation.\n",
    "    \"\"\"\n",
    "\n",
    "    compoundOps = []\n",
    "\n",
    "    for op in operations:\n",
    "        compoundOps.append(CompoundOperation(op))\n",
    "\n",
    "    return compoundOps"
   ]
  },
  {
   "cell_type": "code",
   "execution_count": 5,
   "metadata": {},
   "outputs": [
    {
     "output_type": "execute_result",
     "data": {
      "text/plain": [
       "[COMPOUND_REPLACE 0:1 -> ['private'],\n",
       " COMPOUND_DELETE 1:2,\n",
       " COMPOUND_REPLACE 2:3 -> ['add2'],\n",
       " COMPOUND_INSERT 4 -> ['int'],\n",
       " COMPOUND_INSERT 5 -> ['x'],\n",
       " COMPOUND_DELETE 8:9,\n",
       " COMPOUND_DELETE 8:9,\n",
       " COMPOUND_DELETE 8:9,\n",
       " COMPOUND_INSERT 8 -> ['return'],\n",
       " COMPOUND_INSERT 9 -> ['x'],\n",
       " COMPOUND_INSERT 10 -> ['+'],\n",
       " COMPOUND_INSERT 11 -> ['2'],\n",
       " COMPOUND_INSERT 12 -> [';']]"
      ]
     },
     "metadata": {},
     "execution_count": 5
    }
   ],
   "source": [
    "compoundOps = getCondensedBasic([\n",
    "    ReplaceOperation( 0, \"private\"),\n",
    "    DeleteOperation ( 1           ),\n",
    "    ReplaceOperation( 2, \"add2\"   ),\n",
    "    InsertOperation ( 4, \"int\"    ),\n",
    "    InsertOperation ( 5, \"x\"      ),\n",
    "    DeleteOperation ( 8           ),\n",
    "    DeleteOperation ( 8           ),\n",
    "    DeleteOperation ( 8           ),\n",
    "    InsertOperation ( 8, \"return\" ),\n",
    "    InsertOperation ( 9, \"x\"      ),\n",
    "    InsertOperation (10, \"+\"      ),\n",
    "    InsertOperation (11, \"2\"      ),\n",
    "    InsertOperation (12, \";\"      )\n",
    "])\n",
    "\n",
    "compoundOps"
   ]
  },
  {
   "cell_type": "code",
   "execution_count": 6,
   "metadata": {},
   "outputs": [
    {
     "output_type": "execute_result",
     "data": {
      "text/plain": [
       "public static int foo ( ) { return 0 ; }"
      ]
     },
     "metadata": {},
     "execution_count": 6
    }
   ],
   "source": [
    "method = AbstractMethod(\"public static int foo ( ) { return 0 ; }\")\n",
    "method"
   ]
  },
  {
   "cell_type": "code",
   "execution_count": 7,
   "metadata": {},
   "outputs": [
    {
     "output_type": "execute_result",
     "data": {
      "text/plain": [
       "private int add2 ( int x ) { return x + 2 ; }"
      ]
     },
     "metadata": {},
     "execution_count": 7
    }
   ],
   "source": [
    "method.applyEditOperations(compoundOps)\n",
    "method"
   ]
  },
  {
   "cell_type": "code",
   "execution_count": 8,
   "metadata": {},
   "outputs": [],
   "source": [
    "#export\n",
    "def getCondensedLoose(operations: List[EditOperation]) -> List[CompoundOperation]:\n",
    "    \"\"\"\n",
    "    Returns a list of CompoundOperations from the given list of `operations` such that each `CompoundOperation`\n",
    "    in the returned list repesents EditOperations that are loosely compatible. This effectively \"condenses\" the\n",
    "    given list according to loose compatibility. The length of the returned list is minimized such that it is\n",
    "    as condensed as possible.\n",
    "    \"\"\"\n",
    "\n",
    "    compoundOps = []\n",
    "\n",
    "    if len(operations) > 0:\n",
    "        \n",
    "        compoundOps = [CompoundOperation(operations[0])]\n",
    "\n",
    "        for op in operations[1:]:\n",
    "            if not compoundOps[-1].addLoose(op):\n",
    "                compoundOps.append(CompoundOperation(op))\n",
    "    \n",
    "    return compoundOps"
   ]
  },
  {
   "cell_type": "code",
   "execution_count": 9,
   "metadata": {},
   "outputs": [
    {
     "output_type": "execute_result",
     "data": {
      "text/plain": [
       "[COMPOUND_REPLACE 0:2 -> ['private'],\n",
       " COMPOUND_REPLACE 2:3 -> ['add2'],\n",
       " COMPOUND_INSERT 4 -> ['int', 'x'],\n",
       " COMPOUND_REPLACE 8:11 -> ['return', 'x', '+', '2', ';']]"
      ]
     },
     "metadata": {},
     "execution_count": 9
    }
   ],
   "source": [
    "compoundOps = getCondensedLoose([\n",
    "    ReplaceOperation( 0, \"private\"),\n",
    "    DeleteOperation ( 1           ),\n",
    "    ReplaceOperation( 2, \"add2\"   ),\n",
    "    InsertOperation ( 4, \"int\"    ),\n",
    "    InsertOperation ( 5, \"x\"      ),\n",
    "    DeleteOperation ( 8           ),\n",
    "    DeleteOperation ( 8           ),\n",
    "    DeleteOperation ( 8           ),\n",
    "    InsertOperation ( 8, \"return\" ),\n",
    "    InsertOperation ( 9, \"x\"      ),\n",
    "    InsertOperation (10, \"+\"      ),\n",
    "    InsertOperation (11, \"2\"      ),\n",
    "    InsertOperation (12, \";\"      )\n",
    "])\n",
    "\n",
    "compoundOps"
   ]
  },
  {
   "cell_type": "code",
   "execution_count": 10,
   "metadata": {},
   "outputs": [
    {
     "output_type": "execute_result",
     "data": {
      "text/plain": [
       "public static int foo ( ) { return 0 ; }"
      ]
     },
     "metadata": {},
     "execution_count": 10
    }
   ],
   "source": [
    "method = AbstractMethod(\"public static int foo ( ) { return 0 ; }\")\n",
    "method"
   ]
  },
  {
   "cell_type": "code",
   "execution_count": 11,
   "metadata": {},
   "outputs": [
    {
     "output_type": "execute_result",
     "data": {
      "text/plain": [
       "private int add2 ( int x ) { return x + 2 ; }"
      ]
     },
     "metadata": {},
     "execution_count": 11
    }
   ],
   "source": [
    "method.applyEditOperations(compoundOps)\n",
    "method"
   ]
  },
  {
   "cell_type": "code",
   "execution_count": 12,
   "metadata": {},
   "outputs": [],
   "source": [
    "#export\n",
    "def getCondensedStrict(operations: List[EditOperation]) -> List[CompoundOperation]:\n",
    "    \"\"\"\n",
    "    Returns a list of CompoundOperations from the given list of `operations` such that each `CompoundOperation`\n",
    "    in the returned list repesents EditOperations that are strictly compatible. This effectively \"condenses\" the\n",
    "    given list according to strict compatibility. The length of the returned list is minimized such that it is as\n",
    "    condensed as possible.\n",
    "    \"\"\"\n",
    "    \n",
    "    compoundOps = []\n",
    "\n",
    "    if len(operations) > 0:\n",
    "        \n",
    "        compoundOps = [CompoundOperation(operations[0])]\n",
    "\n",
    "        for op in operations[1:]:\n",
    "            if not compoundOps[-1].addStrict(op):\n",
    "                compoundOps.append(CompoundOperation(op))\n",
    "    \n",
    "    return compoundOps"
   ]
  },
  {
   "cell_type": "code",
   "execution_count": 13,
   "metadata": {},
   "outputs": [
    {
     "output_type": "execute_result",
     "data": {
      "text/plain": [
       "[COMPOUND_REPLACE 0:1 -> ['private'],\n",
       " COMPOUND_DELETE 1:2,\n",
       " COMPOUND_REPLACE 2:3 -> ['add2'],\n",
       " COMPOUND_INSERT 4 -> ['int', 'x'],\n",
       " COMPOUND_DELETE 8:11,\n",
       " COMPOUND_INSERT 8 -> ['return', 'x', '+', '2', ';']]"
      ]
     },
     "metadata": {},
     "execution_count": 13
    }
   ],
   "source": [
    "compoundOps = getCondensedStrict([\n",
    "    ReplaceOperation( 0, \"private\"),\n",
    "    DeleteOperation ( 1           ),\n",
    "    ReplaceOperation( 2, \"add2\"   ),\n",
    "    InsertOperation ( 4, \"int\"    ),\n",
    "    InsertOperation ( 5, \"x\"      ),\n",
    "    DeleteOperation ( 8           ),\n",
    "    DeleteOperation ( 8           ),\n",
    "    DeleteOperation ( 8           ),\n",
    "    InsertOperation ( 8, \"return\" ),\n",
    "    InsertOperation ( 9, \"x\"      ),\n",
    "    InsertOperation (10, \"+\"      ),\n",
    "    InsertOperation (11, \"2\"      ),\n",
    "    InsertOperation (12, \";\"      )\n",
    "])\n",
    "\n",
    "compoundOps"
   ]
  },
  {
   "cell_type": "code",
   "execution_count": 14,
   "metadata": {},
   "outputs": [
    {
     "output_type": "execute_result",
     "data": {
      "text/plain": [
       "public static int foo ( ) { return 0 ; }"
      ]
     },
     "metadata": {},
     "execution_count": 14
    }
   ],
   "source": [
    "method = AbstractMethod(\"public static int foo ( ) { return 0 ; }\")\n",
    "method"
   ]
  },
  {
   "cell_type": "code",
   "execution_count": 15,
   "metadata": {},
   "outputs": [
    {
     "output_type": "execute_result",
     "data": {
      "text/plain": [
       "private int add2 ( int x ) { return x + 2 ; }"
      ]
     },
     "metadata": {},
     "execution_count": 15
    }
   ],
   "source": [
    "method.applyEditOperations(compoundOps)\n",
    "method"
   ]
  },
  {
   "source": [
    "> Note: You need not limit yourself to the basic `InsertOperation`, `DeleteOperation` and `ReplaceOperation`. You can also condense CompoundOperations."
   ],
   "cell_type": "markdown",
   "metadata": {}
  },
  {
   "cell_type": "code",
   "execution_count": 16,
   "metadata": {},
   "outputs": [
    {
     "output_type": "execute_result",
     "data": {
      "text/plain": [
       "[COMPOUND_REPLACE 0:1 -> ['private'],\n",
       " COMPOUND_DELETE 1:2,\n",
       " COMPOUND_REPLACE 2:3 -> ['add2'],\n",
       " COMPOUND_INSERT 4 -> ['int', 'x'],\n",
       " COMPOUND_DELETE 8:11,\n",
       " COMPOUND_INSERT 8 -> ['return', 'x', '+', '2', ';']]"
      ]
     },
     "metadata": {},
     "execution_count": 16
    }
   ],
   "source": [
    "compoundOps"
   ]
  },
  {
   "cell_type": "code",
   "execution_count": 17,
   "metadata": {},
   "outputs": [
    {
     "output_type": "execute_result",
     "data": {
      "text/plain": [
       "[COMPOUND_REPLACE 0:2 -> ['private'],\n",
       " COMPOUND_REPLACE 2:3 -> ['add2'],\n",
       " COMPOUND_INSERT 4 -> ['int', 'x'],\n",
       " COMPOUND_REPLACE 8:11 -> ['return', 'x', '+', '2', ';']]"
      ]
     },
     "metadata": {},
     "execution_count": 17
    }
   ],
   "source": [
    "getCondensedLoose(compoundOps)"
   ]
  }
 ],
 "metadata": {
  "kernelspec": {
   "name": "python394jvsc74a57bd0643e2b53eabc93377e95b07774b60b49bf379f8a09a9dbf1d193d7cd19dee0e4",
   "display_name": "Python 3.9.4 64-bit (windows store)"
  },
  "language_info": {
   "codemirror_mode": {
    "name": "ipython",
    "version": 3
   },
   "file_extension": ".py",
   "mimetype": "text/x-python",
   "name": "python",
   "nbconvert_exporter": "python",
   "pygments_lexer": "ipython3",
   "version": "3.9.4"
  },
  "metadata": {
   "interpreter": {
    "hash": "643e2b53eabc93377e95b07774b60b49bf379f8a09a9dbf1d193d7cd19dee0e4"
   }
  }
 },
 "nbformat": 4,
 "nbformat_minor": 4
}