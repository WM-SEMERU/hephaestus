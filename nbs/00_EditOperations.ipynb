{
 "cells": [
  {
   "cell_type": "code",
   "execution_count": null,
   "metadata": {},
   "outputs": [],
   "source": [
    "#default_exp EditOperations"
   ]
  },
  {
   "cell_type": "code",
   "execution_count": null,
   "metadata": {},
   "outputs": [],
   "source": [
    "#export\n",
    "#hide\n",
    "from typing import List, Union, Tuple, Type\n",
    "\n",
    "import re"
   ]
  },
  {
   "cell_type": "code",
   "execution_count": null,
   "metadata": {},
   "outputs": [],
   "source": [
    "#hide\n",
    "import sys\n",
    "sys.path.append(\"..\")\n",
    "\n",
    "from hephaestus.AbstractMethod import *"
   ]
  },
  {
   "cell_type": "code",
   "execution_count": null,
   "metadata": {},
   "outputs": [],
   "source": [
    "#hide\n",
    "from nbdev.showdoc import *"
   ]
  },
  {
   "cell_type": "markdown",
   "metadata": {},
   "source": [
    "# EditOperations\n",
    "\n",
    "> EditOperations describe changes made to AbstractMethods, e.g. token insertion, token deletion, token replacement, or some combination of these."
   ]
  },
  {
   "cell_type": "code",
   "execution_count": null,
   "metadata": {},
   "outputs": [],
   "source": [
    "#export\n",
    "class InsertOperation:\n",
    "    \"\"\"\n",
    "    Creates an `InsertOperation` which defines the insertion of a token into an `AbstractMethod`. Applying the\n",
    "    operation will insert token `newToken` at index `tokenIndex`.\n",
    "    \"\"\"\n",
    "\n",
    "    def __init__(self, tokenIndex: int, newToken: str) -> None:\n",
    "        self.__tokenIndex = tokenIndex\n",
    "        self.__newToken = newToken\n",
    "    \n",
    "    def __eq__(self, other: \"InsertOperation\") -> bool:\n",
    "        return (\n",
    "            type(other) is InsertOperation and\n",
    "            self.__tokenIndex == other.__tokenIndex and\n",
    "            self.__newToken == other.__newToken\n",
    "        )\n",
    "    \n",
    "    def __str__(self) -> str:\n",
    "        return \"INSERT {} -> '{}'\".format(self.__tokenIndex, self.__newToken)\n",
    "    \n",
    "    def __repr__(self) -> str:\n",
    "        return str(self)\n",
    "\n",
    "    def getIndex(self) -> int:\n",
    "        \"\"\"\n",
    "        Returns the index of the insertion.\n",
    "        \"\"\"\n",
    "        return self.__tokenIndex\n",
    "    \n",
    "    def getToken(self) -> str:\n",
    "        \"\"\"\n",
    "        Returns the token to be inserted.\n",
    "        \"\"\"\n",
    "        return self.__newToken\n",
    "    \n",
    "    def applyToTokens(self, tokens: List[str]) -> None:\n",
    "        \"\"\"\n",
    "        Applies the insertion to the given list of tokens. Raises an error if the token index is out of bounds.\n",
    "        \"\"\"\n",
    "\n",
    "        if self.__tokenIndex > len(tokens):\n",
    "            raise IndexError(\"InsertOperation: cannot insert at index {} (out of bounds)\".format(self.__tokenIndex))\n",
    "        \n",
    "        tokens.insert(self.__tokenIndex, self.__newToken)"
   ]
  },
  {
   "cell_type": "code",
   "execution_count": null,
   "metadata": {},
   "outputs": [
    {
     "data": {
      "text/plain": [
       "public void METHOD_1 ( ) { }"
      ]
     },
     "execution_count": null,
     "metadata": {},
     "output_type": "execute_result"
    }
   ],
   "source": [
    "method = AbstractMethod(\"public void METHOD_1 ( ) { }\")\n",
    "method"
   ]
  },
  {
   "cell_type": "code",
   "execution_count": null,
   "metadata": {},
   "outputs": [
    {
     "data": {
      "text/plain": [
       "public static void METHOD_1 ( ) { }"
      ]
     },
     "execution_count": null,
     "metadata": {},
     "output_type": "execute_result"
    }
   ],
   "source": [
    "method.applyEditOperation(InsertOperation(1, \"static\"))\n",
    "method"
   ]
  },
  {
   "cell_type": "code",
   "execution_count": null,
   "metadata": {},
   "outputs": [],
   "source": [
    "#export\n",
    "class DeleteOperation:\n",
    "    \"\"\"\n",
    "    Creates a `DeleteOperation` which defines the deletion of a token from an `AbstractMethod`. Applying the\n",
    "    operation will delete the token at index `tokenIndex`.\n",
    "    \"\"\"\n",
    "\n",
    "    def __init__(self, tokenIndex: int) -> None:\n",
    "        self.__tokenIndex = tokenIndex\n",
    "    \n",
    "    def __eq__(self, other: \"DeleteOperation\") -> bool:\n",
    "        return (\n",
    "            type(other) is DeleteOperation and\n",
    "            self.__tokenIndex == other.__tokenIndex\n",
    "        )\n",
    "    \n",
    "    def __str__(self) -> str:\n",
    "        return \"DELETE {}\".format(self.__tokenIndex)\n",
    "\n",
    "    def __repr__(self) -> str:\n",
    "        return str(self)\n",
    "    \n",
    "    def getIndex(self) -> int:\n",
    "        \"\"\"\n",
    "        Returns the index of the deletion.\n",
    "        \"\"\"\n",
    "        return self.__tokenIndex\n",
    "    \n",
    "    def getToken(self) -> None:\n",
    "        \"\"\"\n",
    "        Returns the token to be inserted. Since there is never an inserted token, return None.\n",
    "        \"\"\"\n",
    "        return None\n",
    "    \n",
    "    def applyToTokens(self, tokens: List[str]) -> None:\n",
    "        \"\"\"\n",
    "        Applies the deletion to the given list of tokens. Raises an error if the token index is out of bounds.\n",
    "        \"\"\"\n",
    "\n",
    "        if self.__tokenIndex >= len(tokens):\n",
    "            raise IndexError(\"DeleteOperation: cannot delete at index {} (out of bounds)\".format(self.__tokenIndex))\n",
    "\n",
    "        del tokens[self.__tokenIndex]"
   ]
  },
  {
   "cell_type": "code",
   "execution_count": null,
   "metadata": {},
   "outputs": [
    {
     "data": {
      "text/plain": [
       "public static void METHOD_1 ( ) { }"
      ]
     },
     "execution_count": null,
     "metadata": {},
     "output_type": "execute_result"
    }
   ],
   "source": [
    "method = AbstractMethod(\"public static void METHOD_1 ( ) { }\")\n",
    "method"
   ]
  },
  {
   "cell_type": "code",
   "execution_count": null,
   "metadata": {},
   "outputs": [
    {
     "data": {
      "text/plain": [
       "public void METHOD_1 ( ) { }"
      ]
     },
     "execution_count": null,
     "metadata": {},
     "output_type": "execute_result"
    }
   ],
   "source": [
    "method.applyEditOperation(DeleteOperation(1))\n",
    "method"
   ]
  },
  {
   "cell_type": "code",
   "execution_count": null,
   "metadata": {},
   "outputs": [],
   "source": [
    "#export\n",
    "class ReplaceOperation:\n",
    "    \"\"\"\n",
    "    Creates a `ReplaceOperation` which defines the replacement of a token in an `AbstractMethod`. Applying the\n",
    "    operation will replace the token at index `tokenIndex` with token `newToken`.\n",
    "    \"\"\"\n",
    "\n",
    "    def __init__(self, tokenIndex: int, newToken: str) -> None:\n",
    "        self.__tokenIndex = tokenIndex\n",
    "        self.__newToken = newToken\n",
    "    \n",
    "    def __eq__(self, other: \"ReplaceOperation\") -> bool:\n",
    "        return (\n",
    "            type(other) is ReplaceOperation and\n",
    "            self.__tokenIndex == other.__tokenIndex and\n",
    "            self.__newToken == other.__newToken\n",
    "        )\n",
    "    \n",
    "    def __str__(self) -> str:\n",
    "        return \"REPLACE {} -> '{}'\".format(self.__tokenIndex, self.__newToken)\n",
    "\n",
    "    def __repr__(self) -> str:\n",
    "        return str(self)\n",
    "    \n",
    "    def getIndex(self) -> int:\n",
    "        \"\"\"\n",
    "        Returns the index of the replacement.\n",
    "        \"\"\"\n",
    "        return self.__tokenIndex\n",
    "    \n",
    "    def getToken(self) -> str:\n",
    "        \"\"\"\n",
    "        Returns the replacing token.\n",
    "        \"\"\"\n",
    "        return self.__newToken\n",
    "    \n",
    "    def applyToTokens(self, tokens: List[str]) -> None:\n",
    "        \"\"\"\n",
    "        Applies the replacement to the given list of tokens. Raises an error if the token index is out of bounds.\n",
    "        \"\"\"\n",
    "\n",
    "        if self.__tokenIndex >= len(tokens):\n",
    "            raise IndexError(\"ReplaceOperation: cannot replace at index {} (out of bounds)\".format(self.__tokenIndex))\n",
    "\n",
    "        tokens[self.__tokenIndex] = self.__newToken"
   ]
  },
  {
   "cell_type": "code",
   "execution_count": null,
   "metadata": {},
   "outputs": [
    {
     "data": {
      "text/plain": [
       "public void METHOD_1 ( ) { }"
      ]
     },
     "execution_count": null,
     "metadata": {},
     "output_type": "execute_result"
    }
   ],
   "source": [
    "method = AbstractMethod(\"public void METHOD_1 ( ) { }\")\n",
    "method"
   ]
  },
  {
   "cell_type": "code",
   "execution_count": null,
   "metadata": {},
   "outputs": [
    {
     "data": {
      "text/plain": [
       "private void METHOD_1 ( ) { }"
      ]
     },
     "execution_count": null,
     "metadata": {},
     "output_type": "execute_result"
    }
   ],
   "source": [
    "method.applyEditOperation(ReplaceOperation(0, \"private\"))\n",
    "method"
   ]
  },
  {
   "cell_type": "code",
   "execution_count": null,
   "metadata": {},
   "outputs": [],
   "source": [
    "#export\n",
    "#hide\n",
    "# Define this here first with a forward reference to CompoundOperation\n",
    "EditOperation = Union[InsertOperation, DeleteOperation, ReplaceOperation, \"CompoundOperation\"]"
   ]
  },
  {
   "cell_type": "code",
   "execution_count": null,
   "metadata": {},
   "outputs": [],
   "source": [
    "#export\n",
    "class CompoundOperation:\n",
    "    \"\"\"\n",
    "    Creates a `CompoundOperation`, which represents a combination of EditOperations starting the given `operation`. More \n",
    "    operations can later be added. Applying the `CompoundOperation` to an `AbstractMethod` will apply all successfully\n",
    "    added operations, in order.\n",
    "    \"\"\"\n",
    "\n",
    "    def __init__(self, operation: EditOperation) -> None:\n",
    "        \"\"\"\n",
    "        Creates the compound operation from the given operation.\n",
    "\n",
    "        Members:\n",
    "\n",
    "        `__beginIndex`: start of the range of deleted tokens\n",
    "        `__endIndex`: end of the range of deleted tokens\n",
    "        `__newTokens`: list of tokens to add\n",
    "        `__type`: the type of the compound operation; can either be InsertOperation, DeleteOperation, or ReplaceOperation\n",
    "        \"\"\"\n",
    "        \n",
    "        # determine the range of deleted indices, will be nothing for an insert operation, or will span >= 1\n",
    "        # token for any other type\n",
    "        if type(operation) is CompoundOperation:\n",
    "            self.__beginIndex, self.__endIndex = operation.getIndexRange()\n",
    "        else:\n",
    "            self.__beginIndex = operation.getIndex()\n",
    "            self.__endIndex = self.__beginIndex if type(operation) is InsertOperation else self.__beginIndex + 1\n",
    "        \n",
    "        # determine new tokens which will be added, will be nothing for delete operation\n",
    "        if type(operation) is CompoundOperation:\n",
    "            self.__newTokens = operation.getTokens()\n",
    "        else:\n",
    "            self.__newTokens = [] if type(operation) is DeleteOperation else [operation.getToken()]\n",
    "        \n",
    "        # set the type\n",
    "        self.__type = None\n",
    "        self.__setType()\n",
    "    \n",
    "    def FromMachineString(string: str) -> \"CompoundOperation\":\n",
    "        \"\"\"\n",
    "        Returns a `CompoundOperation` which represents the given machine string such that the following equality holds:\n",
    "        `operation == CompoundOperation.FromMachineString(operation.getMachineString())`. The `CompoundOperation` is\n",
    "        derived from the given machine string regardless if it is of general form or typed form.\n",
    "        \"\"\"\n",
    "        \n",
    "        # first, attempt to parse the input machine string\n",
    "        match = re.search(r\"^<(?P<type>.+?)> (?P<beginIndex>\\d+) (?P<endIndex>\\d+)\" +\n",
    "                r\" <sep>(?P<newTokens> (?:[^ ]+ )*)</(?P=type)>$\", string)\n",
    "        if not match:\n",
    "            raise ValueError(\"CompoundOperation: invalid machine string: '{}'\".format(string))\n",
    "        \n",
    "        # get compound operation attributes from match results\n",
    "        _type = {\"op\": None, \"ins\": InsertOperation, \"del\": DeleteOperation, \"rep\": ReplaceOperation}[match.group(\"type\")]\n",
    "        beginIndex = int(match.group(\"beginIndex\"))\n",
    "        endIndex = int(match.group(\"endIndex\"))\n",
    "        newTokens = match.group(\"newTokens\").strip().split(\" \")\n",
    "        if newTokens == [\"\"]:\n",
    "            newTokens = []\n",
    "        \n",
    "        # make sure endIndex is at least beginIndex\n",
    "        if not endIndex >= beginIndex:\n",
    "            raise ValueError(\"CompoundOperation: invalid machine string: '{}'\".format(string))\n",
    "        \n",
    "        # build the compound operation, start with an \"empty\" operation with no deletions or insertions\n",
    "        operation = CompoundOperation(InsertOperation(beginIndex, \"<placeholder>\"))\n",
    "        operation.addLoose(DeleteOperation(beginIndex))\n",
    "        operation.__beginIndex = beginIndex\n",
    "        operation.__endIndex = endIndex\n",
    "        operation.__newTokens = newTokens\n",
    "        operation.__setType()\n",
    "\n",
    "        # make sure that if the machine string was of typed form, that the resulting CompoundOperation has the same type\n",
    "        if _type is not None and _type != operation.getType():\n",
    "            raise ValueError(\"CompoundOperation: invalid machine string: '{}'\".format(string))\n",
    "        \n",
    "        return operation\n",
    "    \n",
    "    def getMachineString(self, form: str = \"general\") -> str:\n",
    "        \"\"\"\n",
    "        Returns a string formatted for use in training a machine learning model, i.e. a `HephaestusModel`. The structure is\n",
    "        as follows:\n",
    "\n",
    "        `<X> beginIndex endIndex <sep> tokens </X>`\n",
    "\n",
    "        The value of `X` depends on the given `form` parameter. The ouputted machine string can be of *general form* or\n",
    "        *typed form*:\n",
    "        - `\"general\"`: `X` will always be `\"op\"`, regardless of the CompoundOperation's type. Thus, the type of the operation\n",
    "          is *generalized*. This is the default behavior.\n",
    "        - `\"typed\"`: `X` will be one of `\"ins\"`, `\"del\"`, or `\"rep\"`, depending on the type of the `CompoundOperation`.\n",
    "\n",
    "        The range `beginIndex:endIndex` refers to the pythonic range of tokens which the `CompoundOperation` deletes.\n",
    "        Thus, if `beginIndex` and `endIndex` are equal, then no tokens are deleted. `tokens` refers to the list of tokens\n",
    "        which are added at `beginIndex` once the aformentioned range is deleted.\n",
    "        \n",
    "        Note: this method is different from the `__str__()` method, which returns a more human-readable string.\n",
    "        \"\"\"\n",
    "\n",
    "        # determine tag value based on form\n",
    "        tag = \"\"\n",
    "        if form == \"general\":\n",
    "            tag = \"op\"\n",
    "        elif form == \"typed\":\n",
    "            tag = {InsertOperation: \"ins\", DeleteOperation: \"del\", ReplaceOperation: \"rep\"}[self.__type]\n",
    "        else:\n",
    "            raise ValueError(\"CompoundOperation: invalid form: {}\".format(repr(form)))\n",
    "\n",
    "        return \"<{}> {} {} <sep>{}</{}>\".format(\n",
    "            tag,\n",
    "            self.__beginIndex,\n",
    "            self.__endIndex,\n",
    "            \" \" if len(self.__newTokens) == 0 else \" \" + \" \".join(self.__newTokens) + \" \",\n",
    "            tag\n",
    "        )\n",
    "    \n",
    "    def __eq__(self, other: \"CompoundOperation\") -> bool:\n",
    "        # don't have to check __type attribute, because it is a function of the index range and tokens\n",
    "        return (\n",
    "            type(other) is CompoundOperation and\n",
    "            self.getIndexRange() == other.getIndexRange() and\n",
    "            self.__newTokens == other.__newTokens\n",
    "        )\n",
    "    \n",
    "    def __str__(self) -> str:\n",
    "\n",
    "        s =  \"COMPOUND_{} \".format({\n",
    "            InsertOperation: \"INSERT\",\n",
    "            DeleteOperation: \"DELETE\",\n",
    "            ReplaceOperation: \"REPLACE\"\n",
    "        }[self.__type])\n",
    "        \n",
    "        if self.__type is InsertOperation:\n",
    "            s += \"{}\".format(self.__beginIndex)\n",
    "        else:\n",
    "            s += \"{}:{}\".format(self.__beginIndex, self.__endIndex)\n",
    "        \n",
    "        if self.__type is not DeleteOperation:\n",
    "            s += \" -> {}\".format(self.__newTokens)\n",
    "        \n",
    "        return s\n",
    "    \n",
    "    def __repr__(self) -> str:\n",
    "        return str(self)\n",
    "    \n",
    "    def __len__(self) -> int:\n",
    "        \"\"\"\n",
    "        Returns the Levenshtein distance from A to B, where A is some `AbstractMethod` and B is the `AbstractMethod`\n",
    "        resulting from applying this compound operation to A.\n",
    "        \"\"\"\n",
    "        return max(self.__endIndex - self.__beginIndex, len(self.__newTokens))\n",
    "    \n",
    "    def getIndexRange(self) -> Tuple[int, int]:\n",
    "        \"\"\"\n",
    "        Returns the range of indices whose tokens are deleted as a tuple in the form [start, end).\n",
    "        \"\"\"\n",
    "        return (self.__beginIndex, self.__endIndex)\n",
    "    \n",
    "    def getTokens(self) -> List[str]:\n",
    "        \"\"\"\n",
    "        Returns the list of tokens to be added.\n",
    "        \"\"\"\n",
    "        return self.__newTokens.copy()\n",
    "    \n",
    "    def getType(self) -> Type[EditOperation]:\n",
    "        \"\"\"\n",
    "        Returns the type of the `CompoundOperation`, which can be one of three values:\n",
    "\n",
    "        - `InsertOperation`: Applying this operation will only result in token insertions\n",
    "        - `DeleteOperation`: Applying this operation will only result in token deletions\n",
    "        - `ReplaceOperation`: Applying this operation will result in token deletions and insertions\n",
    "        \"\"\"\n",
    "        return self.__type\n",
    "\n",
    "    def addLoose(self, operation: EditOperation) -> bool:\n",
    "        \"\"\"\n",
    "        Attempts to add the given `operation` such that it is loosely compatible with the overall `CompoundOperation`.\n",
    "        This may change the type of the `CompoundOperation`. If the addition was successful, then returns True; else,\n",
    "        returns False.\n",
    "        \"\"\"\n",
    "        \n",
    "        # turn the operation to be inserted into a compound operation, then get attibutes\n",
    "        op = CompoundOperation(operation)\n",
    "        opBeginIndex, opEndIndex = op.getIndexRange()\n",
    "        opTokens = op.getTokens()\n",
    "\n",
    "        # this is one past the index of the token last affected once this operation is applied\n",
    "        endAffectedIndex = self.__beginIndex + len(self.__newTokens)\n",
    "\n",
    "        # if the ranges of affected tokens do not touch, then quit\n",
    "        if opEndIndex < self.__beginIndex or opBeginIndex > endAffectedIndex:\n",
    "            return False\n",
    "        \n",
    "        # determine how this operation will change considering the added operation\n",
    "        if opBeginIndex < self.__beginIndex:\n",
    "            if opEndIndex <= endAffectedIndex:\n",
    "                self.__newTokens = opTokens + self.__newTokens[opEndIndex - self.__beginIndex :]\n",
    "                self.__beginIndex = opBeginIndex\n",
    "            else:\n",
    "                self.__newTokens = opTokens\n",
    "                self.__beginIndex = opBeginIndex\n",
    "                self.__endIndex += opEndIndex - endAffectedIndex\n",
    "        else:\n",
    "            if opEndIndex <= endAffectedIndex:\n",
    "                self.__newTokens = (self.__newTokens[: opBeginIndex - self.__beginIndex] + opTokens +\n",
    "                        self.__newTokens[opEndIndex - self.__beginIndex :])\n",
    "            else:\n",
    "                self.__newTokens = self.__newTokens[: opBeginIndex - self.__beginIndex] + opTokens\n",
    "                self.__endIndex += opEndIndex - endAffectedIndex\n",
    "\n",
    "        # set the type and return true\n",
    "        self.__setType()\n",
    "        return True\n",
    "    \n",
    "    def addStrict(self, operation: EditOperation) -> bool:\n",
    "        \"\"\"\n",
    "        Attempts to add the given `operation` such that it is strictly compatible with the overall `CompoundOperation`.\n",
    "        If the addition was successful, then returns True; else, returns False.\n",
    "        \"\"\"\n",
    "\n",
    "        # stop if the operation is not of the same type\n",
    "        if not (type(operation) is self.__type or \n",
    "                type(operation) is CompoundOperation and operation.getType() is self.__type):\n",
    "            return False\n",
    "\n",
    "        # add the operation\n",
    "        return self.addLoose(operation)\n",
    "    \n",
    "    def applyToTokens(self, tokens: List[str]) -> None:\n",
    "        \"\"\"\n",
    "        Applies the operation to the given list of tokens. Raises an error if it affects token indices which\n",
    "        are out of bounds.\n",
    "        \"\"\"\n",
    "\n",
    "        if self.__endIndex > len(tokens):\n",
    "            raise IndexError(\"CompoundOperation: cannot delete index range {}:{} (out of bounds)\".format(\n",
    "                    self.__beginIndex, self.__endIndex))\n",
    "\n",
    "        tokens[self.__beginIndex:self.__endIndex] = self.__newTokens\n",
    "    \n",
    "    def __setType(self) -> None:\n",
    "        \"\"\"\n",
    "        Sets the type based on the index range and the tokens to be inserted.\n",
    "        \"\"\"\n",
    "\n",
    "        indexRange = self.__endIndex - self.__beginIndex\n",
    "\n",
    "        # If nothing is removed and nothing is inserted, then it's a replace operation\n",
    "        if indexRange == 0 and len(self.__newTokens) == 0:\n",
    "            self.__type = ReplaceOperation\n",
    "        \n",
    "        # If nothing is removed, then it's an insert operation\n",
    "        elif indexRange == 0:\n",
    "            self.__type = InsertOperation\n",
    "        \n",
    "        # if nothing is added, then it's a delete operation\n",
    "        elif len(self.__newTokens) == 0:\n",
    "            self.__type = DeleteOperation\n",
    "        \n",
    "        # anything else means that there are removals and additions, so it's a replaceOperation\n",
    "        else:\n",
    "            self.__type = ReplaceOperation"
   ]
  },
  {
   "cell_type": "markdown",
   "metadata": {},
   "source": [
    "### Principles of CompoundOperations \n",
    "\n",
    "#### Type\n",
    "\n",
    "Each `CompoundOperation` has a *type*, which is one of the following:\n",
    "\n",
    "- `InsertOperation` -- indicates that no tokens are removed and at least one token is added\n",
    "- `DeleteOperation` -- indicates that at least one token is removed and no tokens are added\n",
    "- `ReplaceOperation` -- indicates one of the following:\n",
    "    - no tokens are removed or added\n",
    "    - at least one token is removed and at least one token is added  \n",
    "    \n",
    "#### Loose Compatibility\n",
    "\n",
    "A squence of EditOperations is said to be *loosely compatible* if, when the operations are applied to an `AbstractMethod` directly after one another, the `AbstractMethod` is modified in one contiguous section. A `CompoundOperation` is loose when it consists of EditOperations that are loosely compatible with one another. Note that the order in which the EditOperations are applied matters. Take the following examples, which both utilize the same EditOperations:"
   ]
  },
  {
   "cell_type": "code",
   "execution_count": null,
   "metadata": {},
   "outputs": [
    {
     "data": {
      "text/plain": [
       "C D"
      ]
     },
     "execution_count": null,
     "metadata": {},
     "output_type": "execute_result"
    }
   ],
   "source": [
    "method = AbstractMethod(\"A B C D\")\n",
    "method.applyEditOperations([\n",
    "    DeleteOperation(1),\n",
    "    DeleteOperation(0)\n",
    "])\n",
    "method"
   ]
  },
  {
   "cell_type": "markdown",
   "metadata": {},
   "source": [
    "The two operations that were applied are loosely compatible because they modified (deleted) a contiguous section of tokens `['A', 'B']`."
   ]
  },
  {
   "cell_type": "code",
   "execution_count": null,
   "metadata": {},
   "outputs": [
    {
     "data": {
      "text/plain": [
       "B D"
      ]
     },
     "execution_count": null,
     "metadata": {},
     "output_type": "execute_result"
    }
   ],
   "source": [
    "method = AbstractMethod(\"A B C D\")\n",
    "method.applyEditOperations([\n",
    "    DeleteOperation(0),\n",
    "    DeleteOperation(1)\n",
    "])\n",
    "method"
   ]
  },
  {
   "cell_type": "markdown",
   "metadata": {},
   "source": [
    "In this case, even though the same two operations were applied, the operations are not loosely compatible. The first operation deleted the token `'A'`, and the second token deleted the token `'C'`. Since these tokens were not contiguous, the applied operations are not loosely compatible."
   ]
  },
  {
   "cell_type": "markdown",
   "metadata": {},
   "source": [
    "#### Strict compatibility\n",
    "\n",
    "A sequence of EditOperations is said to be *strictly compatible* if it is loosely compatible and all the operations are of the same type. A `CompoundOperation` is strict when it consists of EditOperations which are strictly compatible with one another.\n",
    "\n",
    "These operations are strictly compatible:"
   ]
  },
  {
   "cell_type": "code",
   "execution_count": null,
   "metadata": {},
   "outputs": [
    {
     "data": {
      "text/plain": [
       "DELETE 1"
      ]
     },
     "execution_count": null,
     "metadata": {},
     "output_type": "execute_result"
    }
   ],
   "source": [
    "#hide_output\n",
    "DeleteOperation(1)\n",
    "DeleteOperation(1)"
   ]
  },
  {
   "cell_type": "markdown",
   "metadata": {},
   "source": [
    "These operations are not strictly compatible, even though they are loosely compatible:"
   ]
  },
  {
   "cell_type": "code",
   "execution_count": null,
   "metadata": {},
   "outputs": [
    {
     "data": {
      "text/plain": [
       "INSERT 1 -> 'foo'"
      ]
     },
     "execution_count": null,
     "metadata": {},
     "output_type": "execute_result"
    }
   ],
   "source": [
    "#hide_output\n",
    "DeleteOperation(1)\n",
    "InsertOperation(1, \"foo\")"
   ]
  },
  {
   "cell_type": "code",
   "execution_count": null,
   "metadata": {},
   "outputs": [],
   "source": [
    "#hide\n",
    "from hephaestus.CondenseEditOperations import *"
   ]
  },
  {
   "cell_type": "markdown",
   "metadata": {},
   "source": [
    "### Creating CompoundOperations\n",
    "\n",
    "CompoundOperations are created from a sequence of EditOperations. The easiest way to do this is by using the utility functions `getCondensedBasic`, `getCondensedLoose`, and `getCondensedStrict` found in the `CondenseEditOperations` module. However, you can also create them manually by repeatedly adding EditOperations or by providing a machine string.\n",
    "\n",
    "#### Adding EditOperations"
   ]
  },
  {
   "cell_type": "code",
   "execution_count": null,
   "metadata": {},
   "outputs": [
    {
     "data": {
      "text/markdown": "<h4 id=\"CompoundOperation.addLoose\" class=\"doc_header\"><code>CompoundOperation.addLoose</code><a href=\"__main__.py#L173\" class=\"source_link\" style=\"float:right\">[source]</a></h4>\n\n> <code>CompoundOperation.addLoose</code>(**`operation`**:`Union`\\[[`InsertOperation`](/hephaestus/EditOperations.html#InsertOperation), [`DeleteOperation`](/hephaestus/EditOperations.html#DeleteOperation), [`ReplaceOperation`](/hephaestus/EditOperations.html#ReplaceOperation), `ForwardRef('CompoundOperation')`\\])\n\nAttempts to add the given `operation` such that it is loosely compatible with the overall [`CompoundOperation`](/hephaestus/EditOperations.html#CompoundOperation).\nThis may change the type of the [`CompoundOperation`](/hephaestus/EditOperations.html#CompoundOperation). If the addition was successful, then returns True; else,\nreturns False.",
      "text/plain": "<IPython.core.display.Markdown object>"
     },
     "metadata": {},
     "output_type": "display_data"
    }
   ],
   "source": [
    "#hide_input\n",
    "show_doc(CompoundOperation.addLoose)"
   ]
  },
  {
   "cell_type": "code",
   "execution_count": null,
   "metadata": {},
   "outputs": [
    {
     "data": {
      "text/markdown": "<h4 id=\"CompoundOperation.addStrict\" class=\"doc_header\"><code>CompoundOperation.addStrict</code><a href=\"__main__.py#L213\" class=\"source_link\" style=\"float:right\">[source]</a></h4>\n\n> <code>CompoundOperation.addStrict</code>(**`operation`**:`Union`\\[[`InsertOperation`](/hephaestus/EditOperations.html#InsertOperation), [`DeleteOperation`](/hephaestus/EditOperations.html#DeleteOperation), [`ReplaceOperation`](/hephaestus/EditOperations.html#ReplaceOperation), `ForwardRef('CompoundOperation')`\\])\n\nAttempts to add the given `operation` such that it is strictly compatible with the overall [`CompoundOperation`](/hephaestus/EditOperations.html#CompoundOperation).\nIf the addition was successful, then returns True; else, returns False.",
      "text/plain": "<IPython.core.display.Markdown object>"
     },
     "metadata": {},
     "output_type": "display_data"
    }
   ],
   "source": [
    "#hide_input\n",
    "show_doc(CompoundOperation.addStrict)"
   ]
  },
  {
   "cell_type": "markdown",
   "metadata": {},
   "source": [
    "#### Using machine strings\n",
    "\n",
    "Machine strings are tokenized representations of CompoundOperations used for training a `HephaestusModel`."
   ]
  },
  {
   "cell_type": "code",
   "execution_count": null,
   "metadata": {},
   "outputs": [
    {
     "data": {
      "text/markdown": "<h4 id=\"CompoundOperation.getMachineString\" class=\"doc_header\"><code>CompoundOperation.getMachineString</code><a href=\"__main__.py#L78\" class=\"source_link\" style=\"float:right\">[source]</a></h4>\n\n> <code>CompoundOperation.getMachineString</code>(**`form`**:`str`=*`'general'`*)\n\nReturns a string formatted for use in training a machine learning model, i.e. a [`HephaestusModel`](/hephaestus/HephaestusModel.html). The structure is\nas follows:\n\n`<X> beginIndex endIndex <sep> tokens </X>`\n\nThe value of `X` depends on the given `form` parameter. The ouputted machine string can be of *general form* or\n*typed form*:\n- `\"general\"`: `X` will always be `\"op\"`, regardless of the CompoundOperation's type. Thus, the type of the operation\n  is *generalized*. This is the default behavior.\n- `\"typed\"`: `X` will be one of `\"ins\"`, `\"del\"`, or `\"rep\"`, depending on the type of the [`CompoundOperation`](/hephaestus/EditOperations.html#CompoundOperation).\n\nThe range `beginIndex:endIndex` refers to the pythonic range of tokens which the [`CompoundOperation`](/hephaestus/EditOperations.html#CompoundOperation) deletes.\nThus, if `beginIndex` and `endIndex` are equal, then no tokens are deleted. `tokens` refers to the list of tokens\nwhich are added at `beginIndex` once the aformentioned range is deleted.\n\nNote: this method is different from the `__str__()` method, which returns a more human-readable string.",
      "text/plain": "<IPython.core.display.Markdown object>"
     },
     "metadata": {},
     "output_type": "display_data"
    }
   ],
   "source": [
    "#hide_input\n",
    "show_doc(CompoundOperation.getMachineString)"
   ]
  },
  {
   "cell_type": "code",
   "execution_count": null,
   "metadata": {},
   "outputs": [
    {
     "data": {
      "text/markdown": "<h4 id=\"CompoundOperation.FromMachineString\" class=\"doc_header\"><code>CompoundOperation.FromMachineString</code><a href=\"__main__.py#L39\" class=\"source_link\" style=\"float:right\">[source]</a></h4>\n\n> <code>CompoundOperation.FromMachineString</code>(**`string`**:`str`)\n\nReturns a [`CompoundOperation`](/hephaestus/EditOperations.html#CompoundOperation) which represents the given machine string such that the following equality holds:\n`operation == CompoundOperation.FromMachineString(operation.getMachineString())`. The [`CompoundOperation`](/hephaestus/EditOperations.html#CompoundOperation) is\nderived from the given machine string regardless if it is of general form or typed form.",
      "text/plain": "<IPython.core.display.Markdown object>"
     },
     "metadata": {},
     "output_type": "display_data"
    }
   ],
   "source": [
    "#hide_input\n",
    "show_doc(CompoundOperation.FromMachineString)"
   ]
  },
  {
   "cell_type": "code",
   "execution_count": null,
   "metadata": {},
   "outputs": [
    {
     "data": {
      "text/plain": [
       "COMPOUND_REPLACE 2:4 -> ['return', 'VAR_1', ';']"
      ]
     },
     "execution_count": null,
     "metadata": {},
     "output_type": "execute_result"
    }
   ],
   "source": [
    "compoundOp = CompoundOperation(DeleteOperation(2))\n",
    "compoundOp.addLoose(ReplaceOperation(2, \"return\"))\n",
    "compoundOp.addLoose(InsertOperation(3, \"VAR_1\"))\n",
    "compoundOp.addLoose(InsertOperation(4, \";\"))\n",
    "\n",
    "compoundOp"
   ]
  },
  {
   "cell_type": "code",
   "execution_count": null,
   "metadata": {},
   "outputs": [
    {
     "data": {
      "text/plain": [
       "'<op> 2 4 <sep> return VAR_1 ; </op>'"
      ]
     },
     "execution_count": null,
     "metadata": {},
     "output_type": "execute_result"
    }
   ],
   "source": [
    "generalMachineString = compoundOp.getMachineString(\"general\")\n",
    "generalMachineString"
   ]
  },
  {
   "cell_type": "code",
   "execution_count": null,
   "metadata": {},
   "outputs": [
    {
     "data": {
      "text/plain": [
       "COMPOUND_REPLACE 2:4 -> ['return', 'VAR_1', ';']"
      ]
     },
     "execution_count": null,
     "metadata": {},
     "output_type": "execute_result"
    }
   ],
   "source": [
    "CompoundOperation.FromMachineString(generalMachineString)"
   ]
  },
  {
   "cell_type": "code",
   "execution_count": null,
   "metadata": {},
   "outputs": [
    {
     "data": {
      "text/plain": [
       "'<rep> 2 4 <sep> return VAR_1 ; </rep>'"
      ]
     },
     "execution_count": null,
     "metadata": {},
     "output_type": "execute_result"
    }
   ],
   "source": [
    "typedMachineString = compoundOp.getMachineString(\"typed\")\n",
    "typedMachineString"
   ]
  },
  {
   "cell_type": "code",
   "execution_count": null,
   "metadata": {},
   "outputs": [
    {
     "data": {
      "text/plain": [
       "COMPOUND_REPLACE 2:4 -> ['return', 'VAR_1', ';']"
      ]
     },
     "execution_count": null,
     "metadata": {},
     "output_type": "execute_result"
    }
   ],
   "source": [
    "CompoundOperation.FromMachineString(typedMachineString)"
   ]
  },
  {
   "cell_type": "code",
   "execution_count": null,
   "metadata": {},
   "outputs": [],
   "source": [
    "#export\n",
    "#hide\n",
    "# define for a second time here so that CompoundOperation no longer has to be a forward declaration\n",
    "EditOperation = Union[InsertOperation, DeleteOperation, ReplaceOperation, CompoundOperation]"
   ]
  }
 ],
 "metadata": {
  "kernelspec": {
   "display_name": "Python 3.9.4 64-bit",
   "name": "python38564bit1ada39ffdf0c4119935a34ccde4922f3"
  }
 },
 "nbformat": 4,
 "nbformat_minor": 2
}
