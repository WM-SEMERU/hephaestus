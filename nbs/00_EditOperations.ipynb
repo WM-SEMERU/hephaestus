{
 "cells": [
  {
   "cell_type": "code",
   "execution_count": null,
   "metadata": {},
   "outputs": [],
   "source": [
    "#default_exp EditOperations"
   ]
  },
  {
   "cell_type": "code",
   "execution_count": null,
   "metadata": {},
   "outputs": [],
   "source": [
    "#export\n",
    "#hide\n",
    "from typing import List, Union"
   ]
  },
  {
   "cell_type": "code",
   "execution_count": null,
   "metadata": {},
   "outputs": [],
   "source": [
    "#hide\n",
    "import sys\n",
    "sys.path.append(\"..\")\n",
    "\n",
    "from hephaestus.AbstractMethod import *"
   ]
  },
  {
   "cell_type": "markdown",
   "metadata": {},
   "source": [
    "# EditOperations\n",
    "\n",
    "> Defines classes that represent the following edit operations: InsertOperation, DeleteOperation, and ReplaceOperation"
   ]
  },
  {
   "cell_type": "code",
   "execution_count": null,
   "metadata": {},
   "outputs": [],
   "source": [
    "#export\n",
    "class InsertOperation:\n",
    "    \"\"\"\n",
    "    Creates an `InsertOperation` which defines the insertion of a token into an `AbstractMethod`. Applying the\n",
    "    operation will insert token `newToken` at index `tokenIndex`.\n",
    "    \"\"\"\n",
    "\n",
    "    def __init__(self, tokenIndex: int, newToken: str) -> None:\n",
    "        self.__tokenIndex = tokenIndex\n",
    "        self.__newToken = newToken\n",
    "    \n",
    "    def __str__(self) -> str:\n",
    "        return 'insert token \"{}\" at index {}'.format(self.__newToken, self.__tokenIndex)\n",
    "    \n",
    "    def __repr__(self) -> str:\n",
    "        return str(self)\n",
    "    \n",
    "    def applyToTokens(self, tokens: List[str]) -> None:\n",
    "        \"\"\"\n",
    "        Applies the insertion to the given list of tokens. Raises an error if the token index is out of bounds.\n",
    "        \"\"\"\n",
    "\n",
    "        if self.__tokenIndex > len(tokens):\n",
    "            raise IndexError(\"InsertOperation: cannot insert at index {} (out of bounds)\".format(self.__tokenIndex))\n",
    "        \n",
    "        tokens.insert(self.__tokenIndex, self.__newToken)"
   ]
  },
  {
   "cell_type": "code",
   "execution_count": null,
   "metadata": {},
   "outputs": [
    {
     "data": {
      "text/plain": [
       "'public void METHOD_1 ( ) { }'"
      ]
     },
     "execution_count": null,
     "metadata": {},
     "output_type": "execute_result"
    }
   ],
   "source": [
    "method = AbstractMethod(\"public void METHOD_1 ( ) { }\")\n",
    "method"
   ]
  },
  {
   "cell_type": "code",
   "execution_count": null,
   "metadata": {},
   "outputs": [
    {
     "data": {
      "text/plain": [
       "'public static void METHOD_1 ( ) { }'"
      ]
     },
     "execution_count": null,
     "metadata": {},
     "output_type": "execute_result"
    }
   ],
   "source": [
    "method.applyEditOperation(InsertOperation(1, \"static\"))\n",
    "method"
   ]
  },
  {
   "cell_type": "code",
   "execution_count": null,
   "metadata": {},
   "outputs": [],
   "source": [
    "#export\n",
    "class DeleteOperation:\n",
    "    \"\"\"\n",
    "    Creates a `DeleteOperation` which defines the deletion of a token from an `AbstractMethod`. Applying the\n",
    "    operation will delete the token at index `tokenIndex`.\n",
    "    \"\"\"\n",
    "\n",
    "    def __init__(self, tokenIndex: int) -> None:\n",
    "        self.__tokenIndex = tokenIndex\n",
    "    \n",
    "    def __str__(self) -> str:\n",
    "        return \"delete token at index {}\".format(self.__tokenIndex)\n",
    "\n",
    "    def __repr__(self) -> str:\n",
    "        return str(self)\n",
    "    \n",
    "    def applyToTokens(self, tokens: List[str]) -> None:\n",
    "        \"\"\"\n",
    "        Applies the deletion to the given list of tokens. Raises an error if the token index is out of bounds.\n",
    "        \"\"\"\n",
    "\n",
    "        if self.__tokenIndex >= len(tokens):\n",
    "            raise IndexError(\"DeleteOperation: cannot delete at index {} (out of bounds)\".format(self.__tokenIndex))\n",
    "\n",
    "        del tokens[self.__tokenIndex]"
   ]
  },
  {
   "cell_type": "code",
   "execution_count": null,
   "metadata": {},
   "outputs": [
    {
     "data": {
      "text/plain": [
       "'public static void METHOD_1 ( ) { }'"
      ]
     },
     "execution_count": null,
     "metadata": {},
     "output_type": "execute_result"
    }
   ],
   "source": [
    "method = AbstractMethod(\"public static void METHOD_1 ( ) { }\")\n",
    "method"
   ]
  },
  {
   "cell_type": "code",
   "execution_count": null,
   "metadata": {},
   "outputs": [
    {
     "data": {
      "text/plain": [
       "'public void METHOD_1 ( ) { }'"
      ]
     },
     "execution_count": null,
     "metadata": {},
     "output_type": "execute_result"
    }
   ],
   "source": [
    "method.applyEditOperation(DeleteOperation(1))\n",
    "method"
   ]
  },
  {
   "cell_type": "code",
   "execution_count": null,
   "metadata": {},
   "outputs": [],
   "source": [
    "#export\n",
    "class ReplaceOperation:\n",
    "    \"\"\"\n",
    "    Creates a `ReplaceOperation` which defines the replacement of a token in an `AbstractMethod`. Applying the\n",
    "    operation will replace the token at index `tokenIndex` with token `newToken`.\n",
    "    \"\"\"\n",
    "\n",
    "    def __init__(self, tokenIndex: int, newToken: str) -> None:\n",
    "        self.__tokenIndex = tokenIndex\n",
    "        self.__newToken = newToken\n",
    "    \n",
    "    def __str__(self) -> str:\n",
    "        return 'replace token at index {} with \"{}\"'.format(self.__tokenIndex, self.__newToken)\n",
    "\n",
    "    def __repr__(self) -> str:\n",
    "        return str(self)\n",
    "    \n",
    "    def applyToTokens(self, tokens: List[str]) -> None:\n",
    "        \"\"\"\n",
    "        Applies the replacement to the given list of tokens. Raises an error if the token index is out of bounds.\n",
    "        \"\"\"\n",
    "\n",
    "        if self.__tokenIndex >= len(tokens):\n",
    "            raise IndexError(\"ReplaceOperation: cannot replace at index {} (out of bounds)\".format(self.__tokenIndex))\n",
    "\n",
    "        tokens[self.__tokenIndex] = self.__newToken"
   ]
  },
  {
   "cell_type": "code",
   "execution_count": null,
   "metadata": {},
   "outputs": [
    {
     "data": {
      "text/plain": [
       "'public void METHOD_1 ( ) { }'"
      ]
     },
     "execution_count": null,
     "metadata": {},
     "output_type": "execute_result"
    }
   ],
   "source": [
    "method = AbstractMethod(\"public void METHOD_1 ( ) { }\")\n",
    "method"
   ]
  },
  {
   "cell_type": "code",
   "execution_count": null,
   "metadata": {},
   "outputs": [
    {
     "data": {
      "text/plain": [
       "'private void METHOD_1 ( ) { }'"
      ]
     },
     "execution_count": null,
     "metadata": {},
     "output_type": "execute_result"
    }
   ],
   "source": [
    "method.applyEditOperation(ReplaceOperation(0, \"private\"))\n",
    "method"
   ]
  },
  {
   "cell_type": "code",
   "execution_count": null,
   "metadata": {},
   "outputs": [],
   "source": [
    "#export\n",
    "EditOperation = Union[InsertOperation, DeleteOperation, ReplaceOperation]"
   ]
  }
 ],
 "metadata": {
  "kernelspec": {
   "display_name": "Python 3.8.8 64-bit",
   "metadata": {
    "interpreter": {
     "hash": "95eed3a2e5f66200910c1f4589317f5118964a2e963f88ece470a1d5f8ab7722"
    }
   },
   "name": "python3"
  }
 },
 "nbformat": 4,
 "nbformat_minor": 2
}
