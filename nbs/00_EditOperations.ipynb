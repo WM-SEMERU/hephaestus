{
 "cells": [
  {
   "cell_type": "code",
   "execution_count": null,
   "metadata": {},
   "outputs": [],
   "source": [
    "#default_exp EditOperations"
   ]
  },
  {
   "cell_type": "code",
   "execution_count": null,
   "metadata": {},
   "outputs": [],
   "source": [
    "#export\n",
    "#hide\n",
    "from typing import List, Union, Tuple, Type"
   ]
  },
  {
   "cell_type": "code",
   "execution_count": null,
   "metadata": {},
   "outputs": [],
   "source": [
    "#hide\n",
    "import sys\n",
    "sys.path.append(\"..\")\n",
    "\n",
    "from hephaestus.AbstractMethod import *"
   ]
  },
  {
   "cell_type": "code",
   "execution_count": null,
   "metadata": {},
   "outputs": [],
   "source": [
    "#hide\n",
    "from nbdev.showdoc import *"
   ]
  },
  {
   "cell_type": "markdown",
   "metadata": {},
   "source": [
    "# EditOperations\n",
    "\n",
    "> Defines various EditOperations which can be applied to an AbstractMethod to change its tokens."
   ]
  },
  {
   "cell_type": "code",
   "execution_count": null,
   "metadata": {},
   "outputs": [],
   "source": [
    "#export\n",
    "class InsertOperation:\n",
    "    \"\"\"\n",
    "    Creates an `InsertOperation` which defines the insertion of a token into an `AbstractMethod`. Applying the\n",
    "    operation will insert token `newToken` at index `tokenIndex`.\n",
    "    \"\"\"\n",
    "\n",
    "    def __init__(self, tokenIndex: int, newToken: str) -> None:\n",
    "        self.__tokenIndex = tokenIndex\n",
    "        self.__newToken = newToken\n",
    "    \n",
    "    def __str__(self) -> str:\n",
    "        return \"INSERT {} -> '{}'\".format(self.__tokenIndex, self.__newToken)\n",
    "    \n",
    "    def __repr__(self) -> str:\n",
    "        return str(self)\n",
    "\n",
    "    def getIndex(self) -> int:\n",
    "        \"\"\"\n",
    "        Returns the index of the insertion.\n",
    "        \"\"\"\n",
    "        return self.__tokenIndex\n",
    "    \n",
    "    def getToken(self) -> str:\n",
    "        \"\"\"\n",
    "        Returns the token to be inserted.\n",
    "        \"\"\"\n",
    "        return self.__newToken\n",
    "    \n",
    "    def applyToTokens(self, tokens: List[str]) -> None:\n",
    "        \"\"\"\n",
    "        Applies the insertion to the given list of tokens. Raises an error if the token index is out of bounds.\n",
    "        \"\"\"\n",
    "\n",
    "        if self.__tokenIndex > len(tokens):\n",
    "            raise IndexError(\"InsertOperation: cannot insert at index {} (out of bounds)\".format(self.__tokenIndex))\n",
    "        \n",
    "        tokens.insert(self.__tokenIndex, self.__newToken)"
   ]
  },
  {
   "cell_type": "code",
   "execution_count": null,
   "metadata": {},
   "outputs": [
    {
     "data": {
      "text/plain": [
       "public void METHOD_1 ( ) { }"
      ]
     },
     "execution_count": null,
     "metadata": {},
     "output_type": "execute_result"
    }
   ],
   "source": [
    "method = AbstractMethod(\"public void METHOD_1 ( ) { }\")\n",
    "method"
   ]
  },
  {
   "cell_type": "code",
   "execution_count": null,
   "metadata": {},
   "outputs": [
    {
     "data": {
      "text/plain": [
       "public static void METHOD_1 ( ) { }"
      ]
     },
     "execution_count": null,
     "metadata": {},
     "output_type": "execute_result"
    }
   ],
   "source": [
    "method.applyEditOperation(InsertOperation(1, \"static\"))\n",
    "method"
   ]
  },
  {
   "cell_type": "code",
   "execution_count": null,
   "metadata": {},
   "outputs": [],
   "source": [
    "#export\n",
    "class DeleteOperation:\n",
    "    \"\"\"\n",
    "    Creates a `DeleteOperation` which defines the deletion of a token from an `AbstractMethod`. Applying the\n",
    "    operation will delete the token at index `tokenIndex`.\n",
    "    \"\"\"\n",
    "\n",
    "    def __init__(self, tokenIndex: int) -> None:\n",
    "        self.__tokenIndex = tokenIndex\n",
    "    \n",
    "    def __str__(self) -> str:\n",
    "        return \"DELETE {}\".format(self.__tokenIndex)\n",
    "\n",
    "    def __repr__(self) -> str:\n",
    "        return str(self)\n",
    "    \n",
    "    def getIndex(self) -> int:\n",
    "        \"\"\"\n",
    "        Returns the index of the deletion.\n",
    "        \"\"\"\n",
    "        return self.__tokenIndex\n",
    "    \n",
    "    def getToken(self) -> None:\n",
    "        \"\"\"\n",
    "        Returns the token to be inserted. Since there is never an inserted token, return None.\n",
    "        \"\"\"\n",
    "        return None\n",
    "    \n",
    "    def applyToTokens(self, tokens: List[str]) -> None:\n",
    "        \"\"\"\n",
    "        Applies the deletion to the given list of tokens. Raises an error if the token index is out of bounds.\n",
    "        \"\"\"\n",
    "\n",
    "        if self.__tokenIndex >= len(tokens):\n",
    "            raise IndexError(\"DeleteOperation: cannot delete at index {} (out of bounds)\".format(self.__tokenIndex))\n",
    "\n",
    "        del tokens[self.__tokenIndex]"
   ]
  },
  {
   "cell_type": "code",
   "execution_count": null,
   "metadata": {},
   "outputs": [
    {
     "data": {
      "text/plain": [
       "public static void METHOD_1 ( ) { }"
      ]
     },
     "execution_count": null,
     "metadata": {},
     "output_type": "execute_result"
    }
   ],
   "source": [
    "method = AbstractMethod(\"public static void METHOD_1 ( ) { }\")\n",
    "method"
   ]
  },
  {
   "cell_type": "code",
   "execution_count": null,
   "metadata": {},
   "outputs": [
    {
     "data": {
      "text/plain": [
       "public void METHOD_1 ( ) { }"
      ]
     },
     "execution_count": null,
     "metadata": {},
     "output_type": "execute_result"
    }
   ],
   "source": [
    "method.applyEditOperation(DeleteOperation(1))\n",
    "method"
   ]
  },
  {
   "cell_type": "code",
   "execution_count": null,
   "metadata": {},
   "outputs": [],
   "source": [
    "#export\n",
    "class ReplaceOperation:\n",
    "    \"\"\"\n",
    "    Creates a `ReplaceOperation` which defines the replacement of a token in an `AbstractMethod`. Applying the\n",
    "    operation will replace the token at index `tokenIndex` with token `newToken`.\n",
    "    \"\"\"\n",
    "\n",
    "    def __init__(self, tokenIndex: int, newToken: str) -> None:\n",
    "        self.__tokenIndex = tokenIndex\n",
    "        self.__newToken = newToken\n",
    "    \n",
    "    def __str__(self) -> str:\n",
    "        return \"REPLACE {} -> '{}'\".format(self.__tokenIndex, self.__newToken)\n",
    "\n",
    "    def __repr__(self) -> str:\n",
    "        return str(self)\n",
    "    \n",
    "    def getIndex(self) -> int:\n",
    "        \"\"\"\n",
    "        Returns the index of the replacement.\n",
    "        \"\"\"\n",
    "        return self.__tokenIndex\n",
    "    \n",
    "    def getToken(self) -> str:\n",
    "        \"\"\"\n",
    "        Returns the replacing token.\n",
    "        \"\"\"\n",
    "        return self.__newToken\n",
    "    \n",
    "    def applyToTokens(self, tokens: List[str]) -> None:\n",
    "        \"\"\"\n",
    "        Applies the replacement to the given list of tokens. Raises an error if the token index is out of bounds.\n",
    "        \"\"\"\n",
    "\n",
    "        if self.__tokenIndex >= len(tokens):\n",
    "            raise IndexError(\"ReplaceOperation: cannot replace at index {} (out of bounds)\".format(self.__tokenIndex))\n",
    "\n",
    "        tokens[self.__tokenIndex] = self.__newToken"
   ]
  },
  {
   "cell_type": "code",
   "execution_count": null,
   "metadata": {},
   "outputs": [
    {
     "data": {
      "text/plain": [
       "public void METHOD_1 ( ) { }"
      ]
     },
     "execution_count": null,
     "metadata": {},
     "output_type": "execute_result"
    }
   ],
   "source": [
    "method = AbstractMethod(\"public void METHOD_1 ( ) { }\")\n",
    "method"
   ]
  },
  {
   "cell_type": "code",
   "execution_count": null,
   "metadata": {},
   "outputs": [
    {
     "data": {
      "text/plain": [
       "private void METHOD_1 ( ) { }"
      ]
     },
     "execution_count": null,
     "metadata": {},
     "output_type": "execute_result"
    }
   ],
   "source": [
    "method.applyEditOperation(ReplaceOperation(0, \"private\"))\n",
    "method"
   ]
  },
  {
   "cell_type": "code",
   "execution_count": null,
   "metadata": {},
   "outputs": [],
   "source": [
    "#export\n",
    "#hide\n",
    "# Define this here first with a forward reference to CompoundOperation\n",
    "EditOperation = Union[InsertOperation, DeleteOperation, ReplaceOperation, \"CompoundOperation\"]"
   ]
  },
  {
   "cell_type": "code",
   "execution_count": null,
   "metadata": {},
   "outputs": [],
   "source": [
    "#export\n",
    "class CompoundOperation:\n",
    "    \"\"\"\n",
    "    Creates a `CompoundOperation`, which represents a combination of EditOperations starting the given `operation`. More \n",
    "    operations can later be added. Applying the `CompoundOperation` to an `AbstractMethod` will apply all successfully\n",
    "    added operations, in order.\n",
    "    \"\"\"\n",
    "\n",
    "    def __init__(self, operation: EditOperation) -> None:\n",
    "        \"\"\"\n",
    "        Creates the compound operation from the given operation.\n",
    "\n",
    "        Members:\n",
    "\n",
    "        `__beginIndex`: start of the range of deleted tokens\n",
    "        `__endIndex`: end of the range of deleted tokens\n",
    "        `__newTokens`: list of tokens to add\n",
    "        `__type`: the type of the compound operation; can either be InsertOperation, DeleteOperation, or ReplaceOperation\n",
    "        \"\"\"\n",
    "        \n",
    "        # determine the range of deleted indices, will be nothing for an insert operation, or will span >= 1\n",
    "        # token for any other type\n",
    "        if type(operation) is CompoundOperation:\n",
    "            self.__beginIndex, self.__endIndex = operation.getIndexRange()\n",
    "        else:\n",
    "            self.__beginIndex = operation.getIndex()\n",
    "            self.__endIndex = self.__beginIndex if type(operation) is InsertOperation else self.__beginIndex + 1\n",
    "        \n",
    "        # determine new tokens which will be added, will be nothing for delete operation\n",
    "        if type(operation) is CompoundOperation:\n",
    "            self.__newTokens = operation.getTokens()\n",
    "        else:\n",
    "            self.__newTokens = [] if type(operation) is DeleteOperation else [operation.getToken()]\n",
    "        \n",
    "        # set the type\n",
    "        self.__type = None\n",
    "        self.__setType()\n",
    "    \n",
    "    def __str__(self) -> str:\n",
    "\n",
    "        s =  \"COMPOUND_{} \".format({\n",
    "            InsertOperation: \"INSERT\",\n",
    "            DeleteOperation: \"DELETE\",\n",
    "            ReplaceOperation: \"REPLACE\"\n",
    "        }[self.__type])\n",
    "        \n",
    "        if self.__type is InsertOperation:\n",
    "            s += \"{}\".format(self.__beginIndex)\n",
    "        else:\n",
    "            s += \"{}:{}\".format(self.__beginIndex, self.__endIndex)\n",
    "        \n",
    "        if self.__type is not DeleteOperation:\n",
    "            s += \" -> {}\".format(self.__newTokens)\n",
    "        \n",
    "        return s\n",
    "    \n",
    "    def __repr__(self) -> str:\n",
    "        return str(self)\n",
    "    \n",
    "    def __len__(self) -> int:\n",
    "        \"\"\"\n",
    "        Returns the Levenshtein distance from A to B, where A is some `AbstractMethod` and B is the `AbstractMethod`\n",
    "        resulting from applying this compound operation to A.\n",
    "        \"\"\"\n",
    "        return max(self.__endIndex - self.__beginIndex, len(self.__newTokens))\n",
    "    \n",
    "    def getIndexRange(self) -> Tuple[int, int]:\n",
    "        \"\"\"\n",
    "        Returns the range of indices whose tokens are deleted as a tuple in the form [start, end).\n",
    "        \"\"\"\n",
    "        return (self.__beginIndex, self.__endIndex)\n",
    "    \n",
    "    def getTokens(self) -> List[str]:\n",
    "        \"\"\"\n",
    "        Returns the list of tokens to be added.\n",
    "        \"\"\"\n",
    "        return self.__newTokens.copy()\n",
    "    \n",
    "    def getType(self) -> Type[EditOperation]:\n",
    "        \"\"\"\n",
    "        Returns the type of the `CompoundOperation`, which can be one of three values:\n",
    "\n",
    "        - `InsertOperation`: Applying this operation will only result in token insertions\n",
    "        - `DeleteOperation`: Applying this operation will only result in token deletions\n",
    "        - `ReplaceOperation`: Applying this operation will result in token deletions and insertions\n",
    "        \"\"\"\n",
    "        return self.__type\n",
    "\n",
    "    def addLoose(self, operation: EditOperation) -> bool:\n",
    "        \"\"\"\n",
    "        Attempts to add the given `operation` such that it is loosely compatible with the overall `CompoundOperation`.\n",
    "        This may change the type of the `CompoundOperation`. If the addition was successful, then returns True; else,\n",
    "        returns False.\n",
    "        \"\"\"\n",
    "        \n",
    "        # turn the operation to be inserted into a compound operation, then get attibutes\n",
    "        op = CompoundOperation(operation)\n",
    "        opBeginIndex, opEndIndex = op.getIndexRange()\n",
    "        opTokens = op.getTokens()\n",
    "\n",
    "        # this is one past the index of the token last affected once this operation is applied\n",
    "        endAffectedIndex = self.__beginIndex + len(self.__newTokens)\n",
    "\n",
    "        # if the ranges of affected tokens do not touch, then quit\n",
    "        if opEndIndex < self.__beginIndex or opBeginIndex > endAffectedIndex:\n",
    "            return False\n",
    "        \n",
    "        # determine how this operation will change considering the added operation\n",
    "        if opBeginIndex < self.__beginIndex:\n",
    "            if opEndIndex <= endAffectedIndex:\n",
    "                self.__newTokens = opTokens + self.__newTokens[opEndIndex - self.__beginIndex :]\n",
    "                self.__beginIndex = opBeginIndex\n",
    "            else:\n",
    "                self.__newTokens = opTokens\n",
    "                self.__beginIndex = opBeginIndex\n",
    "                self.__endIndex += opEndIndex - endAffectedIndex\n",
    "        else:\n",
    "            if opEndIndex <= endAffectedIndex:\n",
    "                self.__newTokens = (self.__newTokens[: opBeginIndex - self.__beginIndex] + opTokens +\n",
    "                        self.__newTokens[opEndIndex - self.__beginIndex :])\n",
    "            else:\n",
    "                self.__newTokens = self.__newTokens[: opBeginIndex - self.__beginIndex] + opTokens\n",
    "                self.__endIndex += opEndIndex - endAffectedIndex\n",
    "\n",
    "        # set the type and return true\n",
    "        self.__setType()\n",
    "        return True\n",
    "    \n",
    "    def addStrict(self, operation: EditOperation) -> bool:\n",
    "        \"\"\"\n",
    "        Attempts to add the given `operation` such that it is strictly compatible with the overall `CompoundOperation`.\n",
    "        If the addition was successful, then returns True; else, returns False.\n",
    "        \"\"\"\n",
    "\n",
    "        # stop if the operation is not of the same type\n",
    "        if not (type(operation) is self.__type or \n",
    "                type(operation) is CompoundOperation and operation.getType() is self.__type):\n",
    "            return False\n",
    "\n",
    "        # add the operation\n",
    "        return self.addLoose(operation)\n",
    "    \n",
    "    def applyToTokens(self, tokens: List[str]) -> None:\n",
    "        \"\"\"\n",
    "        Applies the operation to the given list of tokens. Raises an error if it affects token indices which\n",
    "        are out of bounds.\n",
    "        \"\"\"\n",
    "\n",
    "        if self.__endIndex > len(tokens):\n",
    "            raise IndexError(\"CompoundOperation: cannot delete index range {}:{} (out of bounds)\".format(\n",
    "                    self.__beginIndex, self.__endIndex))\n",
    "\n",
    "        tokens[self.__beginIndex:self.__endIndex] = self.__newTokens\n",
    "    \n",
    "    def __setType(self) -> None:\n",
    "        \"\"\"\n",
    "        Sets the type based on the index range and the tokens to be inserted.\n",
    "        \"\"\"\n",
    "\n",
    "        indexRange = self.__endIndex - self.__beginIndex\n",
    "\n",
    "        # If nothing is removed and nothing is inserted, then it's a replace operation\n",
    "        if indexRange == 0 and len(self.__newTokens) == 0:\n",
    "            self.__type = ReplaceOperation\n",
    "        \n",
    "        # If nothing is removed, then it's an insert operation\n",
    "        elif indexRange == 0:\n",
    "            self.__type = InsertOperation\n",
    "        \n",
    "        # if nothing is added, then it's a delete operation\n",
    "        elif len(self.__newTokens) == 0:\n",
    "            self.__type = DeleteOperation\n",
    "        \n",
    "        # anything else means that there are removals and additions, so it's a replaceOperation\n",
    "        else:\n",
    "            self.__type = ReplaceOperation"
   ]
  },
  {
   "cell_type": "markdown",
   "metadata": {},
   "source": [
    "### Principles of CompoundOperations \n",
    "\n",
    "#### Type\n",
    "\n",
    "Each `CompoundOperation` has a *type*, which is one of the following:\n",
    "\n",
    "- `InsertOperation` -- indicates that no tokens are removed and at least one token is added\n",
    "- `DeleteOperation` -- indicates that at least one token is removed and no tokens are added\n",
    "- `ReplaceOperation` -- indicates one of the following:\n",
    "    - no tokens are removed or added\n",
    "    - at least one token is removed and at least one token is added  \n",
    "    \n",
    "#### Loose Compatibility\n",
    "\n",
    "A squence of EditOperations is said to be *loosely compatible* if, when the operations are applied to an `AbstractMethod` directly after one another, the `AbstractMethod` is modified in one contiguous section. A `CompoundOperation` is loose when it consists of EditOperations that are loosely compatible with one another. Note that the order in which the EditOperations are applied matters. Take the following examples, which both utilize the same EditOperations:"
   ]
  },
  {
   "cell_type": "code",
   "execution_count": null,
   "metadata": {},
   "outputs": [
    {
     "data": {
      "text/plain": [
       "C D"
      ]
     },
     "execution_count": null,
     "metadata": {},
     "output_type": "execute_result"
    }
   ],
   "source": [
    "method = AbstractMethod(\"A B C D\")\n",
    "method.applyEditOperations([\n",
    "    DeleteOperation(1),\n",
    "    DeleteOperation(0)\n",
    "])\n",
    "method"
   ]
  },
  {
   "cell_type": "markdown",
   "metadata": {},
   "source": [
    "The two operations that were applied are loosely compatible because they modified (deleted) a contiguous section of tokens `['A', 'B']`."
   ]
  },
  {
   "cell_type": "code",
   "execution_count": null,
   "metadata": {},
   "outputs": [
    {
     "data": {
      "text/plain": [
       "B D"
      ]
     },
     "execution_count": null,
     "metadata": {},
     "output_type": "execute_result"
    }
   ],
   "source": [
    "method = AbstractMethod(\"A B C D\")\n",
    "method.applyEditOperations([\n",
    "    DeleteOperation(0),\n",
    "    DeleteOperation(1)\n",
    "])\n",
    "method"
   ]
  },
  {
   "cell_type": "markdown",
   "metadata": {},
   "source": [
    "In this case, even though the same two operations were applied, the operations are not loosely compatible. The first operation deleted the token `'A'`, and the second token deleted the token `'C'`. Since these tokens were not contiguous, the applied operations are not loosely compatible."
   ]
  },
  {
   "cell_type": "markdown",
   "metadata": {},
   "source": [
    "#### Strict compatibility\n",
    "\n",
    "A sequence of EditOperations is said to be *strictly compatible* if it is loosely compatible and all the operations are of the same type. A `CompoundOperation` is strict when it consists of EditOperations which are strictly compatible with one another.\n",
    "\n",
    "These operations are strictly compatible:"
   ]
  },
  {
   "cell_type": "code",
   "execution_count": null,
   "metadata": {},
   "outputs": [
    {
     "data": {
      "text/plain": [
       "DELETE 1"
      ]
     },
     "execution_count": null,
     "metadata": {},
     "output_type": "execute_result"
    }
   ],
   "source": [
    "#hide_output\n",
    "DeleteOperation(1)\n",
    "DeleteOperation(1)"
   ]
  },
  {
   "cell_type": "markdown",
   "metadata": {},
   "source": [
    "These operations are not strictly compatible, even though they are loosely compatible:"
   ]
  },
  {
   "cell_type": "code",
   "execution_count": null,
   "metadata": {},
   "outputs": [
    {
     "data": {
      "text/plain": [
       "INSERT 1 -> 'foo'"
      ]
     },
     "execution_count": null,
     "metadata": {},
     "output_type": "execute_result"
    }
   ],
   "source": [
    "#hide_output\n",
    "DeleteOperation(1)\n",
    "InsertOperation(1, \"foo\")"
   ]
  },
  {
   "cell_type": "code",
   "execution_count": null,
   "metadata": {},
   "outputs": [],
   "source": [
    "#hide\n",
    "from hephaestus.CondenseEditOperations import *"
   ]
  },
  {
   "cell_type": "markdown",
   "metadata": {},
   "source": [
    "### Creating CompoundOperations\n",
    "\n",
    "CompoundOperations are created from a sequence of EditOperations. The easiest way to do this is by using the utility functions `getCondensedBasic`, `getCondensedLoose`, and `getCondensedStrict` found in the `CondenseEditOperations` module. However, you can also create them manually by repeatedly adding EditOperations via the methods below:"
   ]
  },
  {
   "cell_type": "code",
   "execution_count": null,
   "metadata": {},
   "outputs": [
    {
     "data": {
      "text/markdown": [
       "<h4 id=\"CompoundOperation.addLoose\" class=\"doc_header\"><code>CompoundOperation.addLoose</code><a href=\"__main__.py#L89\" class=\"source_link\" style=\"float:right\">[source]</a></h4>\n",
       "\n",
       "> <code>CompoundOperation.addLoose</code>(**`operation`**:`Union`\\[[`InsertOperation`](/hephaestus/EditOperations.html#InsertOperation), [`DeleteOperation`](/hephaestus/EditOperations.html#DeleteOperation), [`ReplaceOperation`](/hephaestus/EditOperations.html#ReplaceOperation), `ForwardRef('CompoundOperation')`\\])\n",
       "\n",
       "Attempts to add the given `operation` such that it is loosely compatible with the overall [`CompoundOperation`](/hephaestus/EditOperations.html#CompoundOperation).\n",
       "This may change the type of the [`CompoundOperation`](/hephaestus/EditOperations.html#CompoundOperation). If the addition was successful, then returns True; else,\n",
       "returns False."
      ],
      "text/plain": [
       "<IPython.core.display.Markdown object>"
      ]
     },
     "metadata": {},
     "output_type": "display_data"
    }
   ],
   "source": [
    "#hide_input\n",
    "show_doc(CompoundOperation.addLoose)"
   ]
  },
  {
   "cell_type": "code",
   "execution_count": null,
   "metadata": {},
   "outputs": [
    {
     "data": {
      "text/markdown": [
       "<h4 id=\"CompoundOperation.addStrict\" class=\"doc_header\"><code>CompoundOperation.addStrict</code><a href=\"__main__.py#L129\" class=\"source_link\" style=\"float:right\">[source]</a></h4>\n",
       "\n",
       "> <code>CompoundOperation.addStrict</code>(**`operation`**:`Union`\\[[`InsertOperation`](/hephaestus/EditOperations.html#InsertOperation), [`DeleteOperation`](/hephaestus/EditOperations.html#DeleteOperation), [`ReplaceOperation`](/hephaestus/EditOperations.html#ReplaceOperation), `ForwardRef('CompoundOperation')`\\])\n",
       "\n",
       "Attempts to add the given `operation` such that it is strictly compatible with the overall [`CompoundOperation`](/hephaestus/EditOperations.html#CompoundOperation).\n",
       "If the addition was successful, then returns True; else, returns False."
      ],
      "text/plain": [
       "<IPython.core.display.Markdown object>"
      ]
     },
     "metadata": {},
     "output_type": "display_data"
    }
   ],
   "source": [
    "#hide_input\n",
    "show_doc(CompoundOperation.addStrict)"
   ]
  },
  {
   "cell_type": "code",
   "execution_count": null,
   "metadata": {},
   "outputs": [],
   "source": [
    "#export\n",
    "#hide\n",
    "# define for a second time here so that CompoundOperation no longer has to be a forward declaration\n",
    "EditOperation = Union[InsertOperation, DeleteOperation, ReplaceOperation, CompoundOperation]"
   ]
  }
 ],
 "metadata": {
  "kernelspec": {
   "display_name": "Python 3",
   "language": "python",
   "name": "python3"
  }
 },
 "nbformat": 4,
 "nbformat_minor": 2
}
