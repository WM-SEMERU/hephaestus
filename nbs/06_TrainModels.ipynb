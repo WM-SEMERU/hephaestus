{
 "cells": [
  {
   "cell_type": "code",
   "execution_count": null,
   "metadata": {},
   "outputs": [],
   "source": [
    "#default_exp TrainModels"
   ]
  },
  {
   "cell_type": "code",
   "execution_count": null,
   "metadata": {},
   "outputs": [],
   "source": [
    "#export\n",
    "#hide\n",
    "import os\n",
    "\n",
    "import sys\n",
    "sys.path.append(\"..\")\n",
    "\n",
    "from hephaestus.DatasetConstruction import *\n",
    "from hephaestus.HephaestusModel import *"
   ]
  },
  {
   "cell_type": "markdown",
   "metadata": {},
   "source": [
    "# TrainModels\n",
    "\n",
    "> Scripts for training models with various parameters."
   ]
  },
  {
   "cell_type": "code",
   "execution_count": null,
   "metadata": {},
   "outputs": [],
   "source": [
    "#export\n",
    "#hide\n",
    "MODEL_BASE_DIR = \"models\""
   ]
  },
  {
   "cell_type": "code",
   "execution_count": null,
   "metadata": {},
   "outputs": [],
   "source": [
    "#export\n",
    "#hide\n",
    "DEFAULT_PARAMS_DIR = \"default_params\"\n",
    "\n",
    "# models with default parameters\n",
    "MODEL_DEFAULT_CONTROL = os.path.join(MODEL_BASE_DIR, DEFAULT_PARAMS_DIR, \"control\")\n",
    "MODEL_DEFAULT_BASIC =   os.path.join(MODEL_BASE_DIR, DEFAULT_PARAMS_DIR, \"basic_ops\")\n",
    "MODEL_DEFAULT_STRICT =  os.path.join(MODEL_BASE_DIR, DEFAULT_PARAMS_DIR, \"strict_ops\")\n",
    "MODEL_DEFAULT_LOOSE =   os.path.join(MODEL_BASE_DIR, DEFAULT_PARAMS_DIR, \"loose_ops\")"
   ]
  },
  {
   "cell_type": "markdown",
   "metadata": {},
   "source": [
    "## Default parameters\n",
    "\n",
    "These models are trained with the default parameters, which are as close as possible to [Tufano et al.'s](https://arxiv.org/pdf/1812.08693.pdf) highest performing model. Refer to `HephaestusModel.train` for more information on what the default parameters are.\n",
    "\n",
    "### Model paths\n",
    "\n",
    "| Variable name           | Value                                |\n",
    "| :---------------------- | :----------------------------------- |\n",
    "| `MODEL_DEFAULT_CONTROL` | `\"models/default_params/control\"`    |\n",
    "| `MODEL_DEFAULT_BASIC`   | `\"models/default_params/basic_ops\"`  |\n",
    "| `MODEL_DEFAULT_STRICT`  | `\"models/default_params/strict_ops\"` |\n",
    "| `MODEL_DEFAULT_LOOSE`   | `\"models/default_params/loose_ops\"`  |"
   ]
  },
  {
   "cell_type": "markdown",
   "metadata": {},
   "source": [
    "### Models\n",
    "\n",
    "**Control -- trained only on AbstractMethods (no EditOperations):**"
   ]
  },
  {
   "cell_type": "code",
   "execution_count": null,
   "metadata": {},
   "outputs": [],
   "source": [
    "modelDefaultControl = HephaestusModel(MODEL_DEFAULT_CONTROL)\n",
    "modelDefaultControl.train(\n",
    "    DATA_SMALL_METHODS_TRAIN_BUGGY,\n",
    "    DATA_SMALL_METHODS_TRAIN_FIXED,\n",
    "    DATA_SMALL_METHODS_VALID_BUGGY,\n",
    "    DATA_SMALL_METHODS_VALID_FIXED\n",
    ")"
   ]
  },
  {
   "cell_type": "markdown",
   "metadata": {},
   "source": [
    "**Trained on basic condensed EditOperations:**"
   ]
  },
  {
   "cell_type": "code",
   "execution_count": null,
   "metadata": {},
   "outputs": [],
   "source": [
    "modelBasicDefault = HephaestusModel(MODEL_DEFAULT_BASIC)\n",
    "modelBasicDefault.train(\n",
    "    DATA_SMALL_METHODS_TRAIN_BUGGY,\n",
    "    DATA_SMALL_OPS_BASIC_TRAIN,\n",
    "    DATA_SMALL_METHODS_VALID_BUGGY,\n",
    "    DATA_SMALL_OPS_BASIC_VALID\n",
    ")"
   ]
  },
  {
   "cell_type": "markdown",
   "metadata": {},
   "source": [
    "**Trained on strictly condensed EditOperations:**"
   ]
  },
  {
   "cell_type": "code",
   "execution_count": null,
   "metadata": {},
   "outputs": [],
   "source": [
    "modelStrictDefault = HephaestusModel(MODEL_DEFAULT_STRICT)\n",
    "modelStrictDefault.train(\n",
    "    DATA_SMALL_METHODS_TRAIN_BUGGY,\n",
    "    DATA_SMALL_OPS_STRICT_TRAIN,\n",
    "    DATA_SMALL_METHODS_VALID_BUGGY,\n",
    "    DATA_SMALL_OPS_STRICT_VALID\n",
    ")"
   ]
  },
  {
   "cell_type": "markdown",
   "metadata": {},
   "source": [
    "**Trained on loosely condensed EditOperations:**"
   ]
  },
  {
   "cell_type": "code",
   "execution_count": null,
   "metadata": {},
   "outputs": [],
   "source": [
    "modelLooseDefault = HephaestusModel(MODEL_DEFAULT_LOOSE)\n",
    "modelLooseDefault.train(\n",
    "    DATA_SMALL_METHODS_TRAIN_BUGGY,\n",
    "    DATA_SMALL_OPS_LOOSE_TRAIN,\n",
    "    DATA_SMALL_METHODS_VALID_BUGGY,\n",
    "    DATA_SMALL_OPS_LOOSE_VALID\n",
    ")"
   ]
  }
 ],
 "metadata": {
  "kernelspec": {
   "display_name": "Python 3.9.4 64-bit",
   "name": "python38564bit1ada39ffdf0c4119935a34ccde4922f3"
  }
 },
 "nbformat": 4,
 "nbformat_minor": 2
}
