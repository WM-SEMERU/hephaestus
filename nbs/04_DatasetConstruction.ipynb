{
 "cells": [
  {
   "cell_type": "code",
   "execution_count": null,
   "metadata": {},
   "outputs": [],
   "source": [
    "#default_exp DatasetConstruction"
   ]
  },
  {
   "cell_type": "code",
   "execution_count": null,
   "metadata": {},
   "outputs": [],
   "source": [
    "#export\n",
    "#hide\n",
    "from typing import Callable, List\n",
    "from copy import deepcopy\n",
    "\n",
    "import sys\n",
    "sys.path.append(\"..\")\n",
    "\n",
    "from hephaestus.EditOperations import *\n",
    "from hephaestus.CondenseEditOperations import *\n",
    "from hephaestus.IOUtils import *"
   ]
  },
  {
   "cell_type": "code",
   "execution_count": null,
   "metadata": {},
   "outputs": [],
   "source": [
    "#hide\n",
    "from nbdev.showdoc import *"
   ]
  },
  {
   "cell_type": "markdown",
   "metadata": {},
   "source": [
    "# DatasetConstruction\n",
    "\n",
    "> Create datasets based on edit operations from the abstract method data. More specifically, the datasets contain CompoundOperation machine strings."
   ]
  },
  {
   "cell_type": "markdown",
   "metadata": {},
   "source": [
    "## Helper functions"
   ]
  },
  {
   "cell_type": "code",
   "execution_count": null,
   "metadata": {},
   "outputs": [],
   "source": [
    "#export\n",
    "def makeEditOpsFile(\n",
    "    abstractSourceFile: str,\n",
    "    abstractTargetFile: str,\n",
    "    editOpsFile: str,\n",
    "    condenser: Callable[[List[EditOperation]], List[CompoundOperation]]\n",
    ") -> None:\n",
    "    \"\"\"\n",
    "    Determines the list of CompoundEditOperations between abstract methods given in `abstractSourceFile` and\n",
    "    `abstractTargetFile`, then writes those operations in machine format to the given `editOpsFile`. The conversion\n",
    "    process is done with the given `condenser` function, which should be a function provided in the\n",
    "    `CondenseEditOperations` module.\n",
    "    \"\"\"\n",
    "\n",
    "    # get the abstract methods\n",
    "    sourceMethods = readAbstractMethodsFromFile(abstractSourceFile)\n",
    "    targetMethods = readAbstractMethodsFromFile(abstractTargetFile)\n",
    "\n",
    "    # make sure the number of abstract methods in both files are equal\n",
    "    if len(sourceMethods) != len(targetMethods):\n",
    "        raise ValueError(\"makeDataset: number of methods differ in source and target files!\")\n",
    "    \n",
    "    # determine edit operations\n",
    "    operations = []\n",
    "    for sourceMethod, targetMethod in zip(sourceMethods, targetMethods):\n",
    "        operations.append(condenser(sourceMethod.getEditOperationsTo(targetMethod)))\n",
    "    \n",
    "    # write the edit operations to the file\n",
    "    writeCompoundOperationsToFile(editOpsFile, operations)"
   ]
  },
  {
   "cell_type": "markdown",
   "metadata": {},
   "source": [
    "## Preparation\n",
    "\n",
    "Define paths to existing and new data files."
   ]
  },
  {
   "cell_type": "code",
   "execution_count": null,
   "metadata": {},
   "outputs": [],
   "source": [
    "#export\n",
    "# abstract method files\n",
    "DATA_SMALL_METHODS_TRAIN_BUGGY = \"../data/small/abstract_methods/train_buggy.txt\"\n",
    "DATA_SMALL_METHODS_TRAIN_FIXED = \"../data/small/abstract_methods/train_fixed.txt\"\n",
    "\n",
    "DATA_SMALL_METHODS_VALID_BUGGY = \"../data/small/abstract_methods/valid_buggy.txt\"\n",
    "DATA_SMALL_METHODS_VALID_FIXED = \"../data/small/abstract_methods/valid_fixed.txt\"\n",
    "\n",
    "DATA_SMALL_METHODS_TEST_BUGGY  = \"../data/small/abstract_methods/test_buggy.txt\"\n",
    "DATA_SMALL_METHODS_TEST_FIXED  = \"../data/small/abstract_methods/test_fixed.txt\""
   ]
  },
  {
   "cell_type": "code",
   "execution_count": null,
   "metadata": {},
   "outputs": [],
   "source": [
    "#export\n",
    "# edit operation files\n",
    "DATA_SMALL_OPS_BASIC_TRAIN = \"../data/small/edit_ops/basic/train.txt\"\n",
    "DATA_SMALL_OPS_BASIC_VALID = \"../data/small/edit_ops/basic/valid.txt\"\n",
    "\n",
    "DATA_SMALL_OPS_STRICT_TRAIN = \"../data/small/edit_ops/strict/train.txt\"\n",
    "DATA_SMALL_OPS_STRICT_VALID = \"../data/small/edit_ops/strict/valid.txt\"\n",
    "\n",
    "DATA_SMALL_OPS_LOOSE_TRAIN = \"../data/small/edit_ops/loose/train.txt\"\n",
    "DATA_SMALL_OPS_LOOSE_VALID = \"../data/small/edit_ops/loose/valid.txt\""
   ]
  },
  {
   "cell_type": "markdown",
   "metadata": {},
   "source": [
    "### Paths to abstract method data files\n",
    "\n",
    "| Variable name                    | Value                                              |\n",
    "| :------------------------------- | :------------------------------------------------- |\n",
    "| `DATA_SMALL_METHODS_TRAIN_BUGGY` | `\"../data/small/abstract_methods/train_buggy.txt\"` |\n",
    "| `DATA_SMALL_METHODS_TRAIN_FIXED` | `\"../data/small/abstract_methods/train_fixed.txt\"` |\n",
    "| `DATA_SMALL_METHODS_VALID_BUGGY` | `\"../data/small/abstract_methods/valid_buggy.txt\"` |\n",
    "| `DATA_SMALL_METHODS_VALID_FIXED` | `\"../data/small/abstract_methods/valid_fixed.txt\"` |\n",
    "| `DATA_SMALL_METHODS_TEST_BUGGY`  | `\"../data/small/abstract_methods/test_buggy.txt\"`  |\n",
    "| `DATA_SMALL_METHODS_TEST_FIXED`  | `\"../data/small/abstract_methods/test_fixed.txt\"`  |"
   ]
  },
  {
   "cell_type": "markdown",
   "metadata": {},
   "source": [
    "### Paths to EditOperation data files\n",
    "\n",
    "| Variable name                 | Value                                        |\n",
    "| :---------------------------- | :------------------------------------------- |\n",
    "| `DATA_SMALL_OPS_BASIC_TRAIN`  | `\"../data/small/edit_ops/basic/train.txt\"`   |\n",
    "| `DATA_SMALL_OPS_BASIC_VALID`  | `\"../data/small/edit_ops/basic/valid.txt\"`   |\n",
    "| `DATA_SMALL_OPS_STRICT_TRAIN` | ` \"../data/small/edit_ops/strict/train.txt\"` |\n",
    "| `DATA_SMALL_OPS_STRICT_VALID` | ` \"../data/small/edit_ops/strict/valid.txt\"` |\n",
    "| `DATA_SMALL_OPS_LOOSE_TRAIN`  | `\"../data/small/edit_ops/loose/train.txt\"`   |\n",
    "| `DATA_SMALL_OPS_LOOSE_VALID`  | `\"../data/small/edit_ops/loose/valid.txt\"`   |"
   ]
  },
  {
   "cell_type": "markdown",
   "metadata": {},
   "source": [
    "## Basic condensed EditOperations"
   ]
  },
  {
   "cell_type": "code",
   "execution_count": null,
   "metadata": {},
   "outputs": [],
   "source": [
    "# training set for small methods\n",
    "makeEditOpsFile(\n",
    "    DATA_SMALL_METHODS_TRAIN_BUGGY,\n",
    "    DATA_SMALL_METHODS_TRAIN_FIXED,\n",
    "    DATA_SMALL_OPS_BASIC_TRAIN,\n",
    "    getCondensedBasic\n",
    ")"
   ]
  },
  {
   "cell_type": "code",
   "execution_count": null,
   "metadata": {},
   "outputs": [],
   "source": [
    "# validation set for small methods\n",
    "makeEditOpsFile(\n",
    "    DATA_SMALL_METHODS_VALID_BUGGY,\n",
    "    DATA_SMALL_METHODS_VALID_FIXED,\n",
    "    DATA_SMALL_OPS_BASIC_VALID,\n",
    "    getCondensedBasic\n",
    ")"
   ]
  },
  {
   "cell_type": "markdown",
   "metadata": {},
   "source": [
    "## Strictly condensed EditOperations"
   ]
  },
  {
   "cell_type": "code",
   "execution_count": null,
   "metadata": {},
   "outputs": [],
   "source": [
    "# training set for small methods\n",
    "makeEditOpsFile(\n",
    "    DATA_SMALL_METHODS_TRAIN_BUGGY,\n",
    "    DATA_SMALL_METHODS_TRAIN_FIXED,\n",
    "    DATA_SMALL_OPS_STRICT_TRAIN,\n",
    "    getCondensedStrict\n",
    ")"
   ]
  },
  {
   "cell_type": "code",
   "execution_count": null,
   "metadata": {},
   "outputs": [],
   "source": [
    "# validation set for small methods\n",
    "makeEditOpsFile(\n",
    "    DATA_SMALL_METHODS_VALID_BUGGY,\n",
    "    DATA_SMALL_METHODS_VALID_FIXED,\n",
    "    DATA_SMALL_OPS_STRICT_VALID,\n",
    "    getCondensedStrict\n",
    ")"
   ]
  },
  {
   "cell_type": "markdown",
   "metadata": {},
   "source": [
    "## Loosely condensed EditOperations"
   ]
  },
  {
   "cell_type": "code",
   "execution_count": null,
   "metadata": {},
   "outputs": [],
   "source": [
    "# training set for small methods\n",
    "makeEditOpsFile(\n",
    "    DATA_SMALL_METHODS_TRAIN_BUGGY,\n",
    "    DATA_SMALL_METHODS_TRAIN_FIXED,\n",
    "    DATA_SMALL_OPS_LOOSE_TRAIN,\n",
    "    getCondensedLoose\n",
    ")"
   ]
  },
  {
   "cell_type": "code",
   "execution_count": null,
   "metadata": {},
   "outputs": [],
   "source": [
    "# validation set for small methods\n",
    "makeEditOpsFile(\n",
    "    DATA_SMALL_METHODS_VALID_BUGGY,\n",
    "    DATA_SMALL_METHODS_VALID_FIXED,\n",
    "    DATA_SMALL_OPS_LOOSE_VALID,\n",
    "    getCondensedLoose\n",
    ")"
   ]
  },
  {
   "cell_type": "code",
   "execution_count": null,
   "metadata": {},
   "outputs": [],
   "source": [
    "#hide\n",
    "# ALL BELOW CELLS ARE UNIT TESTS"
   ]
  },
  {
   "cell_type": "code",
   "execution_count": null,
   "metadata": {},
   "outputs": [],
   "source": [
    "#hide\n",
    "def validateEditOpsFile(\n",
    "    abstractSourceFile: str,\n",
    "    abstractTargetFile: str,\n",
    "    editOpsFile: str\n",
    ") -> None:\n",
    "    \"\"\"\n",
    "    Ensures that the CompoundOperations in the given `editOpsFile` can be extracted and applied to the AbstractMethods in\n",
    "    the given `abstractSourceFile` to result in the AbstractMethods in the given `abstractTargetFile`.\n",
    "    \"\"\"\n",
    "\n",
    "    # read abstract methods from the source and target files and make sure the number of methods in each is equal\n",
    "    sourceMethods = readAbstractMethodsFromFile(abstractSourceFile)\n",
    "    targetMethods = readAbstractMethodsFromFile(abstractTargetFile)\n",
    "    assert(len(sourceMethods) == len(targetMethods))\n",
    "\n",
    "    # read in edit ops and make sure that they were all able to be read, and that the length matches the number of methods\n",
    "    operations = readCompoundOperationsFromFile(editOpsFile)\n",
    "    assert(all(opList is not None for opList in operations))\n",
    "    assert(len(operations) == len(sourceMethods))\n",
    "\n",
    "    # iterate through each method and verify that applying the operations results in the target method\n",
    "    for sourceMethod, targetMethod, ops in zip(sourceMethods, targetMethods, operations):\n",
    "        fixedMethod = deepcopy(sourceMethod)\n",
    "        fixedMethod.applyEditOperations(ops)\n",
    "        if fixedMethod != targetMethod:\n",
    "            raise AssertionError(\n",
    "                \"Applying operations did not result in the correct AbstractMethod:\\n\" +\n",
    "                \"source method: '{}'\\n\".format(sourceMethod) +\n",
    "                \"target method: '{}'\\n\".format(targetMethod) +\n",
    "                \"operations:    {}\\n\".format(ops) +\n",
    "                \"result:        '{}'\".format(fixedMethod)\n",
    "            )\n",
    "    \n",
    "    print(\"Successfully validated {} rows!\".format(len(sourceMethods)))"
   ]
  },
  {
   "cell_type": "code",
   "execution_count": null,
   "metadata": {},
   "outputs": [
    {
     "name": "stdout",
     "output_type": "stream",
     "text": [
      "Successfully validated 46680 rows!\n"
     ]
    }
   ],
   "source": [
    "#hide\n",
    "# basic training set for small methods\n",
    "validateEditOpsFile(\n",
    "    DATA_SMALL_METHODS_TRAIN_BUGGY,\n",
    "    DATA_SMALL_METHODS_TRAIN_FIXED,\n",
    "    DATA_SMALL_OPS_BASIC_TRAIN\n",
    ")"
   ]
  },
  {
   "cell_type": "code",
   "execution_count": null,
   "metadata": {},
   "outputs": [
    {
     "name": "stdout",
     "output_type": "stream",
     "text": [
      "Successfully validated 5835 rows!\n"
     ]
    }
   ],
   "source": [
    "#hide\n",
    "# basic validation set for small methods\n",
    "validateEditOpsFile(\n",
    "    DATA_SMALL_METHODS_VALID_BUGGY,\n",
    "    DATA_SMALL_METHODS_VALID_FIXED,\n",
    "    DATA_SMALL_OPS_BASIC_VALID\n",
    ")"
   ]
  },
  {
   "cell_type": "code",
   "execution_count": null,
   "metadata": {},
   "outputs": [
    {
     "name": "stdout",
     "output_type": "stream",
     "text": [
      "Successfully validated 46680 rows!\n"
     ]
    }
   ],
   "source": [
    "#hide\n",
    "# strict training set for small methods\n",
    "validateEditOpsFile(\n",
    "    DATA_SMALL_METHODS_TRAIN_BUGGY,\n",
    "    DATA_SMALL_METHODS_TRAIN_FIXED,\n",
    "    DATA_SMALL_OPS_STRICT_TRAIN\n",
    ")"
   ]
  },
  {
   "cell_type": "code",
   "execution_count": null,
   "metadata": {},
   "outputs": [
    {
     "name": "stdout",
     "output_type": "stream",
     "text": [
      "Successfully validated 5835 rows!\n"
     ]
    }
   ],
   "source": [
    "#hide\n",
    "# strict validation set for small methods\n",
    "validateEditOpsFile(\n",
    "    DATA_SMALL_METHODS_VALID_BUGGY,\n",
    "    DATA_SMALL_METHODS_VALID_FIXED,\n",
    "    DATA_SMALL_OPS_STRICT_VALID\n",
    ")"
   ]
  },
  {
   "cell_type": "code",
   "execution_count": null,
   "metadata": {},
   "outputs": [
    {
     "name": "stdout",
     "output_type": "stream",
     "text": [
      "Successfully validated 46680 rows!\n"
     ]
    }
   ],
   "source": [
    "#hide\n",
    "# loose training set for small methods\n",
    "validateEditOpsFile(\n",
    "    DATA_SMALL_METHODS_TRAIN_BUGGY,\n",
    "    DATA_SMALL_METHODS_TRAIN_FIXED,\n",
    "    DATA_SMALL_OPS_LOOSE_TRAIN\n",
    ")"
   ]
  },
  {
   "cell_type": "code",
   "execution_count": null,
   "metadata": {},
   "outputs": [
    {
     "name": "stdout",
     "output_type": "stream",
     "text": [
      "Successfully validated 5835 rows!\n"
     ]
    }
   ],
   "source": [
    "#hide\n",
    "# loose validation set for small methods\n",
    "validateEditOpsFile(\n",
    "    DATA_SMALL_METHODS_VALID_BUGGY,\n",
    "    DATA_SMALL_METHODS_VALID_FIXED,\n",
    "    DATA_SMALL_OPS_LOOSE_VALID\n",
    ")"
   ]
  }
 ],
 "metadata": {
  "kernelspec": {
   "display_name": "Python 3.9.4 64-bit",
   "name": "python38564bit1ada39ffdf0c4119935a34ccde4922f3"
  }
 },
 "nbformat": 4,
 "nbformat_minor": 2
}
