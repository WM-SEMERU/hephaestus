{
 "cells": [
  {
   "cell_type": "code",
   "execution_count": null,
   "metadata": {},
   "outputs": [],
   "source": [
    "#default_exp AbstractMethod"
   ]
  },
  {
   "cell_type": "code",
   "execution_count": null,
   "metadata": {},
   "outputs": [],
   "source": [
    "#export\n",
    "#hide\n",
    "from typing import Union, List\n",
    "\n",
    "import sys\n",
    "sys.path.append(\"..\")\n",
    "\n",
    "from hephaestus.EditOperations import *\n"
   ]
  },
  {
   "cell_type": "code",
   "execution_count": null,
   "metadata": {},
   "outputs": [],
   "source": [
    "#hide\n",
    "from nbdev.showdoc import *"
   ]
  },
  {
   "cell_type": "markdown",
   "metadata": {},
   "source": [
    "# AbstractMethod\n",
    "\n",
    "> Defines the AbstractMethod class which represents a token-abstracted Java method."
   ]
  },
  {
   "cell_type": "code",
   "execution_count": null,
   "metadata": {},
   "outputs": [],
   "source": [
    "#export\n",
    "class AbstractMethod:\n",
    "    \"\"\"\n",
    "    Creates an AbstractMethod from the given `tokens`, which can be either:\n",
    "\n",
    "    - a string with tokens delimited by `delimiter` (defaults to a single space)\n",
    "    - a list of tokens\n",
    "    \"\"\"\n",
    "\n",
    "    def __init__(self, tokens: Union[str, List[str]], delimiter = \" \") -> None:\n",
    "        if type(tokens) is str:\n",
    "            self.__tokens = [] if len(tokens) == 0 else tokens.split(delimiter)\n",
    "        else:\n",
    "            self.__tokens = tokens.copy()\n",
    "    \n",
    "    def __eq__(self, other: \"AbstractMethod\") -> bool:\n",
    "        return type(other) is AbstractMethod and self.__tokens == other.__tokens\n",
    "    \n",
    "    def __getitem__(self, key: int) -> str:\n",
    "        return self.__tokens[key]\n",
    "    \n",
    "    def __len__(self) -> int:\n",
    "        return len(self.__tokens)\n",
    "\n",
    "    def __str__(self) -> str:\n",
    "        return repr(\" \".join(self.__tokens))\n",
    "\n",
    "    def __repr__(self) -> str:\n",
    "        return str(self)\n",
    "    \n",
    "    def applyEditOperation(self, operation: EditOperation):\n",
    "        \"\"\"\n",
    "        Applies the given `operation`.\n",
    "        \"\"\"\n",
    "        operation.applyToTokens(self.__tokens)\n",
    "\n",
    "    def applyEditOperations(self, operations: List[EditOperation]):\n",
    "        \"\"\"\n",
    "        Applies the given list of `operations` in order.\n",
    "        \"\"\"\n",
    "        for op in operations:\n",
    "            self.applyEditOperation(op)\n",
    "    \n",
    "    def getEditOperationsTo(self, other: \"AbstractMethod\") -> List[EditOperation]:\n",
    "        \"\"\"\n",
    "        Returns the minimal list of edit operations which, if applied, would result in the `AbstractMethod`\n",
    "        given by `other`.\n",
    "        \"\"\"\n",
    "        \n",
    "        matrix = self.__getEditOpsMatrix(other)\n",
    "        editOps = []\n",
    "\n",
    "        r = len(matrix) - 1\n",
    "        c = len(matrix[0]) - 1\n",
    "\n",
    "        while True:\n",
    "            if matrix[r][c] == 0:\n",
    "                break\n",
    "            elif r == 0:\n",
    "                c -= 1\n",
    "                editOps.insert(0, InsertOperation(c, other[c]))\n",
    "            elif c == 0:\n",
    "                r -= 1\n",
    "                editOps.insert(0, DeleteOperation(c))\n",
    "            elif self[r - 1] == other[c - 1]:\n",
    "                r -= 1\n",
    "                c -= 1\n",
    "            elif matrix[r][c] == matrix[r - 1][c - 1] + 1:\n",
    "                r -= 1\n",
    "                c -= 1\n",
    "                editOps.insert(0, ReplaceOperation(c, other[c]))\n",
    "            elif matrix[r][c] == matrix[r][c - 1] + 1:\n",
    "                c -= 1\n",
    "                editOps.insert(0, InsertOperation(c, other[c]))\n",
    "            elif matrix[r][c] == matrix[r - 1][c] + 1:\n",
    "                r -= 1\n",
    "                editOps.insert(0, DeleteOperation(c))\n",
    "            else:\n",
    "                raise RuntimeError(\"AbstractMethod: invalid matrix!\")\n",
    "        \n",
    "        return editOps\n",
    "\n",
    "    def __getEditOpsMatrix(self, other: \"AbstractMethod\") -> List[List[int]]:\n",
    "\n",
    "        numRows = len(self) + 1\n",
    "        numCols = len(other) + 1\n",
    "\n",
    "        # initialize matrix\n",
    "        matrix = []\n",
    "        for r in range(numRows):\n",
    "            matrix.append([c if r == 0 else 0 for c in range(numCols)])\n",
    "            matrix[r][0] = r\n",
    "        \n",
    "        # iterate through matrix and assign values\n",
    "        for r in range(1, numRows):\n",
    "            for c in range(1, numCols):\n",
    "\n",
    "                left =    matrix[r    ][c - 1]\n",
    "                topLeft = matrix[r - 1][c - 1]\n",
    "                top =     matrix[r - 1][c    ]\n",
    "\n",
    "                if self[r - 1] == other[c - 1]:\n",
    "                    matrix[r][c] = topLeft\n",
    "                else:\n",
    "                    matrix[r][c] = min(left, topLeft, top) + 1\n",
    "\n",
    "        return matrix"
   ]
  },
  {
   "cell_type": "code",
   "execution_count": null,
   "metadata": {},
   "outputs": [
    {
     "data": {
      "text/plain": [
       "'private static int METHOD_1 ( ) { return 0 ; }'"
      ]
     },
     "execution_count": null,
     "metadata": {},
     "output_type": "execute_result"
    }
   ],
   "source": [
    "method1 = AbstractMethod(\"private static int METHOD_1 ( ) { return 0 ; }\")\n",
    "method1"
   ]
  },
  {
   "cell_type": "code",
   "execution_count": null,
   "metadata": {},
   "outputs": [
    {
     "data": {
      "text/plain": [
       "'public int METHOD_2 ( ) { return 1 ; }'"
      ]
     },
     "execution_count": null,
     "metadata": {},
     "output_type": "execute_result"
    }
   ],
   "source": [
    "method2 = AbstractMethod([\"public\", \"int\", \"METHOD_2\", \"(\", \")\", \"{\", \"return\", \"1\", \";\", \"}\"])\n",
    "method2"
   ]
  },
  {
   "cell_type": "markdown",
   "metadata": {},
   "source": [
    "## Interact with Edit Operations"
   ]
  },
  {
   "cell_type": "code",
   "execution_count": null,
   "metadata": {},
   "outputs": [
    {
     "data": {
      "text/markdown": "<h4 id=\"AbstractMethod.getEditOperationsTo\" class=\"doc_header\"><code>AbstractMethod.getEditOperationsTo</code><a href=\"__main__.py#L44\" class=\"source_link\" style=\"float:right\">[source]</a></h4>\n\n> <code>AbstractMethod.getEditOperationsTo</code>(**`other`**:[`AbstractMethod`](/hephaestus/AbstractMethod.html))\n\nReturns the minimal list of edit operations which, if applied, would result in the [`AbstractMethod`](/hephaestus/AbstractMethod.html)\ngiven by `other`.",
      "text/plain": "<IPython.core.display.Markdown object>"
     },
     "metadata": {},
     "output_type": "display_data"
    }
   ],
   "source": [
    "#hide_input\n",
    "show_doc(AbstractMethod.getEditOperationsTo)"
   ]
  },
  {
   "cell_type": "code",
   "execution_count": null,
   "metadata": {},
   "outputs": [
    {
     "data": {
      "text/plain": [
       "[delete token at index 0,\n",
       " replace token at index 0 with \"public\",\n",
       " replace token at index 2 with \"METHOD_2\",\n",
       " replace token at index 7 with \"1\"]"
      ]
     },
     "execution_count": null,
     "metadata": {},
     "output_type": "execute_result"
    }
   ],
   "source": [
    "operations = method1.getEditOperationsTo(method2)\n",
    "operations"
   ]
  },
  {
   "cell_type": "code",
   "execution_count": null,
   "metadata": {},
   "outputs": [
    {
     "data": {
      "text/markdown": "<h4 id=\"AbstractMethod.applyEditOperation\" class=\"doc_header\"><code>AbstractMethod.applyEditOperation</code><a href=\"__main__.py#L31\" class=\"source_link\" style=\"float:right\">[source]</a></h4>\n\n> <code>AbstractMethod.applyEditOperation</code>(**`operation`**:`Union`\\[[`InsertOperation`](/hephaestus/EditOperations.html#InsertOperation), [`DeleteOperation`](/hephaestus/EditOperations.html#DeleteOperation), [`ReplaceOperation`](/hephaestus/EditOperations.html#ReplaceOperation)\\])\n\nApplies the given `operation`.",
      "text/plain": "<IPython.core.display.Markdown object>"
     },
     "metadata": {},
     "output_type": "display_data"
    }
   ],
   "source": [
    "#hide_input\n",
    "show_doc(AbstractMethod.applyEditOperation)"
   ]
  },
  {
   "cell_type": "markdown",
   "metadata": {},
   "source": [
    "> Note: This changes the original `AbstractMethod`, so you should make a copy if you want to keep the original."
   ]
  },
  {
   "cell_type": "code",
   "execution_count": null,
   "metadata": {},
   "outputs": [
    {
     "data": {
      "text/markdown": "<h4 id=\"AbstractMethod.applyEditOperations\" class=\"doc_header\"><code>AbstractMethod.applyEditOperations</code><a href=\"__main__.py#L37\" class=\"source_link\" style=\"float:right\">[source]</a></h4>\n\n> <code>AbstractMethod.applyEditOperations</code>(**`operations`**:`List`\\[`Union`\\[[`InsertOperation`](/hephaestus/EditOperations.html#InsertOperation), [`DeleteOperation`](/hephaestus/EditOperations.html#DeleteOperation), [`ReplaceOperation`](/hephaestus/EditOperations.html#ReplaceOperation)\\]\\])\n\nApplies the given list of `operations` in order.",
      "text/plain": "<IPython.core.display.Markdown object>"
     },
     "metadata": {},
     "output_type": "display_data"
    }
   ],
   "source": [
    "#hide_input\n",
    "show_doc(AbstractMethod.applyEditOperations)"
   ]
  },
  {
   "cell_type": "markdown",
   "metadata": {},
   "source": [
    "> Note: This changes the original `AbstractMethod`, so you should make a copy if you want to keep the original."
   ]
  },
  {
   "cell_type": "code",
   "execution_count": null,
   "metadata": {},
   "outputs": [
    {
     "data": {
      "text/plain": [
       "'public int METHOD_2 ( ) { return 1 ; }'"
      ]
     },
     "execution_count": null,
     "metadata": {},
     "output_type": "execute_result"
    }
   ],
   "source": [
    "method1.applyEditOperations(operations)\n",
    "method1"
   ]
  },
  {
   "cell_type": "code",
   "execution_count": null,
   "metadata": {},
   "outputs": [
    {
     "data": {
      "text/plain": [
       "'public int METHOD_2 ( ) { return 1 ; }'"
      ]
     },
     "execution_count": null,
     "metadata": {},
     "output_type": "execute_result"
    }
   ],
   "source": [
    "method2"
   ]
  },
  {
   "cell_type": "code",
   "execution_count": null,
   "metadata": {},
   "outputs": [
    {
     "data": {
      "text/plain": [
       "True"
      ]
     },
     "execution_count": null,
     "metadata": {},
     "output_type": "execute_result"
    }
   ],
   "source": [
    "method1 == method2"
   ]
  }
 ],
 "metadata": {
  "kernelspec": {
   "display_name": "Python 3.8.8 64-bit",
   "metadata": {
    "interpreter": {
     "hash": "95eed3a2e5f66200910c1f4589317f5118964a2e963f88ece470a1d5f8ab7722"
    }
   },
   "name": "python3"
  }
 },
 "nbformat": 4,
 "nbformat_minor": 2
}
