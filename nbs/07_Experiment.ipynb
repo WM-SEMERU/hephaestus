{
 "cells": [
  {
   "cell_type": "code",
   "execution_count": null,
   "metadata": {},
   "outputs": [],
   "source": [
    "#default_exp Experiment"
   ]
  },
  {
   "cell_type": "code",
   "execution_count": null,
   "metadata": {},
   "outputs": [],
   "source": [
    "#hide\n",
    "#export\n",
    "from typing import Dict, Any, List\n",
    "import pandas as pd\n",
    "import os\n",
    "from copy import deepcopy\n",
    "\n",
    "import sys\n",
    "sys.path.append(\"..\")\n",
    "\n",
    "from hephaestus.AbstractMethod import *\n",
    "from hephaestus.IOUtils import *\n",
    "from hephaestus.DatasetConstruction import *\n",
    "from hephaestus.HephaestusModel import *\n",
    "from hephaestus.TrainModels import *"
   ]
  },
  {
   "cell_type": "markdown",
   "metadata": {},
   "source": [
    "# Experiment\n",
    "\n",
    "> This is where the science happens. Which model is best? Is it actually beneficial to use EditOperations over raw token sequences when training an NMT model?"
   ]
  },
  {
   "cell_type": "code",
   "execution_count": null,
   "metadata": {},
   "outputs": [],
   "source": [
    "#export\n",
    "class HephaestusModelEvaluation:\n",
    "    \"\"\"\n",
    "    Helper class to centralize computations when evaluating the effectiveness of a `HephaestusModel`.\n",
    "    \n",
    "    Required Arguments:\n",
    "    \n",
    "    - `model`: The `HephaestusModel` to evaluate\n",
    "    - `testSourceMethods`: A list of AbstractMethods representing the buggy abstract methods in the testing set. These\n",
    "      methods should not appear at all in the training or validation sets that were used to train the model.\n",
    "    - `testTargetMethods`: A list of AbstractMethods representing the fixed abstract methods in the testing set. These\n",
    "      methods should not appear at all in the training or validation sets that were used to train the model.\n",
    "    \n",
    "    Optional Arguments:\n",
    "    \n",
    "    - `isControl`: Set to `True` if the model represents the control, i.e. the model was trained purely with\n",
    "      AbstractMethods and not with EditOperations. Defaults to `False`.\n",
    "  \n",
    "    Once created, the `HephaestusModelEvaluation` will contain the following attributes which can be freely accessed:\n",
    "    \n",
    "    - `outputMethods`: A list of AbstractMethods which were translated from the given buggy (source) AbstractMethods.\n",
    "      These represent the model's predictions of what it thinks the fixed methods are. Some of these entries may be\n",
    "      `None`, representing failed predictions.\n",
    "    - `numPerfectPredictions`: The number of `outputMethods` whose tokens exactly match the actual fixed method according\n",
    "      to the provided `testTargetMethods`.\n",
    "    - `perfectPredictionRatio`: The ratio of perfect predictions to total predictions, in the range [0, 1].\n",
    "    - `numFailedPredictions`: The number of `outputMethods` which were not able to be predicted due to ill-formed\n",
    "      EditOperations or other factors. These are represented by `None` values in `outputMethods`.\n",
    "    - `failedPredictionRatio`: The ratio of failed predictions to total predictions, in the range [0, 1].\n",
    "    - `avgEditDistDecrease`: A value representing how much the model \"helped\" in reducing the Levenshtein edit distance\n",
    "      to the `testTargetMethods`. E.g. a value of 3 means that on average, the edit distance from the output methods to\n",
    "      the target methods was 3 less than the edit distance from the source methods to the target methods. Negative values\n",
    "      mean that the model made the output methods further away from the target methods than they originally were as given\n",
    "      by the source methods.\n",
    "    - `trainingStats`: A Pandas DataFrame representing model information while it was training, as in\n",
    "      `HephaestusModel.getTrainingStats`.\n",
    "    \"\"\"\n",
    "\n",
    "    def __init__(self, \n",
    "        model: HephaestusModel,\n",
    "        testSourceMethods: List[AbstractMethod],\n",
    "        testTargetMethods: List[AbstractMethod],\n",
    "        isControl: bool = False\n",
    "    ) -> None:\n",
    "\n",
    "        # use the model to determine output methods\n",
    "        self.outputMethods = model.translate(testSourceMethods, applyEditOperations = not isControl)\n",
    "\n",
    "        # sanity check -- make sure that the lengths of all lists of methods are equal\n",
    "        if not len(testSourceMethods) == len(testTargetMethods) == len(self.outputMethods):\n",
    "            raise RuntimeError(\"HephaestusModelEvaluation: method number mismatch\")\n",
    "        \n",
    "        # determine number of perfect predictions and failed predictions, and edit distance stuff\n",
    "        self.numPerfectPredictions = 0\n",
    "        self.numFailedPredictions = 0\n",
    "        editDistDecreases = []\n",
    "        for outputMethod, sourceMethod, targetMethod in zip(self.outputMethods, testSourceMethods, testTargetMethods):\n",
    "            if outputMethod == targetMethod:\n",
    "                self.numPerfectPredictions += 1\n",
    "            if outputMethod is None:\n",
    "                self.numFailedPredictions += 1\n",
    "            else:\n",
    "                idealDist = sourceMethod.getEditDistanceTo(targetMethod)\n",
    "                actualDist = outputMethod.getEditDistanceTo(targetMethod)\n",
    "                editDistDecreases.append(idealDist - actualDist)\n",
    "        self.avgEditDistDecrease = sum(editDistDecreases) / len(editDistDecreases)\n",
    "        \n",
    "        # obtain perfect prediction and failed prediction ratios\n",
    "        self.perfectPredictionRatio = self.numPerfectPredictions / len(self.outputMethods)\n",
    "        self.failedPredictionRatio = self.numFailedPredictions / len(self.outputMethods)\n",
    "        \n",
    "        # get the training statistics\n",
    "        self.trainingStats = model.getTrainingStats()"
   ]
  },
  {
   "cell_type": "markdown",
   "metadata": {},
   "source": [
    "## Helper functions"
   ]
  },
  {
   "cell_type": "code",
   "execution_count": null,
   "metadata": {},
   "outputs": [],
   "source": [
    "#export\n",
    "def annotateBarPlot(plot) -> None:\n",
    "    \"\"\"\n",
    "    Annotates the bars of the given `plot` with their values.\n",
    "    \"\"\"\n",
    "    \n",
    "    maxSize = max([abs(p.get_height()) for p in plot.patches])\n",
    "    \n",
    "    for p in plot.patches:\n",
    "        plot.annotate(\n",
    "            \"{:.1f}\".format(p.get_height()),\n",
    "            (p.get_x() + p.get_width() / 2, p.get_height() + maxSize * 0.05 * (1 if p.get_height() >= 0 else -1)),\n",
    "            ha = \"center\",\n",
    "            va = \"center\",\n",
    "            size = 10\n",
    "        )"
   ]
  },
  {
   "cell_type": "code",
   "execution_count": null,
   "metadata": {},
   "outputs": [],
   "source": [
    "#export\n",
    "def plotBar(\n",
    "    data: pd.DataFrame,\n",
    "    title: str,\n",
    "    xLabel: str,\n",
    "    yLabel: str,\n",
    "    annotate: bool = True\n",
    ") -> pd.DataFrame:\n",
    "    \"\"\"\n",
    "    Plots an annotated bar graph with the given parameters and returns the `data` DataFrame.\n",
    "    \"\"\"\n",
    "    \n",
    "    minVal = data.values.min()\n",
    "    maxVal = data.values.max()\n",
    "    maxSize = max(abs(minVal), abs(maxVal))\n",
    "    \n",
    "    # create plot\n",
    "    plot = data.plot.bar(\n",
    "        ylim = (0 if minVal >= 0 else minVal - maxSize * 0.15, 0 if maxVal <= 0 else maxVal + maxSize * 0.15),\n",
    "        title = title,\n",
    "        xlabel = xLabel,\n",
    "        ylabel = yLabel,\n",
    "        rot = 0\n",
    "    )\n",
    "    \n",
    "    # annotate if necessary\n",
    "    if annotate:\n",
    "        annotateBarPlot(plot)\n",
    "    \n",
    "    return data"
   ]
  },
  {
   "cell_type": "code",
   "execution_count": null,
   "metadata": {},
   "outputs": [],
   "source": [
    "#export\n",
    "def plotTrainingAccuracies(\n",
    "    evaluations: List[HephaestusModelEvaluation],\n",
    "    lineLabels: List[str],\n",
    "    title: str\n",
    ") -> None:\n",
    "    \"\"\"\n",
    "    Plots the training accuracies of the given `evaluations` as a line graph per training step. The line labels are the\n",
    "    given `lineLabels`. The title is the given `title`.\n",
    "    \"\"\"\n",
    "    \n",
    "    # create dataframe\n",
    "    data = {}\n",
    "    for evaluation, label in zip(evaluations, lineLabels):\n",
    "        data[label] = evaluation.trainingStats[\"trainAccuracy\"].to_list()\n",
    "    frame = pd.DataFrame(data, index = evaluations[0].trainingStats[\"step\"].to_list())\n",
    "    \n",
    "    # create plot\n",
    "    plot = frame.plot.line(\n",
    "        title = title,\n",
    "        xlabel = \"Training Step\",\n",
    "        ylabel = \"Training Accuracy %\",\n",
    "        grid = True\n",
    "    )"
   ]
  },
  {
   "cell_type": "code",
   "execution_count": null,
   "metadata": {},
   "outputs": [],
   "source": [
    "#export\n",
    "def plotPerfectPredictionAccuracies(\n",
    "    evaluations: List[HephaestusModelEvaluation],\n",
    "    xLabels: List[str],\n",
    "    title: str\n",
    ") -> pd.DataFrame:\n",
    "    \"\"\"\n",
    "    Plots the perfect prediction accuracies of the given `evaluations` as a bar graph. The x-axis labels are the\n",
    "    given `xlabels`. The title of the graph is the given `title`. Returns the dataframe used to create the graph.\n",
    "    \"\"\"\n",
    "    return plotBar(\n",
    "        data = pd.DataFrame({\n",
    "            \"acc%\": [100 * e.perfectPredictionRatio for e in evaluations]\n",
    "        }, index = xLabels),\n",
    "        title = title,\n",
    "        xLabel = \"Model\",\n",
    "        yLabel = \"Perfect Prediction Accuracy %\"\n",
    "    )"
   ]
  },
  {
   "cell_type": "code",
   "execution_count": null,
   "metadata": {},
   "outputs": [],
   "source": [
    "#export\n",
    "def plotAllPerfectPredictionAccuracies(\n",
    "    evaluations: Dict[str, HephaestusModelEvaluation],\n",
    "    xLabels: List[str]\n",
    ") -> None:\n",
    "    \"\"\"\n",
    "    Plots the perfect predictions accuracies of all given `evaluations` as a nested bar graph. The x-axis labels are the\n",
    "    given `xLabels`. Returns the dataframe used to create the graph.\n",
    "    \"\"\"\n",
    "    \n",
    "    data = {}\n",
    "    for key in evaluations:\n",
    "        data[key] = [100 * e.perfectPredictionRatio for e in evaluations[key]]\n",
    "    frame = pd.DataFrame(data, index = xLabels)\n",
    "    \n",
    "    return plotBar(\n",
    "        data = pd.DataFrame(data, index = xLabels),\n",
    "        title = \"Perfect Prediction Accuracies of All Models\",\n",
    "        xLabel = \"Model\",\n",
    "        yLabel = \"Perfect Prediction Accuracy %\",\n",
    "        annotate = False\n",
    "    )"
   ]
  },
  {
   "cell_type": "code",
   "execution_count": null,
   "metadata": {},
   "outputs": [],
   "source": [
    "#export\n",
    "def plotAvgEditDistDecreases(\n",
    "    evaluations: List[HephaestusModelEvaluation],\n",
    "    xLabels: List[str],\n",
    "    title: str\n",
    ") -> pd.DataFrame:\n",
    "    \"\"\"\n",
    "    Plots the average edit distance decreases of the given `evaluations` as a bar graph. The x-axis labels are the\n",
    "    given `xlabels`. The title of the graph is the given `title`. Returns the dataframe used to create the graph.\n",
    "    \"\"\"\n",
    "    return plotBar(\n",
    "        data = pd.DataFrame({\n",
    "            \"decrease\": [e.avgEditDistDecrease for e in evaluations]\n",
    "        }, index = xLabels),\n",
    "        title = title,\n",
    "        xLabel = \"Model\",\n",
    "        yLabel = \"Average Edit Distance Decrease\"\n",
    "    )"
   ]
  },
  {
   "cell_type": "code",
   "execution_count": null,
   "metadata": {},
   "outputs": [],
   "source": [
    "#export\n",
    "def plotAllAvgEditDistDecreases(\n",
    "    evaluations: Dict[str, HephaestusModelEvaluation],\n",
    "    xLabels: List[str]\n",
    ") -> None:\n",
    "    \"\"\"\n",
    "    Plots the average edit distance decreases of all given `evaluations` as a nested bar graph. The x-axis labels are the\n",
    "    given `xLabels`. Returns the dataframe used to create the graph.\n",
    "    \"\"\"\n",
    "    \n",
    "    data = {}\n",
    "    for key in evaluations:\n",
    "        data[key] = [e.avgEditDistDecrease for e in evaluations[key]]\n",
    "    frame = pd.DataFrame(data, index = xLabels)\n",
    "    \n",
    "    return plotBar(\n",
    "        data = pd.DataFrame(data, index = xLabels),\n",
    "        title = \"Average Edit Distance Decreases of All Models\",\n",
    "        xLabel = \"Model\",\n",
    "        yLabel = \"Average Edit Distance Decrease\",\n",
    "        annotate = False\n",
    "    )"
   ]
  },
  {
   "cell_type": "code",
   "execution_count": null,
   "metadata": {},
   "outputs": [],
   "source": [
    "#export\n",
    "def plotFailedPredictionRates(\n",
    "    evaluations: List[HephaestusModelEvaluation],\n",
    "    xLabels: List[str],\n",
    "    title: str\n",
    ") -> pd.DataFrame:\n",
    "    \"\"\"\n",
    "    Plots the failed prediction rates of the given `evaluations` as a bar graph. The x-axis labels are the\n",
    "    given `xlabels`. The title of the graph is the given `title`. Returns the dataframe used to create the graph.\n",
    "    \"\"\"\n",
    "    return plotBar(\n",
    "        data = pd.DataFrame({\n",
    "            \"rate%\": [100 * e.failedPredictionRatio for e in evaluations]\n",
    "        }, index = xLabels),\n",
    "        title = title,\n",
    "        xLabel = \"Model\",\n",
    "        yLabel = \"Failed Prediction Rate %\"\n",
    "    )"
   ]
  },
  {
   "cell_type": "markdown",
   "metadata": {},
   "source": [
    "## Preparation\n",
    "\n",
    "Collect buggy and fixed methods from the testing dataset. These AbstractMethods do not appear at all in the training or validation data."
   ]
  },
  {
   "cell_type": "code",
   "execution_count": null,
   "metadata": {},
   "outputs": [],
   "source": [
    "testBuggyMethods = readAbstractMethodsFromFile(DATA_SMALL_METHODS_TEST_BUGGY)\n",
    "testFixedMethods = readAbstractMethodsFromFile(DATA_SMALL_METHODS_TEST_FIXED)"
   ]
  },
  {
   "cell_type": "markdown",
   "metadata": {},
   "source": [
    "## Default Parameters\n",
    "\n",
    "Get the `HephaestusModelEvaluation` for each model which was trained with the deafault parameters."
   ]
  },
  {
   "cell_type": "code",
   "execution_count": null,
   "metadata": {},
   "outputs": [
    {
     "name": "stdout",
     "output_type": "stream",
     "text": [
      "[2021-05-16 23:56:12,602 INFO] Translating shard 0.\n",
      "[2021-05-16 23:56:51,650 INFO] PRED AVG SCORE: -0.0585, PRED PPL: 1.0603\n"
     ]
    }
   ],
   "source": [
    "#collapse_output\n",
    "defaultControlEval = HephaestusModelEvaluation(\n",
    "    HephaestusModel(MODEL_DEFAULT_CONTROL),\n",
    "    testBuggyMethods,\n",
    "    testFixedMethods,\n",
    "    isControl = True\n",
    ")"
   ]
  },
  {
   "cell_type": "code",
   "execution_count": null,
   "metadata": {},
   "outputs": [
    {
     "name": "stdout",
     "output_type": "stream",
     "text": [
      "[2021-05-16 23:56:59,451 INFO] Translating shard 0.\n",
      "[2021-05-16 23:58:13,628 INFO] PRED AVG SCORE: -0.0683, PRED PPL: 1.0707\n"
     ]
    }
   ],
   "source": [
    "#collapse_output\n",
    "defaultBasicEval = HephaestusModelEvaluation(\n",
    "    HephaestusModel(MODEL_DEFAULT_BASIC),\n",
    "    testBuggyMethods,\n",
    "    testFixedMethods\n",
    ")"
   ]
  },
  {
   "cell_type": "code",
   "execution_count": null,
   "metadata": {},
   "outputs": [
    {
     "name": "stdout",
     "output_type": "stream",
     "text": [
      "[2021-05-16 23:58:22,377 INFO] Translating shard 0.\n",
      "[2021-05-16 23:58:43,836 INFO] PRED AVG SCORE: -0.4507, PRED PPL: 1.5694\n"
     ]
    }
   ],
   "source": [
    "#collapse_output\n",
    "defaultStrictEval = HephaestusModelEvaluation(\n",
    "    HephaestusModel(MODEL_DEFAULT_STRICT),\n",
    "    testBuggyMethods,\n",
    "    testFixedMethods\n",
    ")"
   ]
  },
  {
   "cell_type": "code",
   "execution_count": null,
   "metadata": {},
   "outputs": [
    {
     "name": "stdout",
     "output_type": "stream",
     "text": [
      "[2021-05-16 23:58:51,889 INFO] Translating shard 0.\n",
      "[2021-05-16 23:59:10,698 INFO] PRED AVG SCORE: -0.4528, PRED PPL: 1.5728\n"
     ]
    }
   ],
   "source": [
    "#collapse_output\n",
    "defaultLooseEval = HephaestusModelEvaluation(\n",
    "    HephaestusModel(MODEL_DEFAULT_LOOSE),\n",
    "    testBuggyMethods,\n",
    "    testFixedMethods\n",
    ")"
   ]
  },
  {
   "cell_type": "markdown",
   "metadata": {},
   "source": [
    "### Training Accuracies"
   ]
  },
  {
   "cell_type": "code",
   "execution_count": null,
   "metadata": {},
   "outputs": [
    {
     "data": {
      "image/png": "[encoded data removed]",
      "text/plain": [
       "<Figure size 432x288 with 1 Axes>"
      ]
     },
     "metadata": {
      "needs_background": "light"
     },
     "output_type": "display_data"
    }
   ],
   "source": [
    "plotTrainingAccuracies(\n",
    "    evaluations = [defaultControlEval, defaultBasicEval, defaultStrictEval, defaultLooseEval],\n",
    "    lineLabels =  [\"control\",          \"basic\",          \"strict\",          \"loose\"],\n",
    "    title = \"Training Accuracies of Models Trained with Default Parameters\"\n",
    ")"
   ]
  },
  {
   "cell_type": "markdown",
   "metadata": {},
   "source": [
    "### Perfect prediction accuracies"
   ]
  },
  {
   "cell_type": "code",
   "execution_count": null,
   "metadata": {},
   "outputs": [
    {
     "data": {
      "text/html": [
       "<div>\n",
       "<style scoped>\n",
       "    .dataframe tbody tr th:only-of-type {\n",
       "        vertical-align: middle;\n",
       "    }\n",
       "\n",
       "    .dataframe tbody tr th {\n",
       "        vertical-align: top;\n",
       "    }\n",
       "\n",
       "    .dataframe thead th {\n",
       "        text-align: right;\n",
       "    }\n",
       "</style>\n",
       "<table border=\"1\" class=\"dataframe\">\n",
       "  <thead>\n",
       "    <tr style=\"text-align: right;\">\n",
       "      <th></th>\n",
       "      <th>acc%</th>\n",
       "    </tr>\n",
       "  </thead>\n",
       "  <tbody>\n",
       "    <tr>\n",
       "      <th>control</th>\n",
       "      <td>14.721508</td>\n",
       "    </tr>\n",
       "    <tr>\n",
       "      <th>basic</th>\n",
       "      <td>7.986290</td>\n",
       "    </tr>\n",
       "    <tr>\n",
       "      <th>strict</th>\n",
       "      <td>7.146530</td>\n",
       "    </tr>\n",
       "    <tr>\n",
       "      <th>loose</th>\n",
       "      <td>7.180805</td>\n",
       "    </tr>\n",
       "  </tbody>\n",
       "</table>\n",
       "</div>"
      ],
      "text/plain": [
       "              acc%\n",
       "control  14.721508\n",
       "basic     7.986290\n",
       "strict    7.146530\n",
       "loose     7.180805"
      ]
     },
     "execution_count": null,
     "metadata": {},
     "output_type": "execute_result"
    },
    {
     "data": {
      "image/png": "[encoded data removed]",
      "text/plain": [
       "<Figure size 432x288 with 1 Axes>"
      ]
     },
     "metadata": {
      "needs_background": "light"
     },
     "output_type": "display_data"
    }
   ],
   "source": [
    "plotPerfectPredictionAccuracies(\n",
    "    evaluations = [defaultControlEval, defaultBasicEval, defaultStrictEval, defaultLooseEval],\n",
    "    xLabels =     [\"control\",          \"basic\",          \"strict\",          \"loose\"],\n",
    "    title = \"Perfect Prediction Accuracies of Models Trained with Default Parameters\"\n",
    ")"
   ]
  },
  {
   "cell_type": "markdown",
   "metadata": {},
   "source": [
    "### Average Edit Distance Decreases\n",
    "\n",
    "The *edit distance decrease* is a value representing how much the the `HephaestusModel` \"helped\" in reducing the Levenshtein edit distance to the fixed methods. E.g. a value of 3 means that on average, the edit distance from the model's outputted methods to the actual fixed methods was 3 less than the edit distance from the original buggy methods to the actual fixed methods. Negative values mean that the model made the output methods further away from the fixed methods than they originally were as given by the buggy methods. Therefore, a higher value is better."
   ]
  },
  {
   "cell_type": "code",
   "execution_count": null,
   "metadata": {},
   "outputs": [
    {
     "data": {
      "text/html": [
       "<div>\n",
       "<style scoped>\n",
       "    .dataframe tbody tr th:only-of-type {\n",
       "        vertical-align: middle;\n",
       "    }\n",
       "\n",
       "    .dataframe tbody tr th {\n",
       "        vertical-align: top;\n",
       "    }\n",
       "\n",
       "    .dataframe thead th {\n",
       "        text-align: right;\n",
       "    }\n",
       "</style>\n",
       "<table border=\"1\" class=\"dataframe\">\n",
       "  <thead>\n",
       "    <tr style=\"text-align: right;\">\n",
       "      <th></th>\n",
       "      <th>decrease</th>\n",
       "    </tr>\n",
       "  </thead>\n",
       "  <tbody>\n",
       "    <tr>\n",
       "      <th>control</th>\n",
       "      <td>-1.528192</td>\n",
       "    </tr>\n",
       "    <tr>\n",
       "      <th>basic</th>\n",
       "      <td>-2.402546</td>\n",
       "    </tr>\n",
       "    <tr>\n",
       "      <th>strict</th>\n",
       "      <td>-1.654924</td>\n",
       "    </tr>\n",
       "    <tr>\n",
       "      <th>loose</th>\n",
       "      <td>-1.843648</td>\n",
       "    </tr>\n",
       "  </tbody>\n",
       "</table>\n",
       "</div>"
      ],
      "text/plain": [
       "         decrease\n",
       "control -1.528192\n",
       "basic   -2.402546\n",
       "strict  -1.654924\n",
       "loose   -1.843648"
      ]
     },
     "execution_count": null,
     "metadata": {},
     "output_type": "execute_result"
    },
    {
     "data": {
      "image/png": "[encoded data removed]",
      "text/plain": [
       "<Figure size 432x288 with 1 Axes>"
      ]
     },
     "metadata": {
      "needs_background": "light"
     },
     "output_type": "display_data"
    }
   ],
   "source": [
    "plotAvgEditDistDecreases(\n",
    "    evaluations = [defaultControlEval, defaultBasicEval, defaultStrictEval, defaultLooseEval],\n",
    "    xLabels =     [\"control\",          \"basic\",          \"strict\",          \"loose\"],\n",
    "    title = \"Average Edit Distance Decreases of Models Trained with Default Parameters\"\n",
    ")"
   ]
  },
  {
   "cell_type": "markdown",
   "metadata": {},
   "source": [
    "### Failed prediction rates\n",
    "\n",
    "How often did the models fail to output an `AbstractMethod`?"
   ]
  },
  {
   "cell_type": "code",
   "execution_count": null,
   "metadata": {},
   "outputs": [
    {
     "data": {
      "text/html": [
       "<div>\n",
       "<style scoped>\n",
       "    .dataframe tbody tr th:only-of-type {\n",
       "        vertical-align: middle;\n",
       "    }\n",
       "\n",
       "    .dataframe tbody tr th {\n",
       "        vertical-align: top;\n",
       "    }\n",
       "\n",
       "    .dataframe thead th {\n",
       "        text-align: right;\n",
       "    }\n",
       "</style>\n",
       "<table border=\"1\" class=\"dataframe\">\n",
       "  <thead>\n",
       "    <tr style=\"text-align: right;\">\n",
       "      <th></th>\n",
       "      <th>rate%</th>\n",
       "    </tr>\n",
       "  </thead>\n",
       "  <tbody>\n",
       "    <tr>\n",
       "      <th>control</th>\n",
       "      <td>0.000000</td>\n",
       "    </tr>\n",
       "    <tr>\n",
       "      <th>basic</th>\n",
       "      <td>0.377035</td>\n",
       "    </tr>\n",
       "    <tr>\n",
       "      <th>strict</th>\n",
       "      <td>0.274207</td>\n",
       "    </tr>\n",
       "    <tr>\n",
       "      <th>loose</th>\n",
       "      <td>0.582691</td>\n",
       "    </tr>\n",
       "  </tbody>\n",
       "</table>\n",
       "</div>"
      ],
      "text/plain": [
       "            rate%\n",
       "control  0.000000\n",
       "basic    0.377035\n",
       "strict   0.274207\n",
       "loose    0.582691"
      ]
     },
     "execution_count": null,
     "metadata": {},
     "output_type": "execute_result"
    },
    {
     "data": {
      "image/png": "[encoded data removed]",
      "text/plain": [
       "<Figure size 432x288 with 1 Axes>"
      ]
     },
     "metadata": {
      "needs_background": "light"
     },
     "output_type": "display_data"
    }
   ],
   "source": [
    "plotFailedPredictionRates(\n",
    "    evaluations = [defaultControlEval, defaultBasicEval, defaultStrictEval, defaultLooseEval],\n",
    "    xLabels =     [\"control\",          \"basic\",          \"strict\",          \"loose\"],\n",
    "    title = \"Failed Prediction Rates of Models Trained with Default Parameters\"\n",
    ")"
   ]
  },
  {
   "cell_type": "markdown",
   "metadata": {},
   "source": [
    "## Parameter group 1"
   ]
  },
  {
   "cell_type": "code",
   "execution_count": null,
   "metadata": {},
   "outputs": [
    {
     "name": "stdout",
     "output_type": "stream",
     "text": [
      "[2021-05-16 23:59:19,660 INFO] Translating shard 0.\n",
      "[2021-05-16 23:59:58,010 INFO] PRED AVG SCORE: -0.0522, PRED PPL: 1.0535\n"
     ]
    }
   ],
   "source": [
    "#collapse_output\n",
    "group1ControlEval = HephaestusModelEvaluation(\n",
    "    HephaestusModel(MODEL_GROUP1_CONTROL),\n",
    "    testBuggyMethods,\n",
    "    testFixedMethods,\n",
    "    isControl = True\n",
    ")"
   ]
  },
  {
   "cell_type": "code",
   "execution_count": null,
   "metadata": {},
   "outputs": [
    {
     "name": "stdout",
     "output_type": "stream",
     "text": [
      "[2021-05-17 00:00:06,502 INFO] Translating shard 0.\n",
      "[2021-05-17 00:01:20,760 INFO] PRED AVG SCORE: -0.0668, PRED PPL: 1.0691\n"
     ]
    }
   ],
   "source": [
    "#collapse_output\n",
    "group1BasicEval = HephaestusModelEvaluation(\n",
    "    HephaestusModel(MODEL_GROUP1_BASIC),\n",
    "    testBuggyMethods,\n",
    "    testFixedMethods\n",
    ")"
   ]
  },
  {
   "cell_type": "code",
   "execution_count": null,
   "metadata": {},
   "outputs": [
    {
     "name": "stdout",
     "output_type": "stream",
     "text": [
      "[2021-05-17 00:01:29,530 INFO] Translating shard 0.\n",
      "[2021-05-17 00:01:51,968 INFO] PRED AVG SCORE: -0.4827, PRED PPL: 1.6204\n"
     ]
    }
   ],
   "source": [
    "#collapse_output\n",
    "group1StrictEval = HephaestusModelEvaluation(\n",
    "    HephaestusModel(MODEL_GROUP1_STRICT),\n",
    "    testBuggyMethods,\n",
    "    testFixedMethods\n",
    ")"
   ]
  },
  {
   "cell_type": "code",
   "execution_count": null,
   "metadata": {},
   "outputs": [
    {
     "name": "stdout",
     "output_type": "stream",
     "text": [
      "[2021-05-17 00:02:00,110 INFO] Translating shard 0.\n",
      "[2021-05-17 00:02:17,748 INFO] PRED AVG SCORE: -0.4820, PRED PPL: 1.6193\n"
     ]
    }
   ],
   "source": [
    "#collapse_output\n",
    "group1LooseEval = HephaestusModelEvaluation(\n",
    "    HephaestusModel(MODEL_GROUP1_LOOSE),\n",
    "    testBuggyMethods,\n",
    "    testFixedMethods\n",
    ")"
   ]
  },
  {
   "cell_type": "markdown",
   "metadata": {},
   "source": [
    "### Training Accuracies"
   ]
  },
  {
   "cell_type": "code",
   "execution_count": null,
   "metadata": {},
   "outputs": [
    {
     "data": {
      "image/png": "[encoded data removed]",
      "text/plain": [
       "<Figure size 432x288 with 1 Axes>"
      ]
     },
     "metadata": {
      "needs_background": "light"
     },
     "output_type": "display_data"
    }
   ],
   "source": [
    "plotTrainingAccuracies(\n",
    "    evaluations = [group1ControlEval, group1BasicEval, group1StrictEval, group1LooseEval],\n",
    "    lineLabels =  [\"control\",         \"basic\",         \"strict\",         \"loose\"],\n",
    "    title = \"Training Accuracies of Models Trained with Group 1 Parameters\"\n",
    ")"
   ]
  },
  {
   "cell_type": "markdown",
   "metadata": {},
   "source": [
    "### Perfect prediction accuracies"
   ]
  },
  {
   "cell_type": "code",
   "execution_count": null,
   "metadata": {},
   "outputs": [
    {
     "data": {
      "text/html": [
       "<div>\n",
       "<style scoped>\n",
       "    .dataframe tbody tr th:only-of-type {\n",
       "        vertical-align: middle;\n",
       "    }\n",
       "\n",
       "    .dataframe tbody tr th {\n",
       "        vertical-align: top;\n",
       "    }\n",
       "\n",
       "    .dataframe thead th {\n",
       "        text-align: right;\n",
       "    }\n",
       "</style>\n",
       "<table border=\"1\" class=\"dataframe\">\n",
       "  <thead>\n",
       "    <tr style=\"text-align: right;\">\n",
       "      <th></th>\n",
       "      <th>acc%</th>\n",
       "    </tr>\n",
       "  </thead>\n",
       "  <tbody>\n",
       "    <tr>\n",
       "      <th>control</th>\n",
       "      <td>13.898886</td>\n",
       "    </tr>\n",
       "    <tr>\n",
       "      <th>basic</th>\n",
       "      <td>7.626392</td>\n",
       "    </tr>\n",
       "    <tr>\n",
       "      <th>strict</th>\n",
       "      <td>8.071979</td>\n",
       "    </tr>\n",
       "    <tr>\n",
       "      <th>loose</th>\n",
       "      <td>8.260497</td>\n",
       "    </tr>\n",
       "  </tbody>\n",
       "</table>\n",
       "</div>"
      ],
      "text/plain": [
       "              acc%\n",
       "control  13.898886\n",
       "basic     7.626392\n",
       "strict    8.071979\n",
       "loose     8.260497"
      ]
     },
     "execution_count": null,
     "metadata": {},
     "output_type": "execute_result"
    },
    {
     "data": {
      "image/png": "[encoded data removed]",
      "text/plain": [
       "<Figure size 432x288 with 1 Axes>"
      ]
     },
     "metadata": {
      "needs_background": "light"
     },
     "output_type": "display_data"
    }
   ],
   "source": [
    "plotPerfectPredictionAccuracies(\n",
    "    evaluations = [group1ControlEval, group1BasicEval, group1StrictEval, group1LooseEval],\n",
    "    xLabels =     [\"control\",         \"basic\",         \"strict\",         \"loose\"],\n",
    "    title = \"Perfect Prediction Accuracies of Models Trained with Group 1 Parameters\"\n",
    ")"
   ]
  },
  {
   "cell_type": "markdown",
   "metadata": {},
   "source": [
    "### Average Edit Distance Decreases"
   ]
  },
  {
   "cell_type": "code",
   "execution_count": null,
   "metadata": {},
   "outputs": [
    {
     "data": {
      "text/html": [
       "<div>\n",
       "<style scoped>\n",
       "    .dataframe tbody tr th:only-of-type {\n",
       "        vertical-align: middle;\n",
       "    }\n",
       "\n",
       "    .dataframe tbody tr th {\n",
       "        vertical-align: top;\n",
       "    }\n",
       "\n",
       "    .dataframe thead th {\n",
       "        text-align: right;\n",
       "    }\n",
       "</style>\n",
       "<table border=\"1\" class=\"dataframe\">\n",
       "  <thead>\n",
       "    <tr style=\"text-align: right;\">\n",
       "      <th></th>\n",
       "      <th>decrease</th>\n",
       "    </tr>\n",
       "  </thead>\n",
       "  <tbody>\n",
       "    <tr>\n",
       "      <th>control</th>\n",
       "      <td>-0.891174</td>\n",
       "    </tr>\n",
       "    <tr>\n",
       "      <th>basic</th>\n",
       "      <td>-2.691330</td>\n",
       "    </tr>\n",
       "    <tr>\n",
       "      <th>strict</th>\n",
       "      <td>-1.456986</td>\n",
       "    </tr>\n",
       "    <tr>\n",
       "      <th>loose</th>\n",
       "      <td>-1.596552</td>\n",
       "    </tr>\n",
       "  </tbody>\n",
       "</table>\n",
       "</div>"
      ],
      "text/plain": [
       "         decrease\n",
       "control -0.891174\n",
       "basic   -2.691330\n",
       "strict  -1.456986\n",
       "loose   -1.596552"
      ]
     },
     "execution_count": null,
     "metadata": {},
     "output_type": "execute_result"
    },
    {
     "data": {
      "image/png": "[encoded data removed]",
      "text/plain": [
       "<Figure size 432x288 with 1 Axes>"
      ]
     },
     "metadata": {
      "needs_background": "light"
     },
     "output_type": "display_data"
    }
   ],
   "source": [
    "plotAvgEditDistDecreases(\n",
    "    evaluations = [group1ControlEval, group1BasicEval, group1StrictEval, group1LooseEval],\n",
    "    xLabels =     [\"control\",         \"basic\",         \"strict\",         \"loose\"],\n",
    "    title = \"Average Edit Distance Decreases of Models Trained with Group 1 Parameters\"\n",
    ")"
   ]
  },
  {
   "cell_type": "markdown",
   "metadata": {},
   "source": [
    "### Failed prediction rates"
   ]
  },
  {
   "cell_type": "code",
   "execution_count": null,
   "metadata": {},
   "outputs": [
    {
     "data": {
      "text/html": [
       "<div>\n",
       "<style scoped>\n",
       "    .dataframe tbody tr th:only-of-type {\n",
       "        vertical-align: middle;\n",
       "    }\n",
       "\n",
       "    .dataframe tbody tr th {\n",
       "        vertical-align: top;\n",
       "    }\n",
       "\n",
       "    .dataframe thead th {\n",
       "        text-align: right;\n",
       "    }\n",
       "</style>\n",
       "<table border=\"1\" class=\"dataframe\">\n",
       "  <thead>\n",
       "    <tr style=\"text-align: right;\">\n",
       "      <th></th>\n",
       "      <th>rate%</th>\n",
       "    </tr>\n",
       "  </thead>\n",
       "  <tbody>\n",
       "    <tr>\n",
       "      <th>control</th>\n",
       "      <td>0.000000</td>\n",
       "    </tr>\n",
       "    <tr>\n",
       "      <th>basic</th>\n",
       "      <td>1.559554</td>\n",
       "    </tr>\n",
       "    <tr>\n",
       "      <th>strict</th>\n",
       "      <td>0.394173</td>\n",
       "    </tr>\n",
       "    <tr>\n",
       "      <th>loose</th>\n",
       "      <td>0.599829</td>\n",
       "    </tr>\n",
       "  </tbody>\n",
       "</table>\n",
       "</div>"
      ],
      "text/plain": [
       "            rate%\n",
       "control  0.000000\n",
       "basic    1.559554\n",
       "strict   0.394173\n",
       "loose    0.599829"
      ]
     },
     "execution_count": null,
     "metadata": {},
     "output_type": "execute_result"
    },
    {
     "data": {
      "image/png": "[encoded data removed]",
      "text/plain": [
       "<Figure size 432x288 with 1 Axes>"
      ]
     },
     "metadata": {
      "needs_background": "light"
     },
     "output_type": "display_data"
    }
   ],
   "source": [
    "plotFailedPredictionRates(\n",
    "    evaluations = [group1ControlEval, group1BasicEval, group1StrictEval, group1LooseEval],\n",
    "    xLabels =     [\"control\",         \"basic\",         \"strict\",         \"loose\"],\n",
    "    title = \"Failed Prediction Rates of Models Trained with Group 1 Parameters\"\n",
    ")"
   ]
  },
  {
   "cell_type": "markdown",
   "metadata": {},
   "source": [
    "## Parameter group 2\n",
    "\n",
    "The control model for this parameter group is the same as the control model for the default parameter group."
   ]
  },
  {
   "cell_type": "code",
   "execution_count": null,
   "metadata": {},
   "outputs": [],
   "source": [
    "group2ControlEval = defaultControlEval"
   ]
  },
  {
   "cell_type": "code",
   "execution_count": null,
   "metadata": {},
   "outputs": [
    {
     "name": "stdout",
     "output_type": "stream",
     "text": [
      "[2021-05-17 00:02:26,390 INFO] Translating shard 0.\n",
      "[2021-05-17 00:03:39,084 INFO] PRED AVG SCORE: -0.0638, PRED PPL: 1.0659\n"
     ]
    }
   ],
   "source": [
    "#collapse_output\n",
    "group2BasicEval = HephaestusModelEvaluation(\n",
    "    HephaestusModel(MODEL_GROUP2_BASIC),\n",
    "    testBuggyMethods,\n",
    "    testFixedMethods\n",
    ")"
   ]
  },
  {
   "cell_type": "code",
   "execution_count": null,
   "metadata": {},
   "outputs": [
    {
     "name": "stdout",
     "output_type": "stream",
     "text": [
      "[2021-05-17 00:03:47,603 INFO] Translating shard 0.\n",
      "[2021-05-17 00:04:08,439 INFO] PRED AVG SCORE: -0.4644, PRED PPL: 1.5910\n"
     ]
    }
   ],
   "source": [
    "#collapse_output\n",
    "group2StrictEval = HephaestusModelEvaluation(\n",
    "    HephaestusModel(MODEL_GROUP2_STRICT),\n",
    "    testBuggyMethods,\n",
    "    testFixedMethods\n",
    ")"
   ]
  },
  {
   "cell_type": "code",
   "execution_count": null,
   "metadata": {},
   "outputs": [
    {
     "name": "stdout",
     "output_type": "stream",
     "text": [
      "[2021-05-17 00:04:16,486 INFO] Translating shard 0.\n",
      "[2021-05-17 00:04:35,999 INFO] PRED AVG SCORE: -0.4754, PRED PPL: 1.6086\n"
     ]
    }
   ],
   "source": [
    "#collapse_output\n",
    "group2LooseEval = HephaestusModelEvaluation(\n",
    "    HephaestusModel(MODEL_GROUP2_LOOSE),\n",
    "    testBuggyMethods,\n",
    "    testFixedMethods\n",
    ")"
   ]
  },
  {
   "cell_type": "markdown",
   "metadata": {},
   "source": [
    "### Training Accuracies"
   ]
  },
  {
   "cell_type": "code",
   "execution_count": null,
   "metadata": {},
   "outputs": [
    {
     "data": {
      "image/png": "[encoded data removed]",
      "text/plain": [
       "<Figure size 432x288 with 1 Axes>"
      ]
     },
     "metadata": {
      "needs_background": "light"
     },
     "output_type": "display_data"
    }
   ],
   "source": [
    "plotTrainingAccuracies(\n",
    "    evaluations = [group2ControlEval, group2BasicEval, group2StrictEval, group2LooseEval],\n",
    "    lineLabels =  [\"control\",         \"basic\",         \"strict\",         \"loose\"],\n",
    "    title = \"Training Accuracies of Models Trained with Group 1 Parameters\"\n",
    ")"
   ]
  },
  {
   "cell_type": "markdown",
   "metadata": {},
   "source": [
    "### Perfect prediction accuracies"
   ]
  },
  {
   "cell_type": "code",
   "execution_count": null,
   "metadata": {},
   "outputs": [
    {
     "data": {
      "text/html": [
       "<div>\n",
       "<style scoped>\n",
       "    .dataframe tbody tr th:only-of-type {\n",
       "        vertical-align: middle;\n",
       "    }\n",
       "\n",
       "    .dataframe tbody tr th {\n",
       "        vertical-align: top;\n",
       "    }\n",
       "\n",
       "    .dataframe thead th {\n",
       "        text-align: right;\n",
       "    }\n",
       "</style>\n",
       "<table border=\"1\" class=\"dataframe\">\n",
       "  <thead>\n",
       "    <tr style=\"text-align: right;\">\n",
       "      <th></th>\n",
       "      <th>acc%</th>\n",
       "    </tr>\n",
       "  </thead>\n",
       "  <tbody>\n",
       "    <tr>\n",
       "      <th>control</th>\n",
       "      <td>14.721508</td>\n",
       "    </tr>\n",
       "    <tr>\n",
       "      <th>basic</th>\n",
       "      <td>7.523565</td>\n",
       "    </tr>\n",
       "    <tr>\n",
       "      <th>strict</th>\n",
       "      <td>6.820908</td>\n",
       "    </tr>\n",
       "    <tr>\n",
       "      <th>loose</th>\n",
       "      <td>7.523565</td>\n",
       "    </tr>\n",
       "  </tbody>\n",
       "</table>\n",
       "</div>"
      ],
      "text/plain": [
       "              acc%\n",
       "control  14.721508\n",
       "basic     7.523565\n",
       "strict    6.820908\n",
       "loose     7.523565"
      ]
     },
     "execution_count": null,
     "metadata": {},
     "output_type": "execute_result"
    },
    {
     "data": {
      "image/png": "[encoded data removed]",
      "text/plain": [
       "<Figure size 432x288 with 1 Axes>"
      ]
     },
     "metadata": {
      "needs_background": "light"
     },
     "output_type": "display_data"
    }
   ],
   "source": [
    "plotPerfectPredictionAccuracies(\n",
    "    evaluations = [group2ControlEval, group2BasicEval, group2StrictEval, group2LooseEval],\n",
    "    xLabels =     [\"control\",         \"basic\",         \"strict\",         \"loose\"],\n",
    "    title = \"Perfect Prediction Accuracies of Models Trained with Group 1 Parameters\"\n",
    ")"
   ]
  },
  {
   "cell_type": "markdown",
   "metadata": {},
   "source": [
    "### Average Edit Distance Decreases"
   ]
  },
  {
   "cell_type": "code",
   "execution_count": null,
   "metadata": {},
   "outputs": [
    {
     "data": {
      "text/html": [
       "<div>\n",
       "<style scoped>\n",
       "    .dataframe tbody tr th:only-of-type {\n",
       "        vertical-align: middle;\n",
       "    }\n",
       "\n",
       "    .dataframe tbody tr th {\n",
       "        vertical-align: top;\n",
       "    }\n",
       "\n",
       "    .dataframe thead th {\n",
       "        text-align: right;\n",
       "    }\n",
       "</style>\n",
       "<table border=\"1\" class=\"dataframe\">\n",
       "  <thead>\n",
       "    <tr style=\"text-align: right;\">\n",
       "      <th></th>\n",
       "      <th>decrease</th>\n",
       "    </tr>\n",
       "  </thead>\n",
       "  <tbody>\n",
       "    <tr>\n",
       "      <th>control</th>\n",
       "      <td>-1.528192</td>\n",
       "    </tr>\n",
       "    <tr>\n",
       "      <th>basic</th>\n",
       "      <td>-2.541187</td>\n",
       "    </tr>\n",
       "    <tr>\n",
       "      <th>strict</th>\n",
       "      <td>-1.580217</td>\n",
       "    </tr>\n",
       "    <tr>\n",
       "      <th>loose</th>\n",
       "      <td>-1.387632</td>\n",
       "    </tr>\n",
       "  </tbody>\n",
       "</table>\n",
       "</div>"
      ],
      "text/plain": [
       "         decrease\n",
       "control -1.528192\n",
       "basic   -2.541187\n",
       "strict  -1.580217\n",
       "loose   -1.387632"
      ]
     },
     "execution_count": null,
     "metadata": {},
     "output_type": "execute_result"
    },
    {
     "data": {
      "image/png": "[encoded data removed]",
      "text/plain": [
       "<Figure size 432x288 with 1 Axes>"
      ]
     },
     "metadata": {
      "needs_background": "light"
     },
     "output_type": "display_data"
    }
   ],
   "source": [
    "plotAvgEditDistDecreases(\n",
    "    evaluations = [group2ControlEval, group2BasicEval, group2StrictEval, group2LooseEval],\n",
    "    xLabels =     [\"control\",         \"basic\",         \"strict\",         \"loose\"],\n",
    "    title = \"Average Edit Distance Decreases of Models Trained with Group 2 Parameters\"\n",
    ")"
   ]
  },
  {
   "cell_type": "markdown",
   "metadata": {},
   "source": [
    "### Failed prediction rates"
   ]
  },
  {
   "cell_type": "code",
   "execution_count": null,
   "metadata": {},
   "outputs": [
    {
     "data": {
      "text/html": [
       "<div>\n",
       "<style scoped>\n",
       "    .dataframe tbody tr th:only-of-type {\n",
       "        vertical-align: middle;\n",
       "    }\n",
       "\n",
       "    .dataframe tbody tr th {\n",
       "        vertical-align: top;\n",
       "    }\n",
       "\n",
       "    .dataframe thead th {\n",
       "        text-align: right;\n",
       "    }\n",
       "</style>\n",
       "<table border=\"1\" class=\"dataframe\">\n",
       "  <thead>\n",
       "    <tr style=\"text-align: right;\">\n",
       "      <th></th>\n",
       "      <th>rate%</th>\n",
       "    </tr>\n",
       "  </thead>\n",
       "  <tbody>\n",
       "    <tr>\n",
       "      <th>control</th>\n",
       "      <td>0.000000</td>\n",
       "    </tr>\n",
       "    <tr>\n",
       "      <th>basic</th>\n",
       "      <td>0.342759</td>\n",
       "    </tr>\n",
       "    <tr>\n",
       "      <th>strict</th>\n",
       "      <td>0.548415</td>\n",
       "    </tr>\n",
       "    <tr>\n",
       "      <th>loose</th>\n",
       "      <td>0.788346</td>\n",
       "    </tr>\n",
       "  </tbody>\n",
       "</table>\n",
       "</div>"
      ],
      "text/plain": [
       "            rate%\n",
       "control  0.000000\n",
       "basic    0.342759\n",
       "strict   0.548415\n",
       "loose    0.788346"
      ]
     },
     "execution_count": null,
     "metadata": {},
     "output_type": "execute_result"
    },
    {
     "data": {
      "image/png": "[encoded data removed]",
      "text/plain": [
       "<Figure size 432x288 with 1 Axes>"
      ]
     },
     "metadata": {
      "needs_background": "light"
     },
     "output_type": "display_data"
    }
   ],
   "source": [
    "plotFailedPredictionRates(\n",
    "    evaluations = [group2ControlEval, group2BasicEval, group2StrictEval, group2LooseEval],\n",
    "    xLabels =     [\"control\",         \"basic\",         \"strict\",         \"loose\"],\n",
    "    title = \"Failed Prediction Rates of Models Trained with Group 1 Parameters\"\n",
    ")"
   ]
  },
  {
   "cell_type": "markdown",
   "metadata": {},
   "source": [
    "## Failure cases\n",
    "\n",
    "If a `HephaestusModel` outputs malformed EditOperations, then those operations cannot be applied to the input method and thus an output method cannot be produced. Therefore, for each model trained with EditOperations, there is a small chance that a method prediction will fail due to malformed EditOperations.\n",
    "\n",
    "This section aims to look more in depth at the distribution and causes for these failures. We will use the model with the highest failed prediction rate as a benchmark: the model trained on basic condensed EditOperations from parameter group 1, with a failure rate of 1.6%.\n",
    "\n",
    "### Failure distribution\n",
    "\n",
    "There are two ways in which a `HephaestusModel` can fail to predict a method:\n",
    "\n",
    "- The outputted machine string contains a syntax error such that it literally connot be parsed into a valid `CompoundOperation`.\n",
    "- The syntax is correct, but the indices of the resulting `CompoundOperation` operate on tokens whose indices do not exist in the inputted `AbstractMethod`.\n",
    "\n",
    "We can determine the failure distribution of the outputted EditOperations by looking at how many failures were caused by syntax errors and how many were caused by index errors.\n",
    "\n",
    "First, we extract the outputted machine strings from the `raw_output.txt` file and convert them to lists of CompoundOperations. If any machine strings were not able to be converted by the `readCompoundOperationsFromFile` function, then they had syntax errors and will appear as `None` in the returned list."
   ]
  },
  {
   "cell_type": "code",
   "execution_count": null,
   "metadata": {},
   "outputs": [],
   "source": [
    "compoundOpsLists = readCompoundOperationsFromFile(os.path.join(MODEL_GROUP1_BASIC, \"raw_output.txt\"))"
   ]
  },
  {
   "cell_type": "code",
   "execution_count": null,
   "metadata": {},
   "outputs": [
    {
     "data": {
      "text/plain": [
       "5"
      ]
     },
     "execution_count": null,
     "metadata": {},
     "output_type": "execute_result"
    }
   ],
   "source": [
    "numSyntaxFailures = compoundOpsLists.count(None)\n",
    "numSyntaxFailures"
   ]
  },
  {
   "cell_type": "markdown",
   "metadata": {},
   "source": [
    "Next, we attempt to apply all the well-formed CompoundOperations to the buggy AbstractMethods and count the number of thrown IndexErrors."
   ]
  },
  {
   "cell_type": "code",
   "execution_count": null,
   "metadata": {},
   "outputs": [
    {
     "data": {
      "text/plain": [
       "86"
      ]
     },
     "execution_count": null,
     "metadata": {},
     "output_type": "execute_result"
    }
   ],
   "source": [
    "indexFailureMethods = []\n",
    "\n",
    "for method, compoundOpsList in zip(testBuggyMethods, compoundOpsLists):\n",
    "    \n",
    "    methodCopy = deepcopy(method)\n",
    "    \n",
    "    if compoundOpsList is not None:\n",
    "        try:\n",
    "            methodCopy.applyEditOperations(compoundOpsList)\n",
    "        except IndexError:\n",
    "            indexFailureMethods.append(method)\n",
    "\n",
    "numIndexFailures = len(indexFailureMethods)\n",
    "numIndexFailures"
   ]
  },
  {
   "cell_type": "code",
   "execution_count": null,
   "metadata": {},
   "outputs": [
    {
     "data": {
      "text/plain": [
       "91"
      ]
     },
     "execution_count": null,
     "metadata": {},
     "output_type": "execute_result"
    }
   ],
   "source": [
    "numTotalFailures = numSyntaxFailures + numIndexFailures\n",
    "numTotalFailures"
   ]
  },
  {
   "cell_type": "markdown",
   "metadata": {},
   "source": [
    "We see that there were 91 total prediction failures, 5 of which were due to syntax errors and 86 of which were due to index errors. We can verify that this number is the actual amount of methods that were not able to be predicted as given by the `HephaestusModelEvaluation`."
   ]
  },
  {
   "cell_type": "code",
   "execution_count": null,
   "metadata": {},
   "outputs": [],
   "source": [
    "assert(numTotalFailures == group1BasicEval.outputMethods.count(None))"
   ]
  },
  {
   "cell_type": "markdown",
   "metadata": {},
   "source": [
    "### Syntax Failures\n",
    "\n",
    "Now we delve more in depth at the cause of the syntax failures by looking at the malformed machine strings directly."
   ]
  },
  {
   "cell_type": "code",
   "execution_count": null,
   "metadata": {},
   "outputs": [],
   "source": [
    "syntaxFailureLineIndices = []\n",
    "for i in range(len(compoundOpsLists)):\n",
    "    if compoundOpsLists[i] is None:\n",
    "        syntaxFailureLineIndices.append(i)\n",
    "        \n",
    "malformedMachineStrings = []\n",
    "with open(os.path.join(MODEL_GROUP1_BASIC, \"raw_output.txt\"), \"r\") as f:\n",
    "    lines = f.readlines()\n",
    "    malformedMachineStrings = [lines[i].strip() for i in syntaxFailureLineIndices]"
   ]
  },
  {
   "cell_type": "code",
   "execution_count": null,
   "metadata": {},
   "outputs": [
    {
     "name": "stdout",
     "output_type": "stream",
     "text": [
      "<op> 7 8 <sep> </op> <op> 7 8 <sep> </op> <op> 7 8 <sep> </op> <op> 7 8 <sep> </op> <op> 7 8 <sep> </op> <op> 7 8 <sep> </op> <op> 7 8 <sep> </op> <op> 7 8 <sep> </op> <op> 7 8 <sep> </op> <op> 7 8 <sep> </op> <op> 7 8 <sep> </op> <op> 7 8 <sep> </op> <op> 7 8 <sep> </op> <op> 7 8 <sep> </op> <op> 7 8 <sep> </op> <op> 7 8 <sep> </op> <op> 7 8 <sep> </op> <op> 7 8 <sep> </op> <op> 7 8 <sep> </op> <op> 7 8 <sep> true\n",
      "\n",
      "<op> 8 9 <sep> </op> <op> 8 9 <sep> </op> <op> 8 9 <sep> return </op> <op> 15 16 <sep> </op> <op> 15 16 <sep> </op> <op> 15 16 <sep> </op> <op> 15 16 <sep> </op> <op> 15 16 <sep> </op> <op> 15 16 <sep> </op> <op> 15 16 <sep> </op> <op> 15 16 <sep> </op> <op> 15 16 <sep> </op> <op> 15 16 <sep> </op> <op> 15 16 <sep> </op> <op> 15 16 <sep> </op> <op> 15 16 <sep> </op> <op> 15 16 <sep> </op> <op> 15 16 <sep> </op> <op> 15 16 <sep> </op> <op> 15 16 <sep>\n",
      "\n",
      "<op> 8 9 <sep> </op> <op> 8 9 <sep> </op> <op> 8 9 <sep> return </op> <op> 15 16 <sep> </op> <op> 15 16 <sep> </op> <op> 15 16 <sep> </op> <op> 15 16 <sep> </op> <op> 15 16 <sep> </op> <op> 15 16 <sep> </op> <op> 15 16 <sep> </op> <op> 15 16 <sep> </op> <op> 15 16 <sep> </op> <op> 15 16 <sep> </op> <op> 15 16 <sep> </op> <op> 15 16 <sep> </op> <op> 15 16 <sep> </op> <op> 15 16 <sep> </op> <op> 15 16 <sep> </op> <op> 15 16 <sep> </op> <op> 15 16 <sep>\n",
      "\n",
      "<op> 6 7 <sep> </op> <op> 6 7 <sep> return </op> <op> 12 13 <sep> </op> <op> 12 13 <sep> </op> <op> 12 13 <sep> </op> <op> 12 13 <sep> </op> <op> 12 13 <sep> </op> <op> 12 13 <sep> </op> <op> 12 13 <sep> </op> <op> 12 13 <sep> </op> <op> 12 13 <sep> </op> <op> 12 13 <sep> </op> <op> 12 13 <sep> </op> <op> 12 13 <sep> </op> <op> 12 13 <sep> </op> <op> 12 13 <sep> </op> <op> 12 13 <sep> </op> <op> 12 13 <sep> </op> <op> 12 13 <sep> </op> <op> 12 13 <sep>\n",
      "\n",
      "<op> 6 7 <sep> </op> <op> 6 7 <sep> return </op> <op> 29 30 <sep> </op> <op> 29 30 <sep> </op> <op> 29 30 <sep> </op> <op> 29 30 <sep> </op> <op> 29 30 <sep> </op> <op> 29 30 <sep> </op> <op> 29 30 <sep> </op> <op> 29 30 <sep> </op> <op> 29 30 <sep> </op> <op> 29 30 <sep> </op> <op> 29 30 <sep> </op> <op> 29 30 <sep> </op> <op> 29 30 <sep> </op> <op> 29 30 <sep> </op> <op> 29 30 <sep> </op> <op> 29 30 <sep> </op> <op> 29 30 <sep> </op> <op> 29 30 <sep>\n",
      "\n"
     ]
    }
   ],
   "source": [
    "for string in malformedMachineStrings:\n",
    "    print(string + \"\\n\")"
   ]
  },
  {
   "cell_type": "markdown",
   "metadata": {},
   "source": [
    "For all of the malformed machine strings, the syntax failures happen because the last represented `CompoundOperation` is cut off. Moreover, all of these strings appear to have a similar number of tokens."
   ]
  },
  {
   "cell_type": "code",
   "execution_count": null,
   "metadata": {},
   "outputs": [
    {
     "data": {
      "text/plain": [
       "[100, 100, 100, 100, 100]"
      ]
     },
     "execution_count": null,
     "metadata": {},
     "output_type": "execute_result"
    }
   ],
   "source": [
    "[len(string.split()) for string in malformedMachineStrings]"
   ]
  },
  {
   "cell_type": "markdown",
   "metadata": {},
   "source": [
    "Indeed, all of the malformed machine strings are of length 100. 100 is the default maximum output sequence length for OpenNMT translation, so we can be almost certain that this is the reason why the machine strings appear to be cut off at the end. Since syntax failures only accounted for 5 out of the 91 total failures, it is acceptable to leave this cap in place. Also, it's good to have a maximum output sequence length, as having one prevents outputted sequences from being very long and hogging processing power. \n",
    "\n",
    "### Index Failures\n",
    "\n",
    "Next, we can look at the buggy AbstractMethods which caused the model to output EditOperations which resulted in IndexErrors. Perhaps there is a difference between the lengths of these methods and the lengths of the buggy AbstractMethods overall."
   ]
  },
  {
   "cell_type": "code",
   "execution_count": null,
   "metadata": {},
   "outputs": [
    {
     "data": {
      "text/plain": [
       "29.558139534883722"
      ]
     },
     "execution_count": null,
     "metadata": {},
     "output_type": "execute_result"
    }
   ],
   "source": [
    "lengths = [len(method) for method in indexFailureMethods]\n",
    "avgIndexFailureMethodLength = sum(lengths) / len(lengths)\n",
    "\n",
    "avgIndexFailureMethodLength"
   ]
  },
  {
   "cell_type": "code",
   "execution_count": null,
   "metadata": {},
   "outputs": [
    {
     "data": {
      "text/plain": [
       "31.759211653813196"
      ]
     },
     "execution_count": null,
     "metadata": {},
     "output_type": "execute_result"
    }
   ],
   "source": [
    "lengths = [len(method) for method in testBuggyMethods]\n",
    "avgBuggyMethodLength = sum(lengths) / len(lengths)\n",
    "\n",
    "avgBuggyMethodLength"
   ]
  },
  {
   "cell_type": "code",
   "execution_count": null,
   "metadata": {},
   "outputs": [
    {
     "data": {
      "text/plain": [
       "-2.201072118929474"
      ]
     },
     "execution_count": null,
     "metadata": {},
     "output_type": "execute_result"
    }
   ],
   "source": [
    "avgIndexFailureMethodLength - avgBuggyMethodLength"
   ]
  },
  {
   "cell_type": "markdown",
   "metadata": {},
   "source": [
    "On average, the length of an AbstractMethod which caused an index failure was 2.20 less than the typical inputted AbstractMethod. Therefore, there is evidence that shorter AbstractMethods are more likely to case prediction failures. This is likely due to the fact that a shorter AbstractMethod has a smaller range of valid indices, and as such, the model can more often generate EditOperations which influence out of bounds indices.\n",
    "\n",
    "It appears that the probability of prediction failure is influenced by the length of the inputted AbstractMethod. Thus, the failure rate can likely be decreased if the data is further subdivided and grouped by length ranges, and models are trained on only one length range. However, this will dramatically reduce the amount of training data each model will have, so ultimately doing this is probably not a good idea."
   ]
  },
  {
   "cell_type": "markdown",
   "metadata": {},
   "source": [
    "## Overall Statistics"
   ]
  },
  {
   "cell_type": "markdown",
   "metadata": {},
   "source": [
    "### Perfect Prediction Accuracies"
   ]
  },
  {
   "cell_type": "code",
   "execution_count": null,
   "metadata": {},
   "outputs": [
    {
     "data": {
      "text/html": [
       "<div>\n",
       "<style scoped>\n",
       "    .dataframe tbody tr th:only-of-type {\n",
       "        vertical-align: middle;\n",
       "    }\n",
       "\n",
       "    .dataframe tbody tr th {\n",
       "        vertical-align: top;\n",
       "    }\n",
       "\n",
       "    .dataframe thead th {\n",
       "        text-align: right;\n",
       "    }\n",
       "</style>\n",
       "<table border=\"1\" class=\"dataframe\">\n",
       "  <thead>\n",
       "    <tr style=\"text-align: right;\">\n",
       "      <th></th>\n",
       "      <th>default params</th>\n",
       "      <th>group1 params</th>\n",
       "      <th>group2 params</th>\n",
       "    </tr>\n",
       "  </thead>\n",
       "  <tbody>\n",
       "    <tr>\n",
       "      <th>control</th>\n",
       "      <td>14.721508</td>\n",
       "      <td>13.898886</td>\n",
       "      <td>14.721508</td>\n",
       "    </tr>\n",
       "    <tr>\n",
       "      <th>basic</th>\n",
       "      <td>7.986290</td>\n",
       "      <td>7.626392</td>\n",
       "      <td>7.523565</td>\n",
       "    </tr>\n",
       "    <tr>\n",
       "      <th>strict</th>\n",
       "      <td>7.146530</td>\n",
       "      <td>8.071979</td>\n",
       "      <td>6.820908</td>\n",
       "    </tr>\n",
       "    <tr>\n",
       "      <th>loose</th>\n",
       "      <td>7.180805</td>\n",
       "      <td>8.260497</td>\n",
       "      <td>7.523565</td>\n",
       "    </tr>\n",
       "  </tbody>\n",
       "</table>\n",
       "</div>"
      ],
      "text/plain": [
       "         default params  group1 params  group2 params\n",
       "control       14.721508      13.898886      14.721508\n",
       "basic          7.986290       7.626392       7.523565\n",
       "strict         7.146530       8.071979       6.820908\n",
       "loose          7.180805       8.260497       7.523565"
      ]
     },
     "execution_count": null,
     "metadata": {},
     "output_type": "execute_result"
    },
    {
     "data": {
      "image/png": "[encoded data removed]",
      "text/plain": [
       "<Figure size 432x288 with 1 Axes>"
      ]
     },
     "metadata": {
      "needs_background": "light"
     },
     "output_type": "display_data"
    }
   ],
   "source": [
    "plotAllPerfectPredictionAccuracies(\n",
    "    evaluations = {\n",
    "        \"default params\": [defaultControlEval, defaultBasicEval, defaultStrictEval, defaultLooseEval],\n",
    "        \"group1 params\":  [group1ControlEval,  group1BasicEval,  group1StrictEval,  group1LooseEval],\n",
    "        \"group2 params\":  [group2ControlEval,  group2BasicEval,  group2StrictEval,  group2LooseEval]\n",
    "    },\n",
    "    xLabels =             [\"control\",          \"basic\",          \"strict\",          \"loose\"]\n",
    ")"
   ]
  },
  {
   "cell_type": "markdown",
   "metadata": {},
   "source": [
    "### Average Edit Distance Decreases"
   ]
  },
  {
   "cell_type": "code",
   "execution_count": null,
   "metadata": {},
   "outputs": [
    {
     "data": {
      "text/html": [
       "<div>\n",
       "<style scoped>\n",
       "    .dataframe tbody tr th:only-of-type {\n",
       "        vertical-align: middle;\n",
       "    }\n",
       "\n",
       "    .dataframe tbody tr th {\n",
       "        vertical-align: top;\n",
       "    }\n",
       "\n",
       "    .dataframe thead th {\n",
       "        text-align: right;\n",
       "    }\n",
       "</style>\n",
       "<table border=\"1\" class=\"dataframe\">\n",
       "  <thead>\n",
       "    <tr style=\"text-align: right;\">\n",
       "      <th></th>\n",
       "      <th>default params</th>\n",
       "      <th>group1 params</th>\n",
       "      <th>group2 params</th>\n",
       "    </tr>\n",
       "  </thead>\n",
       "  <tbody>\n",
       "    <tr>\n",
       "      <th>control</th>\n",
       "      <td>-1.528192</td>\n",
       "      <td>-0.891174</td>\n",
       "      <td>-1.528192</td>\n",
       "    </tr>\n",
       "    <tr>\n",
       "      <th>basic</th>\n",
       "      <td>-2.402546</td>\n",
       "      <td>-2.691330</td>\n",
       "      <td>-2.541187</td>\n",
       "    </tr>\n",
       "    <tr>\n",
       "      <th>strict</th>\n",
       "      <td>-1.654924</td>\n",
       "      <td>-1.456986</td>\n",
       "      <td>-1.580217</td>\n",
       "    </tr>\n",
       "    <tr>\n",
       "      <th>loose</th>\n",
       "      <td>-1.843648</td>\n",
       "      <td>-1.596552</td>\n",
       "      <td>-1.387632</td>\n",
       "    </tr>\n",
       "  </tbody>\n",
       "</table>\n",
       "</div>"
      ],
      "text/plain": [
       "         default params  group1 params  group2 params\n",
       "control       -1.528192      -0.891174      -1.528192\n",
       "basic         -2.402546      -2.691330      -2.541187\n",
       "strict        -1.654924      -1.456986      -1.580217\n",
       "loose         -1.843648      -1.596552      -1.387632"
      ]
     },
     "execution_count": null,
     "metadata": {},
     "output_type": "execute_result"
    },
    {
     "data": {
      "image/png": "[encoded data removed]",
      "text/plain": [
       "<Figure size 432x288 with 1 Axes>"
      ]
     },
     "metadata": {
      "needs_background": "light"
     },
     "output_type": "display_data"
    }
   ],
   "source": [
    "plotAllAvgEditDistDecreases(\n",
    "    evaluations = {\n",
    "        \"default params\": [defaultControlEval, defaultBasicEval, defaultStrictEval, defaultLooseEval],\n",
    "        \"group1 params\":  [group1ControlEval,  group1BasicEval,  group1StrictEval,  group1LooseEval],\n",
    "        \"group2 params\":  [group2ControlEval,  group2BasicEval,  group2StrictEval,  group2LooseEval]\n",
    "    },\n",
    "    xLabels =             [\"control\",          \"basic\",          \"strict\",          \"loose\"]\n",
    ")"
   ]
  },
  {
   "cell_type": "markdown",
   "metadata": {},
   "source": [
    "## Analysis\n",
    "\n",
    "The most important performace metric is perfect prediction accuracy; it describes how well the model can actually function as a \"bug fixer\". The control model (trained only with AbstractMethods) performs significantly better than any of the models trained with EditOperations in this regard, no matter the models' training parameters. These results give evidence that training NMT models with EditOperations is not beneficial over the standard approach. There is a negligible difference between the accuracies of models trained with basic, strictly, and loosely condensed EditOperations, which suggests that condensing the EditOperations does not affect the perfect prediction accuracy.\n",
    "\n",
    "Another model performance metric is edit distance decrease (EDD). The geater this value, the closer the models' predictions approach the true fixed methods (i.e. higher = better). Surprisingly, every single model had a negative average EDD, meaning that all the models predicted methods that were further away from the true fixed methods than the original buggy methods were. The control models had the highest average EDDs overall, although the average EDDs of the strict and loose models are very comparable to those of the control models. Furthermore, the strict and loose models performed much better than the basic models in this regard, suggesting that it is helpful to condense the EditOperations before training. However, since the average EDD for all models was negative, EDD may not be a helpful metric by which to measure model performance.\n",
    "\n",
    "## Conclusions\n",
    "\n",
    "It is evidenced that...\n",
    "\n",
    "- using EditOperations to train NMT models does **not** offer advantages over the standard approach.\n",
    "- if the NMT models are trained with EditOperations, then it is advantageous to train using strictly or loosely condensed EditOperations over the basic condensed EditOperations."
   ]
  }
 ],
 "metadata": {
  "kernelspec": {
   "display_name": "Python 3",
   "language": "python",
   "name": "python3"
  }
 },
 "nbformat": 4,
 "nbformat_minor": 2
}
