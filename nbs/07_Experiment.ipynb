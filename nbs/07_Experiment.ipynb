{
 "cells": [
  {
   "cell_type": "code",
   "execution_count": null,
   "metadata": {},
   "outputs": [],
   "source": [
    "#default_exp Experiment"
   ]
  },
  {
   "cell_type": "code",
   "execution_count": null,
   "metadata": {},
   "outputs": [],
   "source": [
    "#hide\n",
    "#export\n",
    "from typing import Dict, Any, List\n",
    "import pandas as pd\n",
    "\n",
    "import sys\n",
    "sys.path.append(\"..\")\n",
    "\n",
    "from hephaestus.AbstractMethod import *\n",
    "from hephaestus.IOUtils import *\n",
    "from hephaestus.DatasetConstruction import *\n",
    "from hephaestus.HephaestusModel import *\n",
    "from hephaestus.TrainModels import *"
   ]
  },
  {
   "cell_type": "markdown",
   "metadata": {},
   "source": [
    "# Experiment\n",
    "\n",
    "> This is where the science happens. Which model is best? Is it actually beneficial to use EditOperations over raw token sequences when training an NMT model?"
   ]
  },
  {
   "cell_type": "code",
   "execution_count": null,
   "metadata": {},
   "outputs": [],
   "source": [
    "#export\n",
    "class HephaestusModelEvaluation:\n",
    "    \"\"\"\n",
    "    Helper class to centralize computations when evaluating the effectiveness of a `HephaestusModel`.\n",
    "    \n",
    "    Required Arguments:\n",
    "    \n",
    "    - `model`: The `HephaestusModel` to evaluate\n",
    "    - `testSourceMethods`: A list of AbstractMethods representing the buggy abstract methods in the testing set. These\n",
    "      methods should not appear at all in the training or validation sets that were used to train the model.\n",
    "    - `testTargetMethods`: A list of AbstractMethods representing the fixed abstract methods in the testing set. These\n",
    "      methods should not appear at all in the training or validation sets that were used to train the model.\n",
    "    \n",
    "    Optional Arguments:\n",
    "    \n",
    "    - `isControl`: Set to `True` if the model represents the control, i.e. the model was trained purely with\n",
    "      AbstractMethods and not with EditOperations. Defaults to `False`.\n",
    "  \n",
    "    Once created, the `HephaestusModelEvaluation` will contain the following attributes which can be freely accessed:\n",
    "    \n",
    "    - `outputMethods`: A list of AbstractMethods which were translated from the given buggy (source) AbstractMethods.\n",
    "      These represent the model's predictions of what it thinks the fixed methods are. Some of these entries may be\n",
    "      `None`, representing failed predictions.\n",
    "    - `numPerfectPredictions`: The number of `outputMethods` whose tokens exactly match the actual fixed method according\n",
    "      to the provided `testTargetMethods`.\n",
    "    - `perfectPredictionRatio`: The ratio of perfect predictions to total predictions, in the range [0, 1].\n",
    "    - `numFailedPredictions`: The number of `outputMethods` which were not able to be predicted due to ill-formed\n",
    "      EditOperations or other factors. These are represented by `None` values in `outputMethods`.\n",
    "    - `failedPredictionRatio`: The ratio of failed predictions to total predictions, in the range [0, 1].\n",
    "    - `trainingStats`: A Pandas DataFrame representing model information while it was training, as in\n",
    "      `HephaestusModel.getTrainingStats`.\n",
    "    \"\"\"\n",
    "\n",
    "    def __init__(self, \n",
    "        model: HephaestusModel,\n",
    "        testSourceMethods: List[AbstractMethod],\n",
    "        testTargetMethods: List[AbstractMethod],\n",
    "        isControl: bool = False\n",
    "    ) -> None:\n",
    "\n",
    "        # use the model to determine output methods\n",
    "        self.outputMethods = model.translate(testSourceMethods, applyEditOperations = not isControl)\n",
    "\n",
    "        # sanity check -- make sure that the lengths of all lists of methods are equal\n",
    "        if not len(testSourceMethods) == len(testTargetMethods) == len(self.outputMethods):\n",
    "            raise RuntimeError(\"HephaestusModelEvaluation: method number mismatch\")\n",
    "        \n",
    "        # determine number of perfect predictions and failed predictions\n",
    "        self.numPerfectPredictions = 0\n",
    "        self.numFailedPredictions = 0\n",
    "        for outputMethod, targetMethod in zip(self.outputMethods, testTargetMethods):\n",
    "            if outputMethod == targetMethod:\n",
    "                self.numPerfectPredictions += 1\n",
    "            if outputMethod is None:\n",
    "                self.numFailedPredictions += 1\n",
    "        \n",
    "        # obtain perfect prediction and failed prediction ratios\n",
    "        self.perfectPredictionRatio = self.numPerfectPredictions / len(self.outputMethods)\n",
    "        self.failedPredictionRatio = self.numFailedPredictions / len(self.outputMethods)\n",
    "        \n",
    "        # get the training statistics\n",
    "        self.trainingStats = model.getTrainingStats()"
   ]
  },
  {
   "cell_type": "markdown",
   "metadata": {},
   "source": [
    "## Helper functions"
   ]
  },
  {
   "cell_type": "code",
   "execution_count": null,
   "metadata": {},
   "outputs": [],
   "source": [
    "#export\n",
    "def plotTrainingAccuracies(\n",
    "    evaluations: List[HephaestusModelEvaluation],\n",
    "    lineLabels: List[str],\n",
    "    title: str\n",
    ") -> None:\n",
    "    \"\"\"\n",
    "    Plots the training accuracies of the given `evaluations` as a line graph per training step. The line labels are the\n",
    "    given `lineLabels`. The title is the given `title`.\n",
    "    \"\"\"\n",
    "    \n",
    "    # create dataframe\n",
    "    data = {}\n",
    "    for evaluation, label in zip(evaluations, lineLabels):\n",
    "        data[label] = evaluation.trainingStats[\"trainAccuracy\"].to_list()\n",
    "    frame = pd.DataFrame(data, index = evaluations[0].trainingStats[\"step\"].to_list())\n",
    "    \n",
    "    # create plot\n",
    "    plot = frame.plot.line(\n",
    "        title = title,\n",
    "        xlabel = \"Training Step\",\n",
    "        ylabel = \"Training Accuracy %\",\n",
    "        grid = True\n",
    "    )"
   ]
  },
  {
   "cell_type": "code",
   "execution_count": null,
   "metadata": {},
   "outputs": [],
   "source": [
    "#export\n",
    "def plotPerfectPredictionAccuracies(\n",
    "    evaluations: List[HephaestusModelEvaluation],\n",
    "    xLabels: List[str],\n",
    "    title: str\n",
    ") -> pd.DataFrame:\n",
    "    \"\"\"\n",
    "    Plots the perfect prediction accuracies of the given `evaluations` as a bar graph. The x-axis labels are the\n",
    "    given `xlabels`. The title of the graph is the given `title`. Returns the dataframe used to create the graph.\n",
    "    \"\"\"\n",
    "    \n",
    "    # create dataframe\n",
    "    frame = pd.DataFrame({\n",
    "        \"model\": xLabels,\n",
    "        \"accuracy\": [100 * e.perfectPredictionRatio for e in evaluations]\n",
    "    })\n",
    "\n",
    "    # create plot\n",
    "    plot = frame.plot.bar(\n",
    "        x = \"model\",\n",
    "        y = \"accuracy\",\n",
    "        ylim = (0, max(frame[\"accuracy\"] + 2)),\n",
    "        xlabel = \"Model\",\n",
    "        ylabel = \"Perfect Prediction Accuracy %\",\n",
    "        title = title,\n",
    "        rot = 0\n",
    "    )\n",
    "\n",
    "    # annotate the bars with their values\n",
    "    for p in plot.patches:\n",
    "        plot.annotate(\"{:.1f}%\".format(p.get_height()), (p.get_x() + 0.1, p.get_height() + 0.5))\n",
    "    \n",
    "    return frame"
   ]
  },
  {
   "cell_type": "code",
   "execution_count": null,
   "metadata": {},
   "outputs": [],
   "source": [
    "#export\n",
    "def plotFailedPredictionRates(\n",
    "    evaluations: List[HephaestusModelEvaluation],\n",
    "    xLabels: List[str],\n",
    "    title: str\n",
    ") -> pd.DataFrame:\n",
    "    \"\"\"\n",
    "    Plots the failed prediction rates of the given `evaluations` as a bar graph. The x-axis labels are the\n",
    "    given `xlabels`. The title of the graph is the given `title`. Returns the dataframe used to create the graph.\n",
    "    \"\"\"\n",
    "    \n",
    "    # create dataframe\n",
    "    frame = pd.DataFrame({\n",
    "        \"model\": xLabels,\n",
    "        \"rate\": [100 * e.failedPredictionRatio for e in evaluations]\n",
    "    })\n",
    "\n",
    "    # create plot\n",
    "    plot = frame.plot.bar(\n",
    "        x = \"model\",\n",
    "        y = \"rate\",\n",
    "        ylim = (0, max(frame[\"rate\"] + 0.5)),\n",
    "        xlabel = \"Model\",\n",
    "        ylabel = \"Failed Prediction Rate %\",\n",
    "        title = title,\n",
    "        rot = 0\n",
    "    )\n",
    "\n",
    "    # annotate the bars with their values\n",
    "    for p in plot.patches:\n",
    "        plot.annotate(\"{:.2f}%\".format(p.get_height()), (p.get_x() + 0.08, p.get_height() + 0.03))\n",
    "    \n",
    "    return frame"
   ]
  },
  {
   "cell_type": "markdown",
   "metadata": {},
   "source": [
    "## Preparation\n",
    "\n",
    "Collect buggy and fixed methods from the testing dataset. These AbstractMethods do not appear at all in the training or validation data."
   ]
  },
  {
   "cell_type": "code",
   "execution_count": null,
   "metadata": {},
   "outputs": [],
   "source": [
    "testBuggyMethods = readAbstractMethodsFromFile(DATA_SMALL_METHODS_TEST_BUGGY)\n",
    "testFixedMethods = readAbstractMethodsFromFile(DATA_SMALL_METHODS_TEST_FIXED)"
   ]
  },
  {
   "cell_type": "markdown",
   "metadata": {},
   "source": [
    "## Default Parameters\n",
    "\n",
    "Get the `HephaestusModelEvaluation` for each model which was trained with the deafault parameters."
   ]
  },
  {
   "cell_type": "code",
   "execution_count": null,
   "metadata": {},
   "outputs": [
    {
     "name": "stdout",
     "output_type": "stream",
     "text": [
      "[2021-04-24 17:00:31,844 INFO] Translating shard 0.\n",
      "[2021-04-24 17:01:06,728 INFO] PRED AVG SCORE: -0.0585, PRED PPL: 1.0603\n"
     ]
    }
   ],
   "source": [
    "#collapse_output\n",
    "controlEvaluation = HephaestusModelEvaluation(\n",
    "    HephaestusModel(MODEL_DEFAULT_CONTROL),\n",
    "    testBuggyMethods,\n",
    "    testFixedMethods,\n",
    "    isControl = True\n",
    ")"
   ]
  },
  {
   "cell_type": "code",
   "execution_count": null,
   "metadata": {},
   "outputs": [
    {
     "name": "stdout",
     "output_type": "stream",
     "text": [
      "[2021-04-24 16:59:22,623 INFO] Translating shard 0.\n",
      "[2021-04-24 17:00:25,716 INFO] PRED AVG SCORE: -0.0683, PRED PPL: 1.0707\n"
     ]
    }
   ],
   "source": [
    "#collapse_output\n",
    "basicEvaluation = HephaestusModelEvaluation(\n",
    "    HephaestusModel(MODEL_DEFAULT_BASIC),\n",
    "    testBuggyMethods,\n",
    "    testFixedMethods\n",
    ")"
   ]
  },
  {
   "cell_type": "code",
   "execution_count": null,
   "metadata": {},
   "outputs": [
    {
     "name": "stdout",
     "output_type": "stream",
     "text": [
      "[2021-04-24 17:01:12,162 INFO] Translating shard 0.\n",
      "[2021-04-24 17:01:35,413 INFO] PRED AVG SCORE: -0.4507, PRED PPL: 1.5694\n"
     ]
    }
   ],
   "source": [
    "#collapse_output\n",
    "strictEvaluation = HephaestusModelEvaluation(\n",
    "    HephaestusModel(MODEL_DEFAULT_STRICT),\n",
    "    testBuggyMethods,\n",
    "    testFixedMethods\n",
    ")"
   ]
  },
  {
   "cell_type": "code",
   "execution_count": null,
   "metadata": {},
   "outputs": [
    {
     "name": "stdout",
     "output_type": "stream",
     "text": [
      "[2021-04-24 17:01:41,084 INFO] Translating shard 0.\n",
      "[2021-04-24 17:02:01,205 INFO] PRED AVG SCORE: -0.4528, PRED PPL: 1.5728\n"
     ]
    }
   ],
   "source": [
    "#collapse_output\n",
    "looseEvaluation = HephaestusModelEvaluation(\n",
    "    HephaestusModel(MODEL_DEFAULT_LOOSE),\n",
    "    testBuggyMethods,\n",
    "    testFixedMethods\n",
    ")"
   ]
  },
  {
   "cell_type": "markdown",
   "metadata": {},
   "source": [
    "### Training Accuracies\n",
    "\n",
    "What were the training accuracies of the models?"
   ]
  },
  {
   "cell_type": "code",
   "execution_count": null,
   "metadata": {},
   "outputs": [
    {
     "data": {
      "image/png": "[encoded data removed]",
      "text/plain": [
       "<Figure size 432x288 with 1 Axes>"
      ]
     },
     "metadata": {
      "needs_background": "light"
     },
     "output_type": "display_data"
    }
   ],
   "source": [
    "plotTrainingAccuracies(\n",
    "    evaluations = [controlEvaluation, basicEvaluation, strictEvaluation, looseEvaluation],\n",
    "    lineLabels =  [\"control\",         \"basic\",         \"strict\",         \"loose\"],\n",
    "    title = \"Training Accuracies of Models Trained with Default Parameters\"\n",
    ")"
   ]
  },
  {
   "cell_type": "markdown",
   "metadata": {},
   "source": [
    "### Perfect prediction accuracies"
   ]
  },
  {
   "cell_type": "markdown",
   "metadata": {},
   "source": [
    "How good were the models at fixing the bugs in the buggy AbstractMethods exactly as the developers did?"
   ]
  },
  {
   "cell_type": "code",
   "execution_count": null,
   "metadata": {},
   "outputs": [
    {
     "data": {
      "text/html": [
       "<div>\n",
       "<style scoped>\n",
       "    .dataframe tbody tr th:only-of-type {\n",
       "        vertical-align: middle;\n",
       "    }\n",
       "\n",
       "    .dataframe tbody tr th {\n",
       "        vertical-align: top;\n",
       "    }\n",
       "\n",
       "    .dataframe thead th {\n",
       "        text-align: right;\n",
       "    }\n",
       "</style>\n",
       "<table border=\"1\" class=\"dataframe\">\n",
       "  <thead>\n",
       "    <tr style=\"text-align: right;\">\n",
       "      <th></th>\n",
       "      <th>model</th>\n",
       "      <th>accuracy</th>\n",
       "    </tr>\n",
       "  </thead>\n",
       "  <tbody>\n",
       "    <tr>\n",
       "      <th>0</th>\n",
       "      <td>control</td>\n",
       "      <td>14.721508</td>\n",
       "    </tr>\n",
       "    <tr>\n",
       "      <th>1</th>\n",
       "      <td>basic</td>\n",
       "      <td>7.986290</td>\n",
       "    </tr>\n",
       "    <tr>\n",
       "      <th>2</th>\n",
       "      <td>strict</td>\n",
       "      <td>7.146530</td>\n",
       "    </tr>\n",
       "    <tr>\n",
       "      <th>3</th>\n",
       "      <td>loose</td>\n",
       "      <td>7.180805</td>\n",
       "    </tr>\n",
       "  </tbody>\n",
       "</table>\n",
       "</div>"
      ],
      "text/plain": [
       "     model   accuracy\n",
       "0  control  14.721508\n",
       "1    basic   7.986290\n",
       "2   strict   7.146530\n",
       "3    loose   7.180805"
      ]
     },
     "execution_count": null,
     "metadata": {},
     "output_type": "execute_result"
    },
    {
     "data": {
      "image/png": "[encoded data removed]",
      "text/plain": [
       "<Figure size 432x288 with 1 Axes>"
      ]
     },
     "metadata": {
      "needs_background": "light"
     },
     "output_type": "display_data"
    }
   ],
   "source": [
    "plotPerfectPredictionAccuracies(\n",
    "    evaluations = [controlEvaluation, basicEvaluation, strictEvaluation, looseEvaluation],\n",
    "    xLabels =     [\"control\",         \"basic\",         \"strict\",         \"loose\"],\n",
    "    title = \"Perfect Prediction Accuracies of Models Trained with Default Parameters\"\n",
    ")"
   ]
  },
  {
   "cell_type": "markdown",
   "metadata": {},
   "source": [
    "### Failed prediction rates\n",
    "\n",
    "How often did the models fail to output an `AbstractMethod`?"
   ]
  },
  {
   "cell_type": "code",
   "execution_count": null,
   "metadata": {},
   "outputs": [
    {
     "data": {
      "text/html": [
       "<div>\n",
       "<style scoped>\n",
       "    .dataframe tbody tr th:only-of-type {\n",
       "        vertical-align: middle;\n",
       "    }\n",
       "\n",
       "    .dataframe tbody tr th {\n",
       "        vertical-align: top;\n",
       "    }\n",
       "\n",
       "    .dataframe thead th {\n",
       "        text-align: right;\n",
       "    }\n",
       "</style>\n",
       "<table border=\"1\" class=\"dataframe\">\n",
       "  <thead>\n",
       "    <tr style=\"text-align: right;\">\n",
       "      <th></th>\n",
       "      <th>model</th>\n",
       "      <th>rate</th>\n",
       "    </tr>\n",
       "  </thead>\n",
       "  <tbody>\n",
       "    <tr>\n",
       "      <th>0</th>\n",
       "      <td>control</td>\n",
       "      <td>0.000000</td>\n",
       "    </tr>\n",
       "    <tr>\n",
       "      <th>1</th>\n",
       "      <td>basic</td>\n",
       "      <td>0.377035</td>\n",
       "    </tr>\n",
       "    <tr>\n",
       "      <th>2</th>\n",
       "      <td>strict</td>\n",
       "      <td>0.274207</td>\n",
       "    </tr>\n",
       "    <tr>\n",
       "      <th>3</th>\n",
       "      <td>loose</td>\n",
       "      <td>0.582691</td>\n",
       "    </tr>\n",
       "  </tbody>\n",
       "</table>\n",
       "</div>"
      ],
      "text/plain": [
       "     model      rate\n",
       "0  control  0.000000\n",
       "1    basic  0.377035\n",
       "2   strict  0.274207\n",
       "3    loose  0.582691"
      ]
     },
     "execution_count": null,
     "metadata": {},
     "output_type": "execute_result"
    },
    {
     "data": {
      "image/png": "[encoded data removed]",
      "text/plain": [
       "<Figure size 432x288 with 1 Axes>"
      ]
     },
     "metadata": {
      "needs_background": "light"
     },
     "output_type": "display_data"
    }
   ],
   "source": [
    "plotFailedPredictionRates(\n",
    "    evaluations = [controlEvaluation, basicEvaluation, strictEvaluation, looseEvaluation],\n",
    "    xLabels =     [\"control\",         \"basic\",         \"strict\",         \"loose\"],\n",
    "    title = \"Failed Prediction Rates of Models Trained with Default Parameters\"\n",
    ")"
   ]
  },
  {
   "cell_type": "markdown",
   "metadata": {},
   "source": [
    "### Analysis\n",
    "\n",
    "The perfect prediction accuracy is the most important metric here; it describes how well the model can actually function as a \"bug fixer\". The control model (trained only with AbstractMethods) performs significantly better than any of the models trained with EditOperations in this regard. These perliminary results give evidence that training NMT models with EditOperations is not beneficial over the standard approach."
   ]
  }
 ],
 "metadata": {
  "kernelspec": {
   "display_name": "Python 3",
   "language": "python",
   "name": "python3"
  }
 },
 "nbformat": 4,
 "nbformat_minor": 2
}
