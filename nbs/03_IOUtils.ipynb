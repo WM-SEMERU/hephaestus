{
 "cells": [
  {
   "cell_type": "code",
   "execution_count": null,
   "metadata": {},
   "outputs": [],
   "source": [
    "#default_exp IOUtils"
   ]
  },
  {
   "cell_type": "code",
   "execution_count": null,
   "metadata": {},
   "outputs": [],
   "source": [
    "#export\n",
    "#hide\n",
    "from typing import List, Iterable\n",
    "import re\n",
    "import subprocess\n",
    "import sys\n",
    "\n",
    "import sys\n",
    "sys.path.append(\"..\")\n",
    "\n",
    "from hephaestus.AbstractMethod import *"
   ]
  },
  {
   "cell_type": "markdown",
   "metadata": {},
   "source": [
    "# IOUtils\n",
    "\n",
    "> Defines utility functions for input/output."
   ]
  },
  {
   "cell_type": "code",
   "execution_count": null,
   "metadata": {},
   "outputs": [],
   "source": [
    "#export\n",
    "def readAbstractMethodsFromFile(file: str) -> List[AbstractMethod]:\n",
    "    \"\"\"\n",
    "    Returns a list of `AbstractMethods` read from the given `file`. The file should have one `AbstractMethod`\n",
    "    per line with tokens separated by spaces.\n",
    "    \"\"\"\n",
    "    \n",
    "    abstractMethods = []\n",
    "\n",
    "    with open(file, \"r\") as f:\n",
    "        for line in f:\n",
    "            abstractMethods.append(AbstractMethod(line.strip()))\n",
    "    \n",
    "    return abstractMethods"
   ]
  },
  {
   "cell_type": "code",
   "execution_count": null,
   "metadata": {},
   "outputs": [],
   "source": [
    "#export\n",
    "def writeAbstractMethodsToFile(file: str, abstractMethods: List[AbstractMethod]) -> None:\n",
    "    \"\"\"\n",
    "    Writes the given `abstractMethods` to the given `file` such that one `AbstractMethod` is written per line.\n",
    "    \"\"\"\n",
    "\n",
    "    with open(file, \"w\") as f:\n",
    "\n",
    "        for i in range(len(abstractMethods)):\n",
    "\n",
    "            f.write(str(abstractMethods[i]))\n",
    "            \n",
    "            if i < len(abstractMethods) - 1:\n",
    "                f.write(\"\\n\")"
   ]
  },
  {
   "cell_type": "code",
   "execution_count": null,
   "metadata": {},
   "outputs": [],
   "source": [
    "#export\n",
    "#hide\n",
    "def getYamlParameter(yamlFile: str, key: str) -> str:\n",
    "    \"\"\"\n",
    "    Returns the value of the given `key` in the given `yamlFile`. If the parameter was not found,\n",
    "    Returns None.\n",
    "    \"\"\"\n",
    "\n",
    "    with open(yamlFile, \"r\") as file:\n",
    "        for line in file:\n",
    "            match = re.search(r\"^\\s*\" + key + r\"\\s*:\\s*(.+)\", line)\n",
    "            if (match):\n",
    "                return match.group(1).strip()\n",
    "    \n",
    "    return None"
   ]
  },
  {
   "cell_type": "code",
   "execution_count": null,
   "metadata": {},
   "outputs": [],
   "source": [
    "#export\n",
    "#hide\n",
    "def runCommand(command: Iterable[str]) -> str:\n",
    "    \"\"\"\n",
    "    Runs the given command in the shell and continuously prints its output. If the command failed, raises\n",
    "    a ProcessException.\n",
    "    \"\"\"\n",
    "\n",
    "    # run the command\n",
    "    process = subprocess.Popen(command, shell = True, stdout = subprocess.PIPE, stderr = subprocess.STDOUT)\n",
    "\n",
    "    while True:\n",
    "\n",
    "        line = process.stdout.readline()\n",
    "\n",
    "        # break out if the process has finished and there is no more output to print\n",
    "        if process.poll() is not None and line == b\"\":\n",
    "            break\n",
    "    \n",
    "        sys.stdout.write(line)\n",
    "        sys.stdout.flush()\n",
    "    \n",
    "    exitCode = process.returncode\n",
    "\n",
    "    if exitCode != 0:\n",
    "        raise subprocess.CalledProcessError(exitCode, command, \"\")"
   ]
  }
 ],
 "metadata": {
  "kernelspec": {
   "display_name": "Python 3",
   "language": "python",
   "name": "python3"
  }
 },
 "nbformat": 4,
 "nbformat_minor": 2
}
