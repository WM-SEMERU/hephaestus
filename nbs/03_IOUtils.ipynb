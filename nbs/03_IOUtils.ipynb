{
 "cells": [
  {
   "cell_type": "code",
   "execution_count": null,
   "metadata": {},
   "outputs": [],
   "source": [
    "#default_exp IOUtils"
   ]
  },
  {
   "cell_type": "code",
   "execution_count": null,
   "metadata": {},
   "outputs": [],
   "source": [
    "#export\n",
    "#hide\n",
    "from typing import List, Iterable, Optional\n",
    "import re\n",
    "import subprocess\n",
    "\n",
    "import sys\n",
    "sys.path.append(\"..\")\n",
    "\n",
    "from hephaestus.AbstractMethod import *\n",
    "from hephaestus.EditOperations import *"
   ]
  },
  {
   "cell_type": "markdown",
   "metadata": {},
   "source": [
    "# IOUtils\n",
    "\n",
    "> Defines utility functions for input/output."
   ]
  },
  {
   "cell_type": "code",
   "execution_count": null,
   "metadata": {},
   "outputs": [],
   "source": [
    "#export\n",
    "def readAbstractMethodsFromFile(file: str) -> List[AbstractMethod]:\n",
    "    \"\"\"\n",
    "    Returns a list of `AbstractMethods` read from the given `file`. The file should have one `AbstractMethod`\n",
    "    per line with tokens separated by spaces.\n",
    "    \"\"\"\n",
    "    \n",
    "    abstractMethods = []\n",
    "\n",
    "    with open(file, \"r\") as f:\n",
    "        for line in f:\n",
    "            abstractMethods.append(AbstractMethod(line.strip()))\n",
    "    \n",
    "    return abstractMethods"
   ]
  },
  {
   "cell_type": "code",
   "execution_count": null,
   "metadata": {},
   "outputs": [],
   "source": [
    "#export\n",
    "def writeAbstractMethodsToFile(file: str, abstractMethods: List[AbstractMethod]) -> None:\n",
    "    \"\"\"\n",
    "    Writes the given `abstractMethods` to the given `file` such that one `AbstractMethod` is written per line.\n",
    "    \"\"\"\n",
    "\n",
    "    with open(file, \"w\") as f:\n",
    "\n",
    "        for i in range(len(abstractMethods)):\n",
    "\n",
    "            f.write(str(abstractMethods[i]))\n",
    "            \n",
    "            if i < len(abstractMethods) - 1:\n",
    "                f.write(\"\\n\")"
   ]
  },
  {
   "cell_type": "code",
   "execution_count": null,
   "metadata": {},
   "outputs": [],
   "source": [
    "#export\n",
    "def readCompoundOperationsFromFile(file: str) -> List[Optional[List[CompoundOperation]]]:\n",
    "    \"\"\"\n",
    "    Returns a list of lists of CompoundOperations read from the given `file`. Each line in the file represents a\n",
    "    list of CompoundOperations in machine string format, as in the file written by `writeCompoundOperationsToFile`.\n",
    "    If a line is unable to be parsed into a list of CompoundOperations, then that list is instead represented by\n",
    "    `None`. This is different from an empty list, which represents a line with no CompoundOperations.\n",
    "    \"\"\"\n",
    "\n",
    "    operations = []\n",
    "\n",
    "    with open(file, \"r\") as f:\n",
    "\n",
    "        for line in f:\n",
    "\n",
    "            lineOps = []\n",
    "\n",
    "            # continue as long as there is stuff left in the line and there hasn't been a parse failure\n",
    "            while line != \"\" and lineOps is not None:\n",
    "\n",
    "                # match the beginning of the line to the machine string pattern\n",
    "                line = line.strip()\n",
    "                match = re.search(r\"^<op>.*?</op>\", line)\n",
    "\n",
    "                # if the match succeeded, then attempt to remove the operation from the line and add it to lineOps\n",
    "                if match:\n",
    "                    try:\n",
    "                        lineOps.append(CompoundOperation.FromMachineString(match.group(0)))\n",
    "                        line = line[len(match.group(0)):]\n",
    "                    except ValueError:\n",
    "                        lineOps = None\n",
    "                \n",
    "                # if the match didn't succeed and there is stuff left on the line, then this line is invalid\n",
    "                elif line != \"\":\n",
    "                    lineOps = None\n",
    "            \n",
    "            operations.append(lineOps)\n",
    "\n",
    "    return operations"
   ]
  },
  {
   "cell_type": "code",
   "execution_count": null,
   "metadata": {},
   "outputs": [],
   "source": [
    "#export\n",
    "def writeCompoundOperationsToFile(file: str, operations: List[List[CompoundOperation]]) -> None:\n",
    "    \"\"\"\n",
    "    Writes the given list of lists of CompoundOperations to the given `file`. Each list of operations occupies one\n",
    "    line. Operations are represented by their machine strings.\n",
    "    \"\"\"\n",
    "\n",
    "    with open(file, \"w\") as f:\n",
    "\n",
    "        for i in range(len(operations)):\n",
    "            \n",
    "            for j in range(len(operations[i])):\n",
    "\n",
    "                f.write(operations[i][j].getMachineString())\n",
    "\n",
    "                if j < len(operations[i]) - 1:\n",
    "                    f.write(\" \")\n",
    "            \n",
    "            if i < len(operations) - 1:\n",
    "                f.write(\"\\n\")"
   ]
  },
  {
   "cell_type": "code",
   "execution_count": null,
   "metadata": {},
   "outputs": [],
   "source": [
    "#export\n",
    "#hide\n",
    "def getYamlParameter(yamlFile: str, key: str) -> str:\n",
    "    \"\"\"\n",
    "    Returns the value of the given `key` in the given `yamlFile`. If the parameter was not found,\n",
    "    Returns None.\n",
    "    \"\"\"\n",
    "\n",
    "    with open(yamlFile, \"r\") as file:\n",
    "        for line in file:\n",
    "            match = re.search(r\"^\\s*\" + key + r\"\\s*:\\s*(.+?)(?:\\s+#|$)\", line)\n",
    "            if (match):\n",
    "                return match.group(1).strip()\n",
    "    \n",
    "    return None"
   ]
  },
  {
   "cell_type": "code",
   "execution_count": null,
   "metadata": {},
   "outputs": [],
   "source": [
    "#export\n",
    "#hide\n",
    "def runCommand(command: Iterable[str]) -> str:\n",
    "    \"\"\"\n",
    "    Runs the given command in the shell and continuously prints its output. If the command failed, raises\n",
    "    a ProcessException. Returns the command output.\n",
    "    \"\"\"\n",
    "\n",
    "    # run the command\n",
    "    process = subprocess.Popen(command, shell = True, stdout = subprocess.PIPE, stderr = subprocess.STDOUT)\n",
    "    output = \"\"\n",
    "\n",
    "    while True:\n",
    "\n",
    "        line = process.stdout.readline()\n",
    "\n",
    "        # break out if the process has finished and there is no more output to print\n",
    "        if process.poll() is not None and line == b\"\":\n",
    "            break\n",
    "    \n",
    "        sys.stdout.write(line)\n",
    "        sys.stdout.flush()\n",
    "        output += line.decode()\n",
    "    \n",
    "    exitCode = process.returncode\n",
    "\n",
    "    if exitCode == 0:\n",
    "        return output\n",
    "    \n",
    "    raise subprocess.CalledProcessError(exitCode, command, output)"
   ]
  }
 ],
 "metadata": {
  "kernelspec": {
   "display_name": "Python 3.9.4 64-bit",
   "name": "python38564bit1ada39ffdf0c4119935a34ccde4922f3"
  }
 },
 "nbformat": 4,
 "nbformat_minor": 2
}
